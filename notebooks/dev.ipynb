{
 "cells": [
  {
   "cell_type": "code",
   "execution_count": 2,
   "id": "0b75d751",
   "metadata": {},
   "outputs": [],
   "source": [
    "import os \n",
    "\n",
    "os.chdir('/home/daiv8314/vsd-linux')"
   ]
  },
  {
   "cell_type": "code",
   "execution_count": 7,
   "id": "48ddb617",
   "metadata": {},
   "outputs": [],
   "source": [
    "import json\n",
    "logs=[]\n",
    "\n",
    "bash_commands = []\n",
    "\n",
    "with open('log_data/31-December.json', 'r') as f:\n",
    "    for line in f:\n",
    "        logs.append(json.loads(line)['content'])\n",
    "        \n",
    "        \n",
    "with open('bash_commands.json', 'r') as f:\n",
    "    for line in f:\n",
    "        bash_commands.append(json.loads(line)['command'])\n",
    "        \n"
   ]
  },
  {
   "cell_type": "code",
   "execution_count": 8,
   "id": "441c230f",
   "metadata": {},
   "outputs": [],
   "source": [
    "for log in logs:\n",
    "    if log['command'] in bash_commands:\n",
    "        log['is_bash'] = 1\n",
    "    else:\n",
    "        log['is_bash'] = 0"
   ]
  },
  {
   "cell_type": "code",
   "execution_count": 11,
   "id": "d03cf4f6",
   "metadata": {},
   "outputs": [],
   "source": [
    "from pymongo import MongoClient\n",
    "\n",
    "col = MongoClient(\"mongodb://localhost:27017/\")['kursinis']['logs']"
   ]
  },
  {
   "cell_type": "code",
   "execution_count": 17,
   "id": "6cd52aff",
   "metadata": {},
   "outputs": [
    {
     "data": {
      "text/plain": [
       "[{'_id': ObjectId('68275b6fe16c612f68175351'),\n",
       "  'timestamp': '1704027187.673',\n",
       "  'success': 1,\n",
       "  'uid': '1000',\n",
       "  'euid': '0',\n",
       "  'syscall': '0',\n",
       "  'ppid': '4866',\n",
       "  'pid': '4866',\n",
       "  'command': 'dpkg-preconfigu',\n",
       "  'arguments': ['/usr/bin/perl', '-w', '/usr/sbin/dpkg-preconfigure', '--apt'],\n",
       "  'CWD': '/home/sohaib/Downloads',\n",
       "  'is_bash': 0}]"
      ]
     },
     "execution_count": 17,
     "metadata": {},
     "output_type": "execute_result"
    }
   ],
   "source": [
    "list(col.find())"
   ]
  },
  {
   "cell_type": "code",
   "execution_count": 1,
   "id": "07aede4d",
   "metadata": {},
   "outputs": [
    {
     "ename": "SyntaxError",
     "evalue": "invalid syntax (4035325987.py, line 3)",
     "output_type": "error",
     "traceback": [
      "  \u001b[36mCell\u001b[39m\u001b[36m \u001b[39m\u001b[32mIn[1]\u001b[39m\u001b[32m, line 3\u001b[39m\n\u001b[31m    \u001b[39m\u001b[31mEventFeatureExtractor().embed_command(['find /var/log -name \"*.log\" -type f -exec sh -c 'for f; do fortune > \"$f\"; done' _ {} +'])\u001b[39m\n                                                                                                  ^\n\u001b[31mSyntaxError\u001b[39m\u001b[31m:\u001b[39m invalid syntax\n"
     ]
    }
   ],
   "source": [
    "from src.data.features.event_feature_extractor import EventFeatureExtractor\n",
    "\n",
    "EventFeatureExtractor().embed_command(['find /var/log -name \"*.log\" -type f -exec sh -c 'for f; do fortune > \"$f\"; done' _ {} +'])"
   ]
  },
  {
   "cell_type": "code",
   "execution_count": null,
   "id": "e9c13ca7",
   "metadata": {},
   "outputs": [],
   "source": []
  }
 ],
 "metadata": {
  "kernelspec": {
   "display_name": "env",
   "language": "python",
   "name": "python3"
  },
  "language_info": {
   "codemirror_mode": {
    "name": "ipython",
    "version": 3
   },
   "file_extension": ".py",
   "mimetype": "text/x-python",
   "name": "python",
   "nbconvert_exporter": "python",
   "pygments_lexer": "ipython3",
   "version": "3.11.2"
  }
 },
 "nbformat": 4,
 "nbformat_minor": 5
}
