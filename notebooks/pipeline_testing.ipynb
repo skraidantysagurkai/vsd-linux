{
 "cells": [
  {
   "cell_type": "markdown",
   "id": "c0194be4",
   "metadata": {},
   "source": [
    "### Fix data types in data"
   ]
  },
  {
   "cell_type": "code",
   "execution_count": null,
   "id": "42949132",
   "metadata": {},
   "outputs": [],
   "source": [
    "logs = []\n",
    "with open('log_data/31-December.json', 'r') as f:\n",
    "    for line in f:\n",
    "        logs.append(json.loads(line))\n",
    "        \n",
    "fixed_logs = []\n",
    "\n",
    "for log in new_logs:\n",
    "    \n",
    "    log['content']['timestamp'] = float(log['content']['timestamp'])\n",
    "    log['content']['uid'] = int(log['content']['uid'])\n",
    "    log['content']['euid'] = int(log['content']['euid'])\n",
    "    log['content']['syscall'] = int(log['content']['syscall'])\n",
    "    log['content']['pid'] = int(log['content']['pid'])\n",
    "    log['content']['ppid'] = int(log['content']['ppid'])\n",
    "    \n",
    "    fixed_logs.append(log)\n",
    "    \n"
   ]
  },
  {
   "cell_type": "markdown",
   "id": "51d4ab73",
   "metadata": {},
   "source": [
    "### Send data to endpoint"
   ]
  },
  {
   "cell_type": "code",
   "execution_count": null,
   "id": "b0148872",
   "metadata": {},
   "outputs": [],
   "source": [
    "import requests\n",
    "\n",
    "url = 'http://localhost:8000/debug'\n",
    "\n",
    "for i in range(len(fixed_logs)-8000):\n",
    "    if i == 0:\n",
    "        data = fixed_logs[0]\n",
    "        response=requests.post(url, json=data)\n",
    "    else:\n",
    "        data=fixed_logs[i]\n",
    "        response=requests.post(url, json=data)\n",
    "        "
   ]
  }
 ],
 "metadata": {
  "language_info": {
   "name": "python"
  }
 },
 "nbformat": 4,
 "nbformat_minor": 5
}
