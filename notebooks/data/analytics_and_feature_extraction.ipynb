{
 "cells": [
  {
   "metadata": {
    "ExecuteTime": {
     "end_time": "2025-04-13T10:51:52.910524Z",
     "start_time": "2025-04-13T10:51:52.532692Z"
    }
   },
   "cell_type": "code",
   "source": [
    "%load_ext autoreload\n",
    "%autoreload 2"
   ],
   "id": "556c55ff106d6bda",
   "outputs": [],
   "execution_count": 1
  },
  {
   "metadata": {},
   "cell_type": "markdown",
   "source": "# ATT&CK DATASET",
   "id": "b5e62ca068fcf3bf"
  },
  {
   "metadata": {
    "ExecuteTime": {
     "end_time": "2025-03-27T12:35:17.863210Z",
     "start_time": "2025-03-27T12:35:16.295529Z"
    }
   },
   "cell_type": "code",
   "source": [
    "import pandas as pd\n",
    "from paths import DATA_DIR\n",
    "\n",
    "df = pd.read_csv(DATA_DIR / '03-04-January.csv')"
   ],
   "id": "cac77106d44aeb9b",
   "outputs": [
    {
     "name": "stderr",
     "output_type": "stream",
     "text": [
      "/tmp/ipykernel_2944/2239220378.py:4: DtypeWarning: Columns (37) have mixed types. Specify dtype option on import or set low_memory=False.\n",
      "  df = pd.read_csv(DATA_DIR / '03-04-January.csv')\n"
     ]
    }
   ],
   "execution_count": 2
  },
  {
   "metadata": {
    "ExecuteTime": {
     "end_time": "2025-03-27T12:35:17.900465Z",
     "start_time": "2025-03-27T12:35:17.865597Z"
    }
   },
   "cell_type": "code",
   "source": "df.shape",
   "id": "9c651604a2bc2708",
   "outputs": [
    {
     "data": {
      "text/plain": [
       "(8572, 82)"
      ]
     },
     "execution_count": 3,
     "metadata": {},
     "output_type": "execute_result"
    }
   ],
   "execution_count": 3
  },
  {
   "metadata": {
    "ExecuteTime": {
     "end_time": "2025-03-27T12:35:17.928175Z",
     "start_time": "2025-03-27T12:35:17.903405Z"
    }
   },
   "cell_type": "code",
   "source": "df.columns",
   "id": "704d936d4f63c745",
   "outputs": [
    {
     "data": {
      "text/plain": [
       "Index(['_index', '_id', '_version', '_score', '_source.agent.ip',\n",
       "       '_source.agent.name', '_source.agent.id', '_source.manager.name',\n",
       "       '_source.data.audit.syscall', '_source.data.audit.gid',\n",
       "       '_source.data.audit.fsgid', '_source.data.audit.session',\n",
       "       '_source.data.audit.pid', '_source.data.audit.suid',\n",
       "       '_source.data.audit.type', '_source.data.audit.uid',\n",
       "       '_source.data.audit.egid', '_source.data.audit.exe',\n",
       "       '_source.data.audit.file.inode', '_source.data.audit.file.mode',\n",
       "       '_source.data.audit.file.name', '_source.data.audit.sgid',\n",
       "       '_source.data.audit.id', '_source.data.audit.key',\n",
       "       '_source.data.audit.auid', '_source.data.audit.execve.a1',\n",
       "       '_source.data.audit.execve.a2', '_source.data.audit.execve.a0',\n",
       "       '_source.data.audit.euid', '_source.data.audit.command',\n",
       "       '_source.data.audit.ppid', '_source.data.audit.fsuid',\n",
       "       '_source.data.audit.exit', '_source.data.audit.cwd',\n",
       "       '_source.data.audit.success', '_source.data.audit.tty',\n",
       "       '_source.data.audit.arch', '_source.rule.firedtimes',\n",
       "       '_source.rule.mail', '_source.rule.level', '_source.rule.description',\n",
       "       '_source.rule.groups', '_source.rule.id', '_source.rule.gdpr',\n",
       "       '_source.decoder.parent', '_source.decoder.name', '_source.full_log',\n",
       "       '_source.input.type', '_source.@timestamp', '_source.location',\n",
       "       '_source.id', '_source.timestamp', '_source.predecoder.hostname',\n",
       "       '_source.predecoder.program_name', '_source.predecoder.timestamp',\n",
       "       '_source.data.uid', '_source.data.dstuser', '_source.rule.pci_dss',\n",
       "       '_source.rule.hipaa', '_source.rule.tsc', '_source.rule.nist_800_53',\n",
       "       '_source.rule.mitre.technique', '_source.rule.mitre.id',\n",
       "       '_source.rule.mitre.tactic', '_source.rule.gpg13',\n",
       "       '_source.data.audit.execve.a3', '_source.data.audit.execve.a4',\n",
       "       '_source.data.srcuser', '_source.data.tty', '_source.data.pwd',\n",
       "       '_source.data.command', '_source.decoder.ftscomment',\n",
       "       '_source.data.audit.execve.a5', '_source.data.audit.execve.a6',\n",
       "       '_source.data.audit.execve.a7', '_source.data.file',\n",
       "       '_source.data.title', '_source.previous_output', '_source.previous_log',\n",
       "       '_source.data.srcip', '_source.data.srcport',\n",
       "       '_source.data.extra_data'],\n",
       "      dtype='object')"
      ]
     },
     "execution_count": 4,
     "metadata": {},
     "output_type": "execute_result"
    }
   ],
   "execution_count": 4
  },
  {
   "metadata": {
    "ExecuteTime": {
     "end_time": "2025-03-27T12:35:21.358093Z",
     "start_time": "2025-03-27T12:35:21.329107Z"
    }
   },
   "cell_type": "code",
   "source": "len(df[df['_source.rule.mitre.tactic'].notna() & (df['_source.rule.mitre.tactic'] != ' ')])",
   "id": "74ee88a837d7a263",
   "outputs": [
    {
     "data": {
      "text/plain": [
       "45"
      ]
     },
     "execution_count": 5,
     "metadata": {},
     "output_type": "execute_result"
    }
   ],
   "execution_count": 5
  },
  {
   "metadata": {
    "ExecuteTime": {
     "end_time": "2025-03-27T12:35:22.227370Z",
     "start_time": "2025-03-27T12:35:22.224134Z"
    }
   },
   "cell_type": "code",
   "source": "",
   "id": "ed2cf2f611142c92",
   "outputs": [],
   "execution_count": 5
  },
  {
   "metadata": {
    "ExecuteTime": {
     "end_time": "2025-03-27T12:35:57.736226Z",
     "start_time": "2025-03-27T12:35:57.719812Z"
    }
   },
   "cell_type": "code",
   "source": "df['_source.rule.mitre.tactic'][0]",
   "id": "8ef7786148f77443",
   "outputs": [
    {
     "data": {
      "text/plain": [
       "' '"
      ]
     },
     "execution_count": 6,
     "metadata": {},
     "output_type": "execute_result"
    }
   ],
   "execution_count": 6
  },
  {
   "metadata": {
    "ExecuteTime": {
     "end_time": "2025-03-27T12:35:59.875962Z",
     "start_time": "2025-03-27T12:35:59.859276Z"
    }
   },
   "cell_type": "code",
   "source": "df[\"_source.full_log\"][0]",
   "id": "8a9c1896ac92b822",
   "outputs": [
    {
     "data": {
      "text/plain": [
       "'type=SYSCALL msg=audit(1704304027.612:3126): arch=c000003e syscall=59 success=yes exit=0 a0=55add673b8c0 a1=55add6790cb0 a2=55add688d700 a3=7fffd2f82c20 items=2 ppid=1 pid=4284 auid=4294967295 uid=0 gid=0 euid=0 suid=0 fsuid=0 egid=0 sgid=0 fsgid=0 tty=(none) ses=4294967295 comm=\"systemd-user-ru\" exe=\"/usr/lib/systemd/systemd-user-runtime-dir\" subj=unconfined key=\"audit-wazuh-c\"\\x1dARCH=x86_64 SYSCALL=execve AUID=\"unset\" UID=\"root\" GID=\"root\" EUID=\"root\" SUID=\"root\" FSUID=\"root\" EGID=\"root\" SGID=\"root\" FSGID=\"root\" type=EXECVE msg=audit(1704304027.612:3126): argc=3 a0=\"/lib/systemd/systemd-user-runtime-dir\" a1=\"start\" a2=\"1000\" type=CWD msg=audit(1704304027.612:3126): cwd=\"/\" type=PATH msg=audit(1704304027.612:3126): item=0 name=\"/lib/systemd/systemd-user-runtime-dir\" inode=273552 dev=08:03 mode=0100755 ouid=0 ogid=0 rdev=00:00 nametype=NORMAL cap_fp=0 cap_fi=0 cap_fe=0 cap_fver=0 cap_frootid=0\\x1dOUID=\"root\" OGID=\"root\" type=PATH msg=audit(1704304027.612:3126): item=1 name=\"/lib64/ld-linux-x86-64.so.2\" inode=264289 dev=08:03 mode=0100755 ouid=0 ogid=0 rdev=00:00 nametype=NORMAL cap_fp=0 cap_fi=0 cap_fe=0 cap_fver=0 cap_frootid=0\\x1dOUID=\"root\" OGID=\"root\" type=PROCTITLE msg=audit(1704304027.612:3126): proctitle=2F6C69622F73797374656D642F73797374656D642D757365722D72756E74696D652D6469720073746172740031303030'"
      ]
     },
     "execution_count": 7,
     "metadata": {},
     "output_type": "execute_result"
    }
   ],
   "execution_count": 7
  },
  {
   "metadata": {
    "ExecuteTime": {
     "end_time": "2025-03-27T12:36:28.844484Z",
     "start_time": "2025-03-27T12:36:28.823530Z"
    }
   },
   "cell_type": "code",
   "source": [
    "import re\n",
    "\n",
    "def parse_audit_log(log):\n",
    "    data = {}\n",
    "    \n",
    "    # Extract timestamp\n",
    "    timestamp_match = re.search(r'audit\\((\\d+\\.\\d+):\\d+\\)', log)\n",
    "    data['timestamp'] = timestamp_match.group(1) if timestamp_match else None\n",
    "    \n",
    "    # Extract success status\n",
    "    success_match = re.search(r'success=(\\w+)', log)\n",
    "    data['success'] = (1 if success_match.group(1) == 'yes' else 0) if success_match else None\n",
    "    \n",
    "    # Extract UID, EUID, AUID\n",
    "    uid_match = re.search(r'uid=(\\d+)', log)\n",
    "    euid_match = re.search(r'euid=(\\d+)', log)\n",
    "    auid_match = re.search(r'auid=(\\d+)', log)\n",
    "    \n",
    "    data['uid'] = uid_match.group(1) if uid_match else None\n",
    "    data['euid'] = euid_match.group(1) if euid_match else None\n",
    "    data['auid'] = auid_match.group(1) if auid_match else None\n",
    "    \n",
    "    # Extract process IDs\n",
    "    ppid_match = re.search(r'ppid=(\\d+)', log)\n",
    "    pid_match = re.search(r'pid=(\\d+)', log)\n",
    "    \n",
    "    data['ppid'] = ppid_match.group(1) if ppid_match else None\n",
    "    data['pid'] = pid_match.group(1) if pid_match else None\n",
    "    \n",
    "    # Extract command\n",
    "    command_match = re.search(r'comm=\"([^\"]+)\"', log)\n",
    "    data['command'] = command_match.group(1) if command_match else None\n",
    "    \n",
    "    # Extract arguments\n",
    "    args_match = re.findall(r'a\\d+=\"([^\"]+)\"', log)\n",
    "    data['arguments'] = args_match if args_match else None\n",
    "    \n",
    "    # Extract CWD\n",
    "    cwd_match = re.search(r'type=CWD.*?cwd=\"([^\"]+)\"', log)\n",
    "    data['CWD'] = cwd_match.group(1) if cwd_match else None\n",
    "    \n",
    "    return data\n",
    "\n",
    "# Example usage\n",
    "audit_log = 'type=SYSCALL msg=audit(1704304027.612:3126): arch=c000003e syscall=59 success=yes exit=0 a0=55add673b8c0 a1=55add6790cb0 a2=55add688d700 a3=7fffd2f82c20 items=2 ppid=1 pid=4284 auid=4294967295 uid=0 gid=0 euid=0 suid=0 fsuid=0 egid=0 sgid=0 fsgid=0 tty=(none) ses=4294967295 comm=\"systemd-user-ru\" exe=\"/usr/lib/systemd/systemd-user-runtime-dir\" subj=unconfined key=\"audit-wazuh-c\"\\x1dARCH=x86_64 SYSCALL=execve AUID=\"unset\" UID=\"root\" GID=\"root\" EUID=\"root\" SUID=\"root\" FSUID=\"root\" EGID=\"root\" SGID=\"root\" FSGID=\"root\" type=EXECVE msg=audit(1704304027.612:3126): argc=3 a0=\"/lib/systemd/systemd-user-runtime-dir\" a1=\"start\" a2=\"1000\" type=CWD msg=audit(1704304027.612:3126): cwd=\"/\"'\n",
    "\n",
    "print(parse_audit_log(audit_log))"
   ],
   "id": "a4e007b161293243",
   "outputs": [
    {
     "name": "stdout",
     "output_type": "stream",
     "text": [
      "{'timestamp': '1704304027.612', 'success': 1, 'uid': '4294967295', 'euid': '0', 'auid': '4294967295', 'ppid': '1', 'pid': '1', 'command': 'systemd-user-ru', 'arguments': ['/lib/systemd/systemd-user-runtime-dir', 'start', '1000'], 'CWD': '/'}\n"
     ]
    }
   ],
   "execution_count": 8
  },
  {
   "metadata": {
    "ExecuteTime": {
     "end_time": "2025-03-27T12:36:38.777073Z",
     "start_time": "2025-03-27T12:36:38.764847Z"
    }
   },
   "cell_type": "code",
   "source": "logs = df[\"_source.full_log\"].to_list()",
   "id": "50e08fd79f165def",
   "outputs": [],
   "execution_count": 9
  },
  {
   "metadata": {
    "ExecuteTime": {
     "end_time": "2025-03-27T12:36:47.464356Z",
     "start_time": "2025-03-27T12:36:47.448700Z"
    }
   },
   "cell_type": "code",
   "source": "logs[:3]",
   "id": "a5dddb253922d9f0",
   "outputs": [
    {
     "data": {
      "text/plain": [
       "['type=SYSCALL msg=audit(1704304027.612:3126): arch=c000003e syscall=59 success=yes exit=0 a0=55add673b8c0 a1=55add6790cb0 a2=55add688d700 a3=7fffd2f82c20 items=2 ppid=1 pid=4284 auid=4294967295 uid=0 gid=0 euid=0 suid=0 fsuid=0 egid=0 sgid=0 fsgid=0 tty=(none) ses=4294967295 comm=\"systemd-user-ru\" exe=\"/usr/lib/systemd/systemd-user-runtime-dir\" subj=unconfined key=\"audit-wazuh-c\"\\x1dARCH=x86_64 SYSCALL=execve AUID=\"unset\" UID=\"root\" GID=\"root\" EUID=\"root\" SUID=\"root\" FSUID=\"root\" EGID=\"root\" SGID=\"root\" FSGID=\"root\" type=EXECVE msg=audit(1704304027.612:3126): argc=3 a0=\"/lib/systemd/systemd-user-runtime-dir\" a1=\"start\" a2=\"1000\" type=CWD msg=audit(1704304027.612:3126): cwd=\"/\" type=PATH msg=audit(1704304027.612:3126): item=0 name=\"/lib/systemd/systemd-user-runtime-dir\" inode=273552 dev=08:03 mode=0100755 ouid=0 ogid=0 rdev=00:00 nametype=NORMAL cap_fp=0 cap_fi=0 cap_fe=0 cap_fver=0 cap_frootid=0\\x1dOUID=\"root\" OGID=\"root\" type=PATH msg=audit(1704304027.612:3126): item=1 name=\"/lib64/ld-linux-x86-64.so.2\" inode=264289 dev=08:03 mode=0100755 ouid=0 ogid=0 rdev=00:00 nametype=NORMAL cap_fp=0 cap_fi=0 cap_fe=0 cap_fver=0 cap_frootid=0\\x1dOUID=\"root\" OGID=\"root\" type=PROCTITLE msg=audit(1704304027.612:3126): proctitle=2F6C69622F73797374656D642F73797374656D642D757365722D72756E74696D652D6469720073746172740031303030',\n",
       " 'Jan  3 22:47:08 sohaib-virtual-machine systemd: pam_unix(systemd-user:session): session opened for user sohaib(uid=1000) by (uid=0)',\n",
       " 'type=SYSCALL msg=audit(1704304029.764:3133): arch=c000003e syscall=59 success=yes exit=0 a0=7f356b3d8678 a1=7ffc22783f80 a2=558cfa8c99f0 a3=8 items=2 ppid=4282 pid=4294 auid=1000 uid=0 gid=0 euid=0 suid=0 fsuid=0 egid=0 sgid=0 fsgid=0 tty=(none) ses=6 comm=\"sh\" exe=\"/usr/bin/dash\" subj=unconfined key=\"audit-wazuh-c\"\\x1dARCH=x86_64 SYSCALL=execve AUID=\"sohaib\" UID=\"root\" GID=\"root\" EUID=\"root\" SUID=\"root\" FSUID=\"root\" EGID=\"root\" SGID=\"root\" FSGID=\"root\" type=EXECVE msg=audit(1704304029.764:3133): argc=3 a0=\"sh\" a1=\"-c\" a2=2F7573722F62696E2F656E76202D6920504154483D2F7573722F6C6F63616C2F7362696E3A2F7573722F6C6F63616C2F62696E3A2F7573722F7362696E3A2F7573722F62696E3A2F7362696E3A2F62696E2072756E2D7061727473202D2D6C7362737973696E6974202F6574632F7570646174652D6D6F74642E64203E202F72756E2F6D6F74642E64796E616D69632E6E6577 type=CWD msg=audit(1704304029.764:3133): cwd=\"/\" type=PATH msg=audit(1704304029.764:3133): item=0 name=\"/bin/sh\" inode=262347 dev=08:03 mode=0100755 ouid=0 ogid=0 rdev=00:00 nametype=NORMAL cap_fp=0 cap_fi=0 cap_fe=0 cap_fver=0 cap_frootid=0\\x1dOUID=\"root\" OGID=\"root\" type=PATH msg=audit(1704304029.764:3133): item=1 name=\"/lib64/ld-linux-x86-64.so.2\" inode=264289 dev=08:03 mode=0100755 ouid=0 ogid=0 rdev=00:00 nametype=NORMAL cap_fp=0 cap_fi=0 cap_fe=0 cap_fver=0 cap_frootid=0\\x1dOUID=\"root\" OGID=\"root\" type=PROCTITLE msg=audit(1704304029.764:3133): proctitle=7368002D63002F7573722F62696E2F656E76202D6920504154483D2F7573722F6C6F63616C2F7362696E3A2F7573722F6C6F63616C2F62696E3A2F7573722F7362696E3A2F7573722F62696E3A2F7362696E3A2F62696E2072756E2D7061727473202D2D6C7362737973696E6974202F6574632F7570646174652D6D6F74642E']"
      ]
     },
     "execution_count": 10,
     "metadata": {},
     "output_type": "execute_result"
    }
   ],
   "execution_count": 10
  },
  {
   "metadata": {
    "ExecuteTime": {
     "end_time": "2025-03-27T12:36:50.224103Z",
     "start_time": "2025-03-27T12:36:50.207425Z"
    }
   },
   "cell_type": "code",
   "source": "parsed_logs = [parse_audit_log(log) for log in logs[:100]]",
   "id": "69602423aad9c1f2",
   "outputs": [],
   "execution_count": 11
  },
  {
   "metadata": {
    "ExecuteTime": {
     "end_time": "2025-03-27T12:36:51.275078Z",
     "start_time": "2025-03-27T12:36:51.246086Z"
    }
   },
   "cell_type": "code",
   "source": "parsed_logs",
   "id": "731617770ba15a7c",
   "outputs": [
    {
     "data": {
      "text/plain": [
       "[{'timestamp': '1704304027.612',\n",
       "  'success': 1,\n",
       "  'uid': '4294967295',\n",
       "  'euid': '0',\n",
       "  'auid': '4294967295',\n",
       "  'ppid': '1',\n",
       "  'pid': '1',\n",
       "  'command': 'systemd-user-ru',\n",
       "  'arguments': ['/lib/systemd/systemd-user-runtime-dir', 'start', '1000'],\n",
       "  'CWD': '/'},\n",
       " {'timestamp': None,\n",
       "  'success': None,\n",
       "  'uid': '1000',\n",
       "  'euid': None,\n",
       "  'auid': None,\n",
       "  'ppid': None,\n",
       "  'pid': None,\n",
       "  'command': None,\n",
       "  'arguments': None,\n",
       "  'CWD': None},\n",
       " {'timestamp': '1704304029.764',\n",
       "  'success': 1,\n",
       "  'uid': '1000',\n",
       "  'euid': '0',\n",
       "  'auid': '1000',\n",
       "  'ppid': '4282',\n",
       "  'pid': '4282',\n",
       "  'command': 'sh',\n",
       "  'arguments': ['sh', '-c'],\n",
       "  'CWD': '/'},\n",
       " {'timestamp': '1704304029.888',\n",
       "  'success': 0,\n",
       "  'uid': '1000',\n",
       "  'euid': '0',\n",
       "  'auid': '1000',\n",
       "  'ppid': '4294',\n",
       "  'pid': '4294',\n",
       "  'command': 'env',\n",
       "  'arguments': None,\n",
       "  'CWD': '/'},\n",
       " {'timestamp': '1704304029.972',\n",
       "  'success': 1,\n",
       "  'uid': '1000',\n",
       "  'euid': '0',\n",
       "  'auid': '1000',\n",
       "  'ppid': '4296',\n",
       "  'pid': '4296',\n",
       "  'command': '00-header',\n",
       "  'arguments': ['/bin/sh', '/etc/update-motd.d/00-header'],\n",
       "  'CWD': '/'},\n",
       " {'timestamp': '1704304030.404',\n",
       "  'success': 1,\n",
       "  'uid': '1000',\n",
       "  'euid': '0',\n",
       "  'auid': '1000',\n",
       "  'ppid': '4308',\n",
       "  'pid': '4308',\n",
       "  'command': 'find',\n",
       "  'arguments': ['find',\n",
       "   '/var/lib/update-notifier/updates-available',\n",
       "   '-newermt'],\n",
       "  'CWD': None},\n",
       " {'timestamp': '1704304030.400',\n",
       "  'success': 1,\n",
       "  'uid': '1000',\n",
       "  'euid': '0',\n",
       "  'auid': '1000',\n",
       "  'ppid': '4308',\n",
       "  'pid': '4308',\n",
       "  'command': 'grep',\n",
       "  'arguments': ['grep', '-q', '-m', '1', '.'],\n",
       "  'CWD': '/'},\n",
       " {'timestamp': '1704304030.588',\n",
       "  'success': 1,\n",
       "  'uid': '1000',\n",
       "  'euid': '0',\n",
       "  'auid': '1000',\n",
       "  'ppid': '4313',\n",
       "  'pid': '4313',\n",
       "  'command': 'id',\n",
       "  'arguments': ['id', '-u'],\n",
       "  'CWD': '/'},\n",
       " {'timestamp': '1704304030.688',\n",
       "  'success': 1,\n",
       "  'uid': '1000',\n",
       "  'euid': '0',\n",
       "  'auid': '1000',\n",
       "  'ppid': '4313',\n",
       "  'pid': '4313',\n",
       "  'command': 'expr',\n",
       "  'arguments': ['expr', '1704220233', '+', '86400'],\n",
       "  'CWD': '/'},\n",
       " {'timestamp': '1704304030.796',\n",
       "  'success': 1,\n",
       "  'uid': '1000',\n",
       "  'euid': '0',\n",
       "  'auid': '1000',\n",
       "  'ppid': '4296',\n",
       "  'pid': '4296',\n",
       "  'command': 'update-motd-una',\n",
       "  'arguments': ['/bin/sh',\n",
       "   '/usr/share/unattended-upgrades/update-motd-unattended-upgrades'],\n",
       "  'CWD': '/'},\n",
       " {'timestamp': '1704304030.828',\n",
       "  'success': 1,\n",
       "  'uid': '1000',\n",
       "  'euid': '0',\n",
       "  'auid': '1000',\n",
       "  'ppid': '4327',\n",
       "  'pid': '4327',\n",
       "  'command': 'find',\n",
       "  'arguments': ['find', '/var/lib/update-notifier/hwe-eol', '-newermt'],\n",
       "  'CWD': '/'},\n",
       " {'timestamp': '1704304031.204',\n",
       "  'success': 1,\n",
       "  'uid': '1000',\n",
       "  'euid': '0',\n",
       "  'auid': '1000',\n",
       "  'ppid': '4329',\n",
       "  'pid': '4329',\n",
       "  'command': 'date',\n",
       "  'arguments': ['date', '+%s'],\n",
       "  'CWD': '/'},\n",
       " {'timestamp': '1704304031.236',\n",
       "  'success': 1,\n",
       "  'uid': '1000',\n",
       "  'euid': '0',\n",
       "  'auid': '1000',\n",
       "  'ppid': '4338',\n",
       "  'pid': '4338',\n",
       "  'command': 'awk',\n",
       "  'arguments': ['awk'],\n",
       "  'CWD': '/'},\n",
       " {'timestamp': '1704304031.728',\n",
       "  'success': 1,\n",
       "  'uid': '1000',\n",
       "  'euid': '0',\n",
       "  'auid': '1000',\n",
       "  'ppid': '4350',\n",
       "  'pid': '4350',\n",
       "  'command': 'cut',\n",
       "  'arguments': ['cut', '-d:', '-f', '2-'],\n",
       "  'CWD': '/'},\n",
       " {'timestamp': '1704304031.960',\n",
       "  'success': 1,\n",
       "  'uid': '1000',\n",
       "  'euid': '0',\n",
       "  'auid': '1000',\n",
       "  'ppid': '4363',\n",
       "  'pid': '4363',\n",
       "  'command': 'fusermount3',\n",
       "  'arguments': ['fusermount3',\n",
       "   '-o',\n",
       "   'rw,nosuid,nodev,subtype=gvfsd-fuse',\n",
       "   '--',\n",
       "   '/run/user/1000/gvfs'],\n",
       "  'CWD': '/home/sohaib'},\n",
       " {'timestamp': '1704304032.008',\n",
       "  'success': 1,\n",
       "  'uid': '1000',\n",
       "  'euid': '0',\n",
       "  'auid': '1000',\n",
       "  'ppid': '4371',\n",
       "  'pid': '4371',\n",
       "  'command': 'cut',\n",
       "  'arguments': ['cut', '-d:', '-f', '2-'],\n",
       "  'CWD': '/'},\n",
       " {'timestamp': '1704304032.424',\n",
       "  'success': 1,\n",
       "  'uid': '1000',\n",
       "  'euid': '0',\n",
       "  'auid': '1000',\n",
       "  'ppid': '4329',\n",
       "  'pid': '4329',\n",
       "  'command': 'date',\n",
       "  'arguments': ['date', '-d', '+%s'],\n",
       "  'CWD': '/'},\n",
       " {'timestamp': '1704304032.348',\n",
       "  'success': 1,\n",
       "  'uid': '1000',\n",
       "  'euid': '0',\n",
       "  'auid': '1000',\n",
       "  'ppid': '4389',\n",
       "  'pid': '4389',\n",
       "  'command': 'cut',\n",
       "  'arguments': ['cut', '-d:', '-f', '2-'],\n",
       "  'CWD': '/'},\n",
       " {'timestamp': '1704304032.476',\n",
       "  'success': 1,\n",
       "  'uid': '1000',\n",
       "  'euid': '0',\n",
       "  'auid': '1000',\n",
       "  'ppid': '4296',\n",
       "  'pid': '4296',\n",
       "  'command': '98-reboot-requi',\n",
       "  'arguments': ['/bin/sh', '/etc/update-motd.d/98-reboot-required'],\n",
       "  'CWD': '/'},\n",
       " {'timestamp': None,\n",
       "  'success': None,\n",
       "  'uid': '0',\n",
       "  'euid': None,\n",
       "  'auid': None,\n",
       "  'ppid': None,\n",
       "  'pid': None,\n",
       "  'command': None,\n",
       "  'arguments': None,\n",
       "  'CWD': None},\n",
       " {'timestamp': None,\n",
       "  'success': None,\n",
       "  'uid': None,\n",
       "  'euid': None,\n",
       "  'auid': None,\n",
       "  'ppid': None,\n",
       "  'pid': None,\n",
       "  'command': None,\n",
       "  'arguments': None,\n",
       "  'CWD': None},\n",
       " {'timestamp': None,\n",
       "  'success': None,\n",
       "  'uid': None,\n",
       "  'euid': None,\n",
       "  'auid': None,\n",
       "  'ppid': None,\n",
       "  'pid': None,\n",
       "  'command': None,\n",
       "  'arguments': None,\n",
       "  'CWD': None},\n",
       " {'timestamp': '1704304110.192',\n",
       "  'success': 1,\n",
       "  'uid': '1000',\n",
       "  'euid': '0',\n",
       "  'auid': '1000',\n",
       "  'ppid': '4548',\n",
       "  'pid': '4548',\n",
       "  'command': 'sudo',\n",
       "  'arguments': ['sudo', 'test', '-f', '/etc/pam.d/password-auth'],\n",
       "  'CWD': '/home/sohaib'},\n",
       " {'timestamp': '1704304110.276',\n",
       "  'success': 1,\n",
       "  'uid': '1000',\n",
       "  'euid': '0',\n",
       "  'auid': '1000',\n",
       "  'ppid': '4563',\n",
       "  'pid': '4563',\n",
       "  'command': 'test',\n",
       "  'arguments': ['test', '-f', '/etc/pam.d/password-auth'],\n",
       "  'CWD': '/home/sohaib'},\n",
       " {'timestamp': '1704304110.440',\n",
       "  'success': 1,\n",
       "  'uid': '1000',\n",
       "  'euid': '0',\n",
       "  'auid': '1000',\n",
       "  'ppid': '4548',\n",
       "  'pid': '4548',\n",
       "  'command': 'sudo',\n",
       "  'arguments': ['sudo', 'test', '-f', '/etc/pam.d/system-auth'],\n",
       "  'CWD': '/home/sohaib'},\n",
       " {'timestamp': '1704304110.484',\n",
       "  'success': 1,\n",
       "  'uid': '1000',\n",
       "  'euid': '0',\n",
       "  'auid': '1000',\n",
       "  'ppid': '4569',\n",
       "  'pid': '4569',\n",
       "  'command': 'test',\n",
       "  'arguments': ['test', '-f', '/etc/pam.d/system-auth'],\n",
       "  'CWD': '/home/sohaib'},\n",
       " {'timestamp': '1704304110.540',\n",
       "  'success': 1,\n",
       "  'uid': '1000',\n",
       "  'euid': '0',\n",
       "  'auid': '1000',\n",
       "  'ppid': '4572',\n",
       "  'pid': '4572',\n",
       "  'command': 'cp',\n",
       "  'arguments': ['cp', '/etc/pam.d/system-auth', '/tmp/system-auth.bk'],\n",
       "  'CWD': '/home/sohaib'},\n",
       " {'timestamp': '1704304110.560',\n",
       "  'success': 1,\n",
       "  'uid': '1000',\n",
       "  'euid': '0',\n",
       "  'auid': '1000',\n",
       "  'ppid': '4548',\n",
       "  'pid': '4548',\n",
       "  'command': 'sudo',\n",
       "  'arguments': ['sudo', 'echo'],\n",
       "  'CWD': '/home/sohaib'},\n",
       " {'timestamp': '1704304110.608',\n",
       "  'success': 1,\n",
       "  'uid': '1000',\n",
       "  'euid': '0',\n",
       "  'auid': '1000',\n",
       "  'ppid': '4575',\n",
       "  'pid': '4575',\n",
       "  'command': 'echo',\n",
       "  'arguments': ['echo'],\n",
       "  'CWD': '/home/sohaib'},\n",
       " {'timestamp': '1704304110.696',\n",
       "  'success': 1,\n",
       "  'uid': '1000',\n",
       "  'euid': '0',\n",
       "  'auid': '1000',\n",
       "  'ppid': '4580',\n",
       "  'pid': '4580',\n",
       "  'command': 'tee',\n",
       "  'arguments': ['tee', '-a', '/root/.bash_history'],\n",
       "  'CWD': '/home/sohaib'},\n",
       " {'timestamp': '1704303541.464',\n",
       "  'success': 1,\n",
       "  'uid': '0',\n",
       "  'euid': '0',\n",
       "  'auid': '0',\n",
       "  'ppid': '4194',\n",
       "  'pid': '4194',\n",
       "  'command': 'sh',\n",
       "  'arguments': ['/bin/sh', '-c'],\n",
       "  'CWD': '/root'},\n",
       " {'timestamp': '1704303541.640',\n",
       "  'success': 1,\n",
       "  'uid': '4294967295',\n",
       "  'euid': '0',\n",
       "  'auid': '4294967295',\n",
       "  'ppid': '4198',\n",
       "  'pid': '4198',\n",
       "  'command': 'phpquery',\n",
       "  'arguments': ['/bin/sh', '/usr/sbin/phpquery', '-V'],\n",
       "  'CWD': '/'},\n",
       " {'timestamp': '1704303541.708',\n",
       "  'success': 1,\n",
       "  'uid': '4294967295',\n",
       "  'euid': '0',\n",
       "  'auid': '4294967295',\n",
       "  'ppid': '4206',\n",
       "  'pid': '4206',\n",
       "  'command': 'find',\n",
       "  'arguments': None,\n",
       "  'CWD': None},\n",
       " {'timestamp': '1704303541.712',\n",
       "  'success': 1,\n",
       "  'uid': '4294967295',\n",
       "  'euid': '0',\n",
       "  'auid': '4294967295',\n",
       "  'ppid': '4200',\n",
       "  'pid': '4200',\n",
       "  'command': 'sort',\n",
       "  'arguments': None,\n",
       "  'CWD': None},\n",
       " {'timestamp': '1704303541.760',\n",
       "  'success': 1,\n",
       "  'uid': '4294967295',\n",
       "  'euid': '0',\n",
       "  'auid': '4294967295',\n",
       "  'ppid': '4198',\n",
       "  'pid': '4198',\n",
       "  'command': 'php8.1',\n",
       "  'arguments': ['/usr/bin/php8.1',\n",
       "   '-c',\n",
       "   '/etc/php/8.1/apache2/php.ini',\n",
       "   '-d',\n",
       "   \"error_reporting='~E_ALL'\",\n",
       "   '-r'],\n",
       "  'CWD': '/'},\n",
       " {'timestamp': '1704303542.984',\n",
       "  'success': 1,\n",
       "  'uid': '4294967295',\n",
       "  'euid': '0',\n",
       "  'auid': '4294967295',\n",
       "  'ppid': '4223',\n",
       "  'pid': '4223',\n",
       "  'command': 'sed',\n",
       "  'arguments': ['sed', '-ne', 's/^session\\\\.save_handler=\\\\(.*\\\\)$/\\\\1/p'],\n",
       "  'CWD': '/'},\n",
       " {'timestamp': '1704303542.996',\n",
       "  'success': 1,\n",
       "  'uid': '4294967295',\n",
       "  'euid': '0',\n",
       "  'auid': '4294967295',\n",
       "  'ppid': '4226',\n",
       "  'pid': '4226',\n",
       "  'command': 'sed',\n",
       "  'arguments': ['sed',\n",
       "   '-ne',\n",
       "   's/^session\\\\.save_path=\\\\(.*;\\\\)\\\\?\\\\(.*\\\\)$/\\\\2/p'],\n",
       "  'CWD': '/'},\n",
       " {'timestamp': '1704303543.012',\n",
       "  'success': 1,\n",
       "  'uid': '4294967295',\n",
       "  'euid': '0',\n",
       "  'auid': '4294967295',\n",
       "  'ppid': '4232',\n",
       "  'pid': '4232',\n",
       "  'command': 'sed',\n",
       "  'arguments': ['sed', '-e', 's,@VERSION@,8.1,'],\n",
       "  'CWD': '/'},\n",
       " {'timestamp': '1704303853.584',\n",
       "  'success': 1,\n",
       "  'uid': '4294967295',\n",
       "  'euid': '0',\n",
       "  'auid': '4294967295',\n",
       "  'ppid': '1431',\n",
       "  'pid': '1431',\n",
       "  'command': 'sh',\n",
       "  'arguments': ['sh', '-c'],\n",
       "  'CWD': '/var/ossec'},\n",
       " {'timestamp': '1704303853.628',\n",
       "  'success': 1,\n",
       "  'uid': '4294967295',\n",
       "  'euid': '0',\n",
       "  'auid': '4294967295',\n",
       "  'ppid': '4264',\n",
       "  'pid': '4264',\n",
       "  'command': 'sed',\n",
       "  'arguments': ['sed', '1,2d'],\n",
       "  'CWD': '/var/ossec'},\n",
       " {'timestamp': '1704303853.628',\n",
       "  'success': 1,\n",
       "  'uid': '4294967295',\n",
       "  'euid': '0',\n",
       "  'auid': '4294967295',\n",
       "  'ppid': '1431',\n",
       "  'pid': '1431',\n",
       "  'command': 'sh',\n",
       "  'arguments': None,\n",
       "  'CWD': None},\n",
       " {'timestamp': '1704303853.636',\n",
       "  'success': 1,\n",
       "  'uid': '4294967295',\n",
       "  'euid': '0',\n",
       "  'auid': '4294967295',\n",
       "  'ppid': '4264',\n",
       "  'pid': '4264',\n",
       "  'command': 'sort',\n",
       "  'arguments': None,\n",
       "  'CWD': None},\n",
       " {'timestamp': '1704303853.668',\n",
       "  'success': 1,\n",
       "  'uid': '4294967295',\n",
       "  'euid': '0',\n",
       "  'auid': '4294967295',\n",
       "  'ppid': '4270',\n",
       "  'pid': '4270',\n",
       "  'command': 'last',\n",
       "  'arguments': ['last', '-n', '20'],\n",
       "  'CWD': '/var/ossec'},\n",
       " {'timestamp': '1704303543.572',\n",
       "  'success': 1,\n",
       "  'uid': '4294967295',\n",
       "  'euid': '0',\n",
       "  'auid': '4294967295',\n",
       "  'ppid': '4198',\n",
       "  'pid': '4198',\n",
       "  'command': 'find',\n",
       "  'arguments': ['find',\n",
       "   '/proc/1205/fd',\n",
       "   '-ignore_readdir_race',\n",
       "   '-lname',\n",
       "   '/var/lib/php/sessions/sess_*',\n",
       "   '-exec',\n",
       "   'touch',\n",
       "   '-c',\n",
       "   '{}',\n",
       "   ';'],\n",
       "  'CWD': '/'},\n",
       " {'timestamp': '1704303543.596',\n",
       "  'success': 1,\n",
       "  'uid': '4294967295',\n",
       "  'euid': '0',\n",
       "  'auid': '4294967295',\n",
       "  'ppid': '4202',\n",
       "  'pid': '4202',\n",
       "  'command': 'find',\n",
       "  'arguments': ['find',\n",
       "   '-O3',\n",
       "   '/var/lib/php/sessions/',\n",
       "   '-ignore_readdir_race',\n",
       "   '-depth',\n",
       "   '-mindepth',\n",
       "   '1',\n",
       "   '-name',\n",
       "   'sess_*',\n",
       "   '-type',\n",
       "   'f',\n",
       "   '-cmin',\n",
       "   '+24',\n",
       "   '-delete'],\n",
       "  'CWD': '/'},\n",
       " {'timestamp': '1704304073.420',\n",
       "  'success': 1,\n",
       "  'uid': '1000',\n",
       "  'euid': '0',\n",
       "  'auid': '1000',\n",
       "  'ppid': '4548',\n",
       "  'pid': '4548',\n",
       "  'command': 'lesspipe',\n",
       "  'arguments': ['/bin/sh', '/usr/bin/lesspipe'],\n",
       "  'CWD': '/home/sohaib'},\n",
       " {'timestamp': '1704304073.456',\n",
       "  'success': 1,\n",
       "  'uid': '1000',\n",
       "  'euid': '0',\n",
       "  'auid': '1000',\n",
       "  'ppid': '4551',\n",
       "  'pid': '4551',\n",
       "  'command': 'dirname',\n",
       "  'arguments': ['dirname', '/usr/bin/lesspipe'],\n",
       "  'CWD': '/home/sohaib'},\n",
       " {'timestamp': '1704304073.468',\n",
       "  'success': 1,\n",
       "  'uid': '1000',\n",
       "  'euid': '0',\n",
       "  'auid': '1000',\n",
       "  'ppid': '4548',\n",
       "  'pid': '4548',\n",
       "  'command': 'dircolors',\n",
       "  'arguments': ['dircolors', '-b'],\n",
       "  'CWD': '/home/sohaib'},\n",
       " {'timestamp': '1704304073.488',\n",
       "  'success': 1,\n",
       "  'uid': '1000',\n",
       "  'euid': '0',\n",
       "  'auid': '1000',\n",
       "  'ppid': '4554',\n",
       "  'pid': '4554',\n",
       "  'command': 'logger',\n",
       "  'arguments': ['logger', '-t'],\n",
       "  'CWD': '/home/sohaib'},\n",
       " {'timestamp': '1704304036.744',\n",
       "  'success': 1,\n",
       "  'uid': '1000',\n",
       "  'euid': '0',\n",
       "  'auid': '1000',\n",
       "  'ppid': '4286',\n",
       "  'pid': '4286',\n",
       "  'command': 'snap-confine',\n",
       "  'arguments': ['/snap/snapd/20290/usr/lib/snapd/snap-confine',\n",
       "   '--base',\n",
       "   'core22',\n",
       "   'snap.snapd-desktop-integration.snapd-desktop-integration',\n",
       "   '/usr/lib/snapd/snap-exec',\n",
       "   'snapd-desktop-integration'],\n",
       "  'CWD': '/var/snap/snapd-desktop-integration/83'},\n",
       " {'timestamp': None,\n",
       "  'success': None,\n",
       "  'uid': None,\n",
       "  'euid': None,\n",
       "  'auid': None,\n",
       "  'ppid': None,\n",
       "  'pid': None,\n",
       "  'command': None,\n",
       "  'arguments': None,\n",
       "  'CWD': None},\n",
       " {'timestamp': None,\n",
       "  'success': None,\n",
       "  'uid': None,\n",
       "  'euid': None,\n",
       "  'auid': None,\n",
       "  'ppid': None,\n",
       "  'pid': None,\n",
       "  'command': None,\n",
       "  'arguments': None,\n",
       "  'CWD': None},\n",
       " {'timestamp': '1704304228.512',\n",
       "  'success': 1,\n",
       "  'uid': '4294967295',\n",
       "  'euid': '0',\n",
       "  'auid': '4294967295',\n",
       "  'ppid': '4706',\n",
       "  'pid': '4706',\n",
       "  'command': 'sh',\n",
       "  'arguments': ['sh', '-c'],\n",
       "  'CWD': '/var/ossec'},\n",
       " {'timestamp': '1704304228.512',\n",
       "  'success': 1,\n",
       "  'uid': '4294967295',\n",
       "  'euid': '0',\n",
       "  'auid': '4294967295',\n",
       "  'ppid': '5327',\n",
       "  'pid': '5327',\n",
       "  'command': 'ps',\n",
       "  'arguments': ['/bin/ps', '-p', '86'],\n",
       "  'CWD': '/var/ossec'},\n",
       " {'timestamp': '1704304228.708',\n",
       "  'success': 1,\n",
       "  'uid': '4294967295',\n",
       "  'euid': '0',\n",
       "  'auid': '4294967295',\n",
       "  'ppid': '4706',\n",
       "  'pid': '4706',\n",
       "  'command': 'sh',\n",
       "  'arguments': ['sh', '-c'],\n",
       "  'CWD': '/var/ossec'},\n",
       " {'timestamp': '1704304228.712',\n",
       "  'success': 1,\n",
       "  'uid': '4294967295',\n",
       "  'euid': '0',\n",
       "  'auid': '4294967295',\n",
       "  'ppid': '5331',\n",
       "  'pid': '5331',\n",
       "  'command': 'ps',\n",
       "  'arguments': ['/bin/ps', '-p', '88'],\n",
       "  'CWD': '/var/ossec'},\n",
       " {'timestamp': '1704304228.900',\n",
       "  'success': 1,\n",
       "  'uid': '4294967295',\n",
       "  'euid': '0',\n",
       "  'auid': '4294967295',\n",
       "  'ppid': '4706',\n",
       "  'pid': '4706',\n",
       "  'command': 'sh',\n",
       "  'arguments': ['sh', '-c'],\n",
       "  'CWD': '/var/ossec'},\n",
       " {'timestamp': '1704304228.992',\n",
       "  'success': 1,\n",
       "  'uid': '4294967295',\n",
       "  'euid': '0',\n",
       "  'auid': '4294967295',\n",
       "  'ppid': '4706',\n",
       "  'pid': '4706',\n",
       "  'command': 'sh',\n",
       "  'arguments': ['sh', '-c'],\n",
       "  'CWD': '/var/ossec'},\n",
       " {'timestamp': '1704304229.288',\n",
       "  'success': 1,\n",
       "  'uid': '4294967295',\n",
       "  'euid': '0',\n",
       "  'auid': '4294967295',\n",
       "  'ppid': '5343',\n",
       "  'pid': '5343',\n",
       "  'command': 'ps',\n",
       "  'arguments': ['/bin/ps', '-p', '104'],\n",
       "  'CWD': '/var/ossec'},\n",
       " {'timestamp': '1704304229.736',\n",
       "  'success': 1,\n",
       "  'uid': '4294967295',\n",
       "  'euid': '0',\n",
       "  'auid': '4294967295',\n",
       "  'ppid': '4706',\n",
       "  'pid': '4706',\n",
       "  'command': 'sh',\n",
       "  'arguments': ['sh', '-c'],\n",
       "  'CWD': '/var/ossec'},\n",
       " {'timestamp': '1704304230.020',\n",
       "  'success': 1,\n",
       "  'uid': '4294967295',\n",
       "  'euid': '0',\n",
       "  'auid': '4294967295',\n",
       "  'ppid': '4706',\n",
       "  'pid': '4706',\n",
       "  'command': 'sh',\n",
       "  'arguments': ['sh', '-c'],\n",
       "  'CWD': '/var/ossec'},\n",
       " {'timestamp': '1704304230.160',\n",
       "  'success': 1,\n",
       "  'uid': '4294967295',\n",
       "  'euid': '0',\n",
       "  'auid': '4294967295',\n",
       "  'ppid': '4706',\n",
       "  'pid': '4706',\n",
       "  'command': 'sh',\n",
       "  'arguments': ['sh', '-c'],\n",
       "  'CWD': '/var/ossec'},\n",
       " {'timestamp': '1704304230.164',\n",
       "  'success': 1,\n",
       "  'uid': '4294967295',\n",
       "  'euid': '0',\n",
       "  'auid': '4294967295',\n",
       "  'ppid': '5357',\n",
       "  'pid': '5357',\n",
       "  'command': 'ps',\n",
       "  'arguments': ['/bin/ps', '-p', '152'],\n",
       "  'CWD': '/var/ossec'},\n",
       " {'timestamp': '1704304230.272',\n",
       "  'success': 1,\n",
       "  'uid': '4294967295',\n",
       "  'euid': '0',\n",
       "  'auid': '4294967295',\n",
       "  'ppid': '5359',\n",
       "  'pid': '5359',\n",
       "  'command': 'ps',\n",
       "  'arguments': ['/bin/ps', '-p', '153'],\n",
       "  'CWD': '/var/ossec'},\n",
       " {'timestamp': '1704304230.360',\n",
       "  'success': 1,\n",
       "  'uid': '4294967295',\n",
       "  'euid': '0',\n",
       "  'auid': '4294967295',\n",
       "  'ppid': '4706',\n",
       "  'pid': '4706',\n",
       "  'command': 'sh',\n",
       "  'arguments': ['sh', '-c'],\n",
       "  'CWD': '/var/ossec'},\n",
       " {'timestamp': '1704304230.480',\n",
       "  'success': 1,\n",
       "  'uid': '4294967295',\n",
       "  'euid': '0',\n",
       "  'auid': '4294967295',\n",
       "  'ppid': '4706',\n",
       "  'pid': '4706',\n",
       "  'command': 'sh',\n",
       "  'arguments': ['sh', '-c'],\n",
       "  'CWD': '/var/ossec'},\n",
       " {'timestamp': '1704304230.692',\n",
       "  'success': 1,\n",
       "  'uid': '4294967295',\n",
       "  'euid': '0',\n",
       "  'auid': '4294967295',\n",
       "  'ppid': '4706',\n",
       "  'pid': '4706',\n",
       "  'command': 'sh',\n",
       "  'arguments': ['sh', '-c'],\n",
       "  'CWD': '/var/ossec'},\n",
       " {'timestamp': '1704304231.016',\n",
       "  'success': 1,\n",
       "  'uid': '4294967295',\n",
       "  'euid': '0',\n",
       "  'auid': '4294967295',\n",
       "  'ppid': '4706',\n",
       "  'pid': '4706',\n",
       "  'command': 'sh',\n",
       "  'arguments': ['sh', '-c'],\n",
       "  'CWD': '/var/ossec'},\n",
       " {'timestamp': '1704304231.112',\n",
       "  'success': 1,\n",
       "  'uid': '4294967295',\n",
       "  'euid': '0',\n",
       "  'auid': '4294967295',\n",
       "  'ppid': '4706',\n",
       "  'pid': '4706',\n",
       "  'command': 'sh',\n",
       "  'arguments': ['sh', '-c'],\n",
       "  'CWD': '/var/ossec'},\n",
       " {'timestamp': '1704304231.204',\n",
       "  'success': 1,\n",
       "  'uid': '4294967295',\n",
       "  'euid': '0',\n",
       "  'auid': '4294967295',\n",
       "  'ppid': '4706',\n",
       "  'pid': '4706',\n",
       "  'command': 'sh',\n",
       "  'arguments': ['sh', '-c'],\n",
       "  'CWD': '/var/ossec'},\n",
       " {'timestamp': '1704304231.208',\n",
       "  'success': 1,\n",
       "  'uid': '4294967295',\n",
       "  'euid': '0',\n",
       "  'auid': '4294967295',\n",
       "  'ppid': '5377',\n",
       "  'pid': '5377',\n",
       "  'command': 'ps',\n",
       "  'arguments': ['/bin/ps', '-p', '162'],\n",
       "  'CWD': '/var/ossec'},\n",
       " {'timestamp': '1704304231.444',\n",
       "  'success': 1,\n",
       "  'uid': '4294967295',\n",
       "  'euid': '0',\n",
       "  'auid': '4294967295',\n",
       "  'ppid': '4706',\n",
       "  'pid': '4706',\n",
       "  'command': 'sh',\n",
       "  'arguments': ['sh', '-c'],\n",
       "  'CWD': '/var/ossec'},\n",
       " {'timestamp': '1704304231.548',\n",
       "  'success': 1,\n",
       "  'uid': '4294967295',\n",
       "  'euid': '0',\n",
       "  'auid': '4294967295',\n",
       "  'ppid': '5383',\n",
       "  'pid': '5383',\n",
       "  'command': 'ps',\n",
       "  'arguments': ['/bin/ps', '-p', '165'],\n",
       "  'CWD': '/var/ossec'},\n",
       " {'timestamp': '1704304231.844',\n",
       "  'success': 1,\n",
       "  'uid': '4294967295',\n",
       "  'euid': '0',\n",
       "  'auid': '4294967295',\n",
       "  'ppid': '4706',\n",
       "  'pid': '4706',\n",
       "  'command': 'sh',\n",
       "  'arguments': ['sh', '-c'],\n",
       "  'CWD': '/var/ossec'},\n",
       " {'timestamp': '1704304232.296',\n",
       "  'success': 1,\n",
       "  'uid': '4294967295',\n",
       "  'euid': '0',\n",
       "  'auid': '4294967295',\n",
       "  'ppid': '4706',\n",
       "  'pid': '4706',\n",
       "  'command': 'sh',\n",
       "  'arguments': ['sh', '-c'],\n",
       "  'CWD': '/var/ossec'},\n",
       " {'timestamp': '1704304232.300',\n",
       "  'success': 1,\n",
       "  'uid': '4294967295',\n",
       "  'euid': '0',\n",
       "  'auid': '4294967295',\n",
       "  'ppid': '5397',\n",
       "  'pid': '5397',\n",
       "  'command': 'ps',\n",
       "  'arguments': ['/bin/ps', '-p', '172'],\n",
       "  'CWD': '/var/ossec'},\n",
       " {'timestamp': '1704304232.500',\n",
       "  'success': 1,\n",
       "  'uid': '4294967295',\n",
       "  'euid': '0',\n",
       "  'auid': '4294967295',\n",
       "  'ppid': '4706',\n",
       "  'pid': '4706',\n",
       "  'command': 'sh',\n",
       "  'arguments': ['sh', '-c'],\n",
       "  'CWD': '/var/ossec'},\n",
       " {'timestamp': '1704304232.508',\n",
       "  'success': 1,\n",
       "  'uid': '4294967295',\n",
       "  'euid': '0',\n",
       "  'auid': '4294967295',\n",
       "  'ppid': '5401',\n",
       "  'pid': '5401',\n",
       "  'command': 'ps',\n",
       "  'arguments': ['/bin/ps', '-p', '174'],\n",
       "  'CWD': '/var/ossec'},\n",
       " {'timestamp': '1704304232.700',\n",
       "  'success': 1,\n",
       "  'uid': '4294967295',\n",
       "  'euid': '0',\n",
       "  'auid': '4294967295',\n",
       "  'ppid': '4706',\n",
       "  'pid': '4706',\n",
       "  'command': 'sh',\n",
       "  'arguments': ['sh', '-c'],\n",
       "  'CWD': '/var/ossec'},\n",
       " {'timestamp': '1704304232.708',\n",
       "  'success': 1,\n",
       "  'uid': '4294967295',\n",
       "  'euid': '0',\n",
       "  'auid': '4294967295',\n",
       "  'ppid': '5405',\n",
       "  'pid': '5405',\n",
       "  'command': 'ps',\n",
       "  'arguments': ['/bin/ps', '-p', '176'],\n",
       "  'CWD': '/var/ossec'},\n",
       " {'timestamp': '1704304232.796',\n",
       "  'success': 1,\n",
       "  'uid': '4294967295',\n",
       "  'euid': '0',\n",
       "  'auid': '4294967295',\n",
       "  'ppid': '4706',\n",
       "  'pid': '4706',\n",
       "  'command': 'sh',\n",
       "  'arguments': ['sh', '-c'],\n",
       "  'CWD': '/var/ossec'},\n",
       " {'timestamp': '1704304233.100',\n",
       "  'success': 1,\n",
       "  'uid': '4294967295',\n",
       "  'euid': '0',\n",
       "  'auid': '4294967295',\n",
       "  'ppid': '5413',\n",
       "  'pid': '5413',\n",
       "  'command': 'ps',\n",
       "  'arguments': ['/bin/ps', '-p', '180'],\n",
       "  'CWD': '/var/ossec'},\n",
       " {'timestamp': '1704304233.196',\n",
       "  'success': 1,\n",
       "  'uid': '4294967295',\n",
       "  'euid': '0',\n",
       "  'auid': '4294967295',\n",
       "  'ppid': '5415',\n",
       "  'pid': '5415',\n",
       "  'command': 'ps',\n",
       "  'arguments': ['/bin/ps', '-p', '181'],\n",
       "  'CWD': '/var/ossec'},\n",
       " {'timestamp': '1704304233.288',\n",
       "  'success': 1,\n",
       "  'uid': '4294967295',\n",
       "  'euid': '0',\n",
       "  'auid': '4294967295',\n",
       "  'ppid': '4706',\n",
       "  'pid': '4706',\n",
       "  'command': 'sh',\n",
       "  'arguments': ['sh', '-c'],\n",
       "  'CWD': '/var/ossec'},\n",
       " {'timestamp': '1704304233.292',\n",
       "  'success': 1,\n",
       "  'uid': '4294967295',\n",
       "  'euid': '0',\n",
       "  'auid': '4294967295',\n",
       "  'ppid': '5417',\n",
       "  'pid': '5417',\n",
       "  'command': 'ps',\n",
       "  'arguments': ['/bin/ps', '-p', '182'],\n",
       "  'CWD': '/var/ossec'},\n",
       " {'timestamp': '1704304233.392',\n",
       "  'success': 1,\n",
       "  'uid': '4294967295',\n",
       "  'euid': '0',\n",
       "  'auid': '4294967295',\n",
       "  'ppid': '4706',\n",
       "  'pid': '4706',\n",
       "  'command': 'sh',\n",
       "  'arguments': ['sh', '-c'],\n",
       "  'CWD': '/var/ossec'},\n",
       " {'timestamp': '1704304233.396',\n",
       "  'success': 1,\n",
       "  'uid': '4294967295',\n",
       "  'euid': '0',\n",
       "  'auid': '4294967295',\n",
       "  'ppid': '5419',\n",
       "  'pid': '5419',\n",
       "  'command': 'ps',\n",
       "  'arguments': ['/bin/ps', '-p', '183'],\n",
       "  'CWD': '/var/ossec'},\n",
       " {'timestamp': '1704304233.504',\n",
       "  'success': 1,\n",
       "  'uid': '4294967295',\n",
       "  'euid': '0',\n",
       "  'auid': '4294967295',\n",
       "  'ppid': '5421',\n",
       "  'pid': '5421',\n",
       "  'command': 'ps',\n",
       "  'arguments': ['/bin/ps', '-p', '184'],\n",
       "  'CWD': '/var/ossec'},\n",
       " {'timestamp': '1704304233.708',\n",
       "  'success': 1,\n",
       "  'uid': '4294967295',\n",
       "  'euid': '0',\n",
       "  'auid': '4294967295',\n",
       "  'ppid': '5425',\n",
       "  'pid': '5425',\n",
       "  'command': 'ps',\n",
       "  'arguments': ['/bin/ps', '-p', '186'],\n",
       "  'CWD': '/var/ossec'},\n",
       " {'timestamp': '1704304234.232',\n",
       "  'success': 1,\n",
       "  'uid': '4294967295',\n",
       "  'euid': '0',\n",
       "  'auid': '4294967295',\n",
       "  'ppid': '4706',\n",
       "  'pid': '4706',\n",
       "  'command': 'sh',\n",
       "  'arguments': ['sh', '-c'],\n",
       "  'CWD': '/var/ossec'},\n",
       " {'timestamp': '1704304234.416',\n",
       "  'success': 1,\n",
       "  'uid': '4294967295',\n",
       "  'euid': '0',\n",
       "  'auid': '4294967295',\n",
       "  'ppid': '4706',\n",
       "  'pid': '4706',\n",
       "  'command': 'sh',\n",
       "  'arguments': ['sh', '-c'],\n",
       "  'CWD': '/var/ossec'},\n",
       " {'timestamp': '1704304234.424',\n",
       "  'success': 1,\n",
       "  'uid': '4294967295',\n",
       "  'euid': '0',\n",
       "  'auid': '4294967295',\n",
       "  'ppid': '5437',\n",
       "  'pid': '5437',\n",
       "  'command': 'ps',\n",
       "  'arguments': ['/bin/ps', '-p', '192'],\n",
       "  'CWD': '/var/ossec'},\n",
       " {'timestamp': '1704304234.556',\n",
       "  'success': 1,\n",
       "  'uid': '4294967295',\n",
       "  'euid': '0',\n",
       "  'auid': '4294967295',\n",
       "  'ppid': '4706',\n",
       "  'pid': '4706',\n",
       "  'command': 'sh',\n",
       "  'arguments': ['sh', '-c'],\n",
       "  'CWD': '/var/ossec'},\n",
       " {'timestamp': '1704304234.784',\n",
       "  'success': 1,\n",
       "  'uid': '4294967295',\n",
       "  'euid': '0',\n",
       "  'auid': '4294967295',\n",
       "  'ppid': '4706',\n",
       "  'pid': '4706',\n",
       "  'command': 'sh',\n",
       "  'arguments': ['sh', '-c'],\n",
       "  'CWD': '/var/ossec'},\n",
       " {'timestamp': '1704304234.792',\n",
       "  'success': 1,\n",
       "  'uid': '4294967295',\n",
       "  'euid': '0',\n",
       "  'auid': '4294967295',\n",
       "  'ppid': '5444',\n",
       "  'pid': '5444',\n",
       "  'command': 'ps',\n",
       "  'arguments': ['/bin/ps', '-p', '195'],\n",
       "  'CWD': '/var/ossec'},\n",
       " {'timestamp': '1704304234.996',\n",
       "  'success': 1,\n",
       "  'uid': '4294967295',\n",
       "  'euid': '0',\n",
       "  'auid': '4294967295',\n",
       "  'ppid': '5448',\n",
       "  'pid': '5448',\n",
       "  'command': 'ps',\n",
       "  'arguments': ['/bin/ps', '-p', '197'],\n",
       "  'CWD': '/var/ossec'},\n",
       " {'timestamp': '1704304235.096',\n",
       "  'success': 1,\n",
       "  'uid': '4294967295',\n",
       "  'euid': '0',\n",
       "  'auid': '4294967295',\n",
       "  'ppid': '5450',\n",
       "  'pid': '5450',\n",
       "  'command': 'ps',\n",
       "  'arguments': ['/bin/ps', '-p', '198'],\n",
       "  'CWD': '/var/ossec'},\n",
       " {'timestamp': '1704304235.200',\n",
       "  'success': 1,\n",
       "  'uid': '4294967295',\n",
       "  'euid': '0',\n",
       "  'auid': '4294967295',\n",
       "  'ppid': '5452',\n",
       "  'pid': '5452',\n",
       "  'command': 'ps',\n",
       "  'arguments': ['/bin/ps', '-p', '199'],\n",
       "  'CWD': '/var/ossec'},\n",
       " {'timestamp': '1704304235.524',\n",
       "  'success': 1,\n",
       "  'uid': '4294967295',\n",
       "  'euid': '0',\n",
       "  'auid': '4294967295',\n",
       "  'ppid': '5458',\n",
       "  'pid': '5458',\n",
       "  'command': 'ps',\n",
       "  'arguments': ['/bin/ps', '-p', '202'],\n",
       "  'CWD': '/var/ossec'},\n",
       " {'timestamp': '1704304235.756',\n",
       "  'success': 1,\n",
       "  'uid': '4294967295',\n",
       "  'euid': '0',\n",
       "  'auid': '4294967295',\n",
       "  'ppid': '4706',\n",
       "  'pid': '4706',\n",
       "  'command': 'sh',\n",
       "  'arguments': ['sh', '-c'],\n",
       "  'CWD': '/var/ossec'}]"
      ]
     },
     "execution_count": 12,
     "metadata": {},
     "output_type": "execute_result"
    }
   ],
   "execution_count": 12
  },
  {
   "metadata": {
    "ExecuteTime": {
     "end_time": "2025-03-27T12:36:58.782515Z",
     "start_time": "2025-03-27T12:36:58.681368Z"
    }
   },
   "cell_type": "code",
   "source": [
    "parsed_logs = [parse_audit_log(log) for log in logs]\n",
    "target = [1 if i != \" \" else 0 for i in df['_source.rule.mitre.tactic'].to_list()]"
   ],
   "id": "50447bc6edc5baaa",
   "outputs": [],
   "execution_count": 13
  },
  {
   "metadata": {
    "ExecuteTime": {
     "end_time": "2025-03-27T12:37:02.239403Z",
     "start_time": "2025-03-27T12:37:02.224852Z"
    }
   },
   "cell_type": "code",
   "source": "len(parsed_logs)",
   "id": "1bfa4f0f4ac67e",
   "outputs": [
    {
     "data": {
      "text/plain": [
       "8572"
      ]
     },
     "execution_count": 14,
     "metadata": {},
     "output_type": "execute_result"
    }
   ],
   "execution_count": 14
  },
  {
   "metadata": {
    "ExecuteTime": {
     "end_time": "2025-03-27T12:37:02.948815Z",
     "start_time": "2025-03-27T12:37:02.932256Z"
    }
   },
   "cell_type": "code",
   "source": "len(target)",
   "id": "806a5a5f800143fa",
   "outputs": [
    {
     "data": {
      "text/plain": [
       "8572"
      ]
     },
     "execution_count": 15,
     "metadata": {},
     "output_type": "execute_result"
    }
   ],
   "execution_count": 15
  },
  {
   "metadata": {
    "ExecuteTime": {
     "end_time": "2025-03-27T12:37:11.174969Z",
     "start_time": "2025-03-27T12:37:11.161202Z"
    }
   },
   "cell_type": "code",
   "source": "sum(target)",
   "id": "185459db3b482f65",
   "outputs": [
    {
     "data": {
      "text/plain": [
       "45"
      ]
     },
     "execution_count": 16,
     "metadata": {},
     "output_type": "execute_result"
    }
   ],
   "execution_count": 16
  },
  {
   "metadata": {
    "ExecuteTime": {
     "end_time": "2025-03-27T12:37:26.066963Z",
     "start_time": "2025-03-27T12:37:26.050349Z"
    }
   },
   "cell_type": "code",
   "source": "set(target)",
   "id": "6fa5178d3f43df80",
   "outputs": [
    {
     "data": {
      "text/plain": [
       "{0, 1}"
      ]
     },
     "execution_count": 17,
     "metadata": {},
     "output_type": "execute_result"
    }
   ],
   "execution_count": 17
  },
  {
   "metadata": {
    "ExecuteTime": {
     "end_time": "2025-03-27T12:38:27.784933Z",
     "start_time": "2025-03-27T12:38:27.769078Z"
    }
   },
   "cell_type": "code",
   "source": "data = [{\"target\": t, \"log\": l} for t, l in zip(target, parsed_logs)]",
   "id": "18b3ff2856367e79",
   "outputs": [],
   "execution_count": 19
  },
  {
   "metadata": {
    "ExecuteTime": {
     "end_time": "2025-03-27T12:39:08.103053Z",
     "start_time": "2025-03-27T12:39:08.079739Z"
    }
   },
   "cell_type": "code",
   "source": [
    "import json\n",
    "\n",
    "with open(DATA_DIR / 'parsed_logs.json', 'w') as f:\n",
    "    for item in data[:10]:\n",
    "        f.write(json.dumps(item) + '\\n')"
   ],
   "id": "15af0eeb37c67d89",
   "outputs": [],
   "execution_count": 20
  },
  {
   "metadata": {
    "ExecuteTime": {
     "end_time": "2025-03-27T12:57:58.112637Z",
     "start_time": "2025-03-27T12:57:58.082715Z"
    }
   },
   "cell_type": "code",
   "source": [
    "from pathlib import Path\n",
    "a = Path(\"data/03-04-January.csv\")\n",
    "a.stem"
   ],
   "id": "383c3e240e63ccf8",
   "outputs": [
    {
     "data": {
      "text/plain": [
       "'03-04-January'"
      ]
     },
     "execution_count": 21,
     "metadata": {},
     "output_type": "execute_result"
    }
   ],
   "execution_count": 21
  },
  {
   "metadata": {},
   "cell_type": "markdown",
   "source": "# Afer labelling",
   "id": "e0c610b6a17cbe66"
  },
  {
   "metadata": {
    "ExecuteTime": {
     "end_time": "2025-04-13T10:51:59.140242Z",
     "start_time": "2025-04-13T10:51:59.120204Z"
    }
   },
   "cell_type": "code",
   "source": [
    "import json\n",
    "def load_json_long(path):\n",
    "    with open(path, \"r\", encoding=\"utf-8\") as f:\n",
    "        return [json.loads(line) for line in f.readlines()]"
   ],
   "id": "750837db34c5028b",
   "outputs": [],
   "execution_count": 2
  },
  {
   "metadata": {
    "ExecuteTime": {
     "end_time": "2025-04-13T10:51:59.619496Z",
     "start_time": "2025-04-13T10:51:59.356077Z"
    }
   },
   "cell_type": "code",
   "source": [
    "from paths import ROOT_DIR\n",
    "data = load_json_long(ROOT_DIR / \"parsed_data_labbeled/03-04-January.json\")"
   ],
   "id": "87a1c54fd0b5d638",
   "outputs": [],
   "execution_count": 3
  },
  {
   "metadata": {
    "ExecuteTime": {
     "end_time": "2025-04-13T10:51:59.975388Z",
     "start_time": "2025-04-13T10:51:59.622804Z"
    }
   },
   "cell_type": "code",
   "source": [
    "import numpy as np\n",
    "\n",
    "data = np.array(data)"
   ],
   "id": "566d805d533d99b",
   "outputs": [],
   "execution_count": 4
  },
  {
   "metadata": {
    "ExecuteTime": {
     "end_time": "2025-04-13T10:52:00.011054Z",
     "start_time": "2025-04-13T10:51:59.979928Z"
    }
   },
   "cell_type": "code",
   "source": "data.shape",
   "id": "ee694792737f367a",
   "outputs": [
    {
     "data": {
      "text/plain": [
       "(8478,)"
      ]
     },
     "execution_count": 5,
     "metadata": {},
     "output_type": "execute_result"
    }
   ],
   "execution_count": 5
  },
  {
   "metadata": {
    "ExecuteTime": {
     "end_time": "2025-04-13T10:52:00.056081Z",
     "start_time": "2025-04-13T10:52:00.014190Z"
    }
   },
   "cell_type": "code",
   "source": "data[0]",
   "id": "5cd4db220438bde6",
   "outputs": [
    {
     "data": {
      "text/plain": [
       "{'id': 1,\n",
       " 'target': 0.0,\n",
       " 'content': {'timestamp': '1704304027.612',\n",
       "  'success': 1,\n",
       "  'uid': '4294967295',\n",
       "  'euid': '0',\n",
       "  'syscall': '0',\n",
       "  'ppid': '1',\n",
       "  'pid': '1',\n",
       "  'command': 'systemd-user-ru',\n",
       "  'arguments': ['/lib/systemd/systemd-user-runtime-dir', 'start', '1000'],\n",
       "  'CWD': '/'}}"
      ]
     },
     "execution_count": 6,
     "metadata": {},
     "output_type": "execute_result"
    }
   ],
   "execution_count": 6
  },
  {
   "metadata": {
    "ExecuteTime": {
     "end_time": "2025-04-13T10:52:00.101497Z",
     "start_time": "2025-04-13T10:52:00.060358Z"
    }
   },
   "cell_type": "code",
   "source": "data = sorted(data, key= lambda x: x[\"content\"][\"timestamp\"])",
   "id": "d11fb5f8bf2e3a89",
   "outputs": [],
   "execution_count": 7
  },
  {
   "metadata": {
    "ExecuteTime": {
     "end_time": "2025-04-13T10:52:00.274760Z",
     "start_time": "2025-04-13T10:52:00.253308Z"
    }
   },
   "cell_type": "code",
   "source": "data[0]",
   "id": "4e5f2a7ecf161111",
   "outputs": [
    {
     "data": {
      "text/plain": [
       "{'id': 477,\n",
       " 'target': 0.1,\n",
       " 'content': {'timestamp': '1704303002.205',\n",
       "  'success': 1,\n",
       "  'uid': '0',\n",
       "  'euid': '0',\n",
       "  'syscall': '0',\n",
       "  'ppid': '4067',\n",
       "  'pid': '4067',\n",
       "  'command': 'sh',\n",
       "  'arguments': ['/bin/sh', '-c'],\n",
       "  'CWD': '/root'}}"
      ]
     },
     "execution_count": 8,
     "metadata": {},
     "output_type": "execute_result"
    }
   ],
   "execution_count": 8
  },
  {
   "metadata": {
    "ExecuteTime": {
     "end_time": "2025-04-13T10:52:00.758764Z",
     "start_time": "2025-04-13T10:52:00.733395Z"
    }
   },
   "cell_type": "code",
   "source": [
    "targets = np.array([x[\"target\"] for x in data])\n",
    "features = np.array([x[\"content\"] for x in data])"
   ],
   "id": "9c974e600c1a91dc",
   "outputs": [],
   "execution_count": 9
  },
  {
   "metadata": {
    "ExecuteTime": {
     "end_time": "2025-04-13T10:52:01.231970Z",
     "start_time": "2025-04-13T10:52:01.205097Z"
    }
   },
   "cell_type": "code",
   "source": "features[0]",
   "id": "fa4642138dfdc942",
   "outputs": [
    {
     "data": {
      "text/plain": [
       "{'timestamp': '1704303002.205',\n",
       " 'success': 1,\n",
       " 'uid': '0',\n",
       " 'euid': '0',\n",
       " 'syscall': '0',\n",
       " 'ppid': '4067',\n",
       " 'pid': '4067',\n",
       " 'command': 'sh',\n",
       " 'arguments': ['/bin/sh', '-c'],\n",
       " 'CWD': '/root'}"
      ]
     },
     "execution_count": 10,
     "metadata": {},
     "output_type": "execute_result"
    }
   ],
   "execution_count": 10
  },
  {
   "metadata": {
    "ExecuteTime": {
     "end_time": "2025-04-13T10:52:01.802751Z",
     "start_time": "2025-04-13T10:52:01.779944Z"
    }
   },
   "cell_type": "code",
   "source": [
    "first_time = features[0][\"timestamp\"]\n",
    "first_time"
   ],
   "id": "5dec6b32ce69f547",
   "outputs": [
    {
     "data": {
      "text/plain": [
       "'1704303002.205'"
      ]
     },
     "execution_count": 11,
     "metadata": {},
     "output_type": "execute_result"
    }
   ],
   "execution_count": 11
  },
  {
   "metadata": {
    "ExecuteTime": {
     "end_time": "2025-04-13T10:52:02.335160Z",
     "start_time": "2025-04-13T10:52:02.311492Z"
    }
   },
   "cell_type": "code",
   "source": [
    "def create_command_string(command:str , args:list):\n",
    "    \"\"\"\n",
    "    Create a command string from the command and arguments.\n",
    "    \"\"\"\n",
    "    if args:\n",
    "        args = \" \".join(args)\n",
    "        return args\n",
    "    else:\n",
    "        return command"
   ],
   "id": "1d30bb756e68ee13",
   "outputs": [],
   "execution_count": 12
  },
  {
   "metadata": {
    "ExecuteTime": {
     "end_time": "2025-04-13T10:52:02.827223Z",
     "start_time": "2025-04-13T10:52:02.797423Z"
    }
   },
   "cell_type": "code",
   "source": [
    "for i, f in enumerate(features):\n",
    "    if f[\"command\"] is not None:\n",
    "        features[i][\"command\"] = create_command_string(f[\"command\"], f[\"arguments\"])\n",
    "    else:\n",
    "        features[i][\"command\"] = None"
   ],
   "id": "9a6ce303789b5afd",
   "outputs": [],
   "execution_count": 13
  },
  {
   "metadata": {
    "ExecuteTime": {
     "end_time": "2025-04-13T10:52:03.327678Z",
     "start_time": "2025-04-13T10:52:03.304936Z"
    }
   },
   "cell_type": "code",
   "source": "features[1190]",
   "id": "ca8c85376c20a27f",
   "outputs": [
    {
     "data": {
      "text/plain": [
       "{'timestamp': '1704304166.688',\n",
       " 'success': 0,\n",
       " 'uid': '4294967295',\n",
       " 'euid': '0',\n",
       " 'syscall': '0',\n",
       " 'ppid': '4734',\n",
       " 'pid': '4734',\n",
       " 'command': 'wazuh-modulesd',\n",
       " 'arguments': None,\n",
       " 'CWD': '/var/ossec'}"
      ]
     },
     "execution_count": 14,
     "metadata": {},
     "output_type": "execute_result"
    }
   ],
   "execution_count": 14
  },
  {
   "metadata": {
    "ExecuteTime": {
     "end_time": "2025-04-13T10:52:03.875409Z",
     "start_time": "2025-04-13T10:52:03.812603Z"
    }
   },
   "cell_type": "code",
   "source": [
    "def assess_cwd_risk(cwd):\n",
    "    if not cwd:\n",
    "        return 3  # Treat None as high risk\n",
    "\n",
    "    cwd = cwd.strip().lower()\n",
    "\n",
    "    high_risk = [\n",
    "        \"/root\", \"/etc\", \"/bin\", \"/sbin\", \"/lib\", \"/lib64\", \"/dev\",\n",
    "        \"/snap\", \"/lost+found\", \"/initrd\", \"/var/lib\", \"/var/cache\"\n",
    "    ]\n",
    "    medium_risk = [\n",
    "        \"/var\", \"/tmp\", \"/run\", \"/srv\", \"/proc\", \"/sys\", \"/var/log\", \"/var/tmp\"\n",
    "    ]\n",
    "    low_risk = [\n",
    "        \"/home\", \"/usr\", \"/opt\", \"/boot\", \"/media\", \"/mnt\"\n",
    "    ]\n",
    "\n",
    "    # Match longest prefix\n",
    "    for path in high_risk:\n",
    "        if cwd.startswith(path):\n",
    "            return 2\n",
    "    for path in medium_risk:\n",
    "        if cwd.startswith(path):\n",
    "            return 1\n",
    "    for path in low_risk:\n",
    "        if cwd.startswith(path):\n",
    "            return 0\n",
    "\n",
    "    return 3, \"unknown\"  # Default conservative fallback\n",
    "\n",
    "def rank_cwd_risk(dataset):\n",
    "    for entry in dataset:\n",
    "        cwd = entry.get(\"CWD\")\n",
    "        score = assess_cwd_risk(cwd)\n",
    "        entry[\"cwd_risk_score\"] = score\n",
    "    return dataset\n",
    "\n",
    "a = rank_cwd_risk(features)"
   ],
   "id": "e788762675e4321",
   "outputs": [],
   "execution_count": 15
  },
  {
   "metadata": {
    "ExecuteTime": {
     "end_time": "2025-04-13T10:52:04.504834Z",
     "start_time": "2025-04-13T10:52:04.483680Z"
    }
   },
   "cell_type": "code",
   "source": "a[0]",
   "id": "fee1d5578b8e6c7a",
   "outputs": [
    {
     "data": {
      "text/plain": [
       "{'timestamp': '1704303002.205',\n",
       " 'success': 1,\n",
       " 'uid': '0',\n",
       " 'euid': '0',\n",
       " 'syscall': '0',\n",
       " 'ppid': '4067',\n",
       " 'pid': '4067',\n",
       " 'command': '/bin/sh -c',\n",
       " 'arguments': ['/bin/sh', '-c'],\n",
       " 'CWD': '/root',\n",
       " 'cwd_risk_score': 2}"
      ]
     },
     "execution_count": 16,
     "metadata": {},
     "output_type": "execute_result"
    }
   ],
   "execution_count": 16
  },
  {
   "metadata": {
    "ExecuteTime": {
     "end_time": "2025-04-13T10:52:04.893118Z",
     "start_time": "2025-04-13T10:52:04.841799Z"
    }
   },
   "cell_type": "code",
   "source": [
    "with open(str(ROOT_DIR / \"bbd_gaidy_out/bbd.txt\"), \"r\", encoding=\"utf-8\") as f:\n",
    "    lines = f.readlines()\n",
    "\n",
    "lines = [f.strip() for f in lines]\n",
    "lines = [{\"command\": f.split()[0], \"description\": \" \".join(f.split()[1:]).strip()} for f in lines]"
   ],
   "id": "4d6bae4542ebfa6f",
   "outputs": [],
   "execution_count": 17
  },
  {
   "metadata": {
    "ExecuteTime": {
     "end_time": "2025-04-13T10:52:05.366772Z",
     "start_time": "2025-04-13T10:52:05.325513Z"
    }
   },
   "cell_type": "code",
   "source": "lines",
   "id": "505817ad4858d9a5",
   "outputs": [
    {
     "data": {
      "text/plain": [
       "[{'command': 'alias', 'description': 'Create an alias'},\n",
       " {'command': 'apropos', 'description': 'Search Help manual pages (man -k)'},\n",
       " {'command': 'apt',\n",
       "  'description': 'Search for and install software packages (Debian/Ubuntu)'},\n",
       " {'command': 'apt-get',\n",
       "  'description': 'Search for and install software packages (Debian/Ubuntu)'},\n",
       " {'command': 'aptitude',\n",
       "  'description': 'Search for and install software packages (Debian/Ubuntu)'},\n",
       " {'command': 'aspell', 'description': 'Spell Checker'},\n",
       " {'command': 'at',\n",
       "  'description': 'Schedule a command to run once at a particular time'},\n",
       " {'command': 'awk',\n",
       "  'description': 'Find and Replace text, database sort/validate/index'},\n",
       " {'command': 'basename',\n",
       "  'description': 'Strip directory and suffix from filenames'},\n",
       " {'command': 'base32',\n",
       "  'description': 'Base32 encode/decode data and print to standard output'},\n",
       " {'command': 'base64',\n",
       "  'description': 'Base64 encode/decode data and print to standard output'},\n",
       " {'command': 'bash', 'description': 'GNU Bourne-Again SHell'},\n",
       " {'command': 'bc', 'description': 'Arbitrary precision calculator language'},\n",
       " {'command': 'bg', 'description': 'Send to background'},\n",
       " {'command': 'bind',\n",
       "  'description': 'Set or display readline key and function bindings'},\n",
       " {'command': 'break', 'description': 'Exit from a loop'},\n",
       " {'command': 'builtin', 'description': 'Run a shell builtin'},\n",
       " {'command': 'bzip2', 'description': 'Compress or decompress named file(s)'},\n",
       " {'command': 'cal', 'description': 'Display a calendar'},\n",
       " {'command': 'caller',\n",
       "  'description': 'Return the context of any active subroutine call'},\n",
       " {'command': 'case', 'description': 'Conditionally perform a command'},\n",
       " {'command': 'cat',\n",
       "  'description': 'Concatenate and print (display) the content of files'},\n",
       " {'command': 'cd', 'description': 'Change Directory'},\n",
       " {'command': 'cfdisk', 'description': 'Partition table manipulator for Linux'},\n",
       " {'command': 'chattr',\n",
       "  'description': 'Change file attributes on a Linux file system'},\n",
       " {'command': 'chgrp', 'description': 'Change group ownership'},\n",
       " {'command': 'chmod', 'description': 'Change access permissions'},\n",
       " {'command': 'chown', 'description': 'Change file owner and group'},\n",
       " {'command': 'chpasswd', 'description': 'Update passwords in batch mode'},\n",
       " {'command': 'chroot',\n",
       "  'description': 'Run a command with a different root directory'},\n",
       " {'command': 'chkconfig', 'description': 'System services (runlevel)'},\n",
       " {'command': 'cksum', 'description': 'Print CRC checksum and byte counts'},\n",
       " {'command': 'clear',\n",
       "  'description': 'Clear the terminal screen/console (ncurses)'},\n",
       " {'command': 'clear_console',\n",
       "  'description': 'Clear the terminal screen/console (bash)'},\n",
       " {'command': 'cmp', 'description': 'Compare two files'},\n",
       " {'command': 'comm', 'description': 'Compare two sorted files line by line'},\n",
       " {'command': 'command',\n",
       "  'description': 'Run a command - ignoring shell functions'},\n",
       " {'command': 'continue', 'description': 'Resume the next iteration of a loop'},\n",
       " {'command': 'cp',\n",
       "  'description': 'Copy one or more files to another location'},\n",
       " {'command': 'cpio', 'description': 'Copy files to and from archives'},\n",
       " {'command': 'cron', 'description': 'Daemon to execute scheduled commands'},\n",
       " {'command': 'crontab',\n",
       "  'description': 'Schedule a command to run at a later time'},\n",
       " {'command': 'csplit',\n",
       "  'description': 'Split a file into context-determined pieces'},\n",
       " {'command': 'curl', 'description': 'Transfer data from or to a server'},\n",
       " {'command': 'cut', 'description': 'Divide a file into several parts'},\n",
       " {'command': 'date', 'description': 'Display or change the date & time'},\n",
       " {'command': 'dc', 'description': 'Desk Calculator'},\n",
       " {'command': 'dd',\n",
       "  'description': 'Data Duplicator - convert and copy a file, write disk headers, boot records'},\n",
       " {'command': 'ddrescue', 'description': 'Data recovery tool'},\n",
       " {'command': 'declare',\n",
       "  'description': 'Declare variables and give them attributes'},\n",
       " {'command': 'df', 'description': 'Display free disk space'},\n",
       " {'command': 'diff',\n",
       "  'description': 'Display the differences between two files'},\n",
       " {'command': 'diff3', 'description': 'Show differences among three files'},\n",
       " {'command': 'dig', 'description': 'DNS lookup'},\n",
       " {'command': 'dir', 'description': 'Briefly list directory contents'},\n",
       " {'command': 'dircolors', 'description': \"Colour setup for 'ls'\"},\n",
       " {'command': 'dirname',\n",
       "  'description': 'Convert a full pathname to just a path'},\n",
       " {'command': 'dirs', 'description': 'Display list of remembered directories'},\n",
       " {'command': 'dos2unix',\n",
       "  'description': 'Windows/MAC to UNIX text file format converter'},\n",
       " {'command': 'dmesg', 'description': 'Print kernel & driver messages'},\n",
       " {'command': 'dpkg', 'description': 'Package manager (Debian/Ubuntu).'},\n",
       " {'command': 'du', 'description': 'Estimate file space usage'},\n",
       " {'command': 'echo', 'description': 'Display message on screen'},\n",
       " {'command': 'egrep',\n",
       "  'description': 'Search file(s) for lines that match an extended expression'},\n",
       " {'command': 'eject', 'description': 'Eject removable media'},\n",
       " {'command': 'enable',\n",
       "  'description': 'Enable and disable builtin shell commands'},\n",
       " {'command': 'env', 'description': 'Environment variables'},\n",
       " {'command': 'ethtool', 'description': 'Ethernet card settings'},\n",
       " {'command': 'eval', 'description': 'Evaluate several commands/arguments'},\n",
       " {'command': 'exec', 'description': 'Execute a command'},\n",
       " {'command': 'exit', 'description': 'Exit the shell'},\n",
       " {'command': 'expand', 'description': 'Convert tabs to spaces'},\n",
       " {'command': 'export', 'description': 'Set an environment variable'},\n",
       " {'command': 'expr', 'description': 'Evaluate expressions'},\n",
       " {'command': 'false', 'description': 'Do nothing, unsuccessfully'},\n",
       " {'command': 'fdformat', 'description': 'Low-level format a floppy disk'},\n",
       " {'command': 'fdisk', 'description': 'Partition table manipulator for Linux'},\n",
       " {'command': 'fg', 'description': 'Send job to foreground'},\n",
       " {'command': 'fgrep',\n",
       "  'description': 'Search file(s) for lines that match a fixed string'},\n",
       " {'command': 'file', 'description': 'Determine file type'},\n",
       " {'command': 'find',\n",
       "  'description': 'Search for files that meet a desired criteria'},\n",
       " {'command': 'fmt', 'description': 'Reformat paragraph text'},\n",
       " {'command': 'fold', 'description': 'Wrap text to fit a specified width'},\n",
       " {'command': 'for', 'description': 'Expand words, and execute commands'},\n",
       " {'command': 'format', 'description': 'Format disks or tapes'},\n",
       " {'command': 'free', 'description': 'Display memory usage'},\n",
       " {'command': 'fsck',\n",
       "  'description': 'File system consistency check and repair'},\n",
       " {'command': 'ftp', 'description': 'File Transfer Protocol'},\n",
       " {'command': 'function', 'description': 'Define Function Macros'},\n",
       " {'command': 'fuser',\n",
       "  'description': 'Identify/kill the process that is accessing a file'},\n",
       " {'command': 'gawk', 'description': 'Find and Replace text within file(s)'},\n",
       " {'command': 'getopts', 'description': 'Parse positional parameters'},\n",
       " {'command': 'getfacl', 'description': 'Get file access control lists'},\n",
       " {'command': 'grep',\n",
       "  'description': 'Search file(s) for lines that match a given pattern'},\n",
       " {'command': 'groupadd', 'description': 'Add a user security group'},\n",
       " {'command': 'groupdel', 'description': 'Delete a group'},\n",
       " {'command': 'groupmod', 'description': 'Modify a group'},\n",
       " {'command': 'groups', 'description': 'Print group names a user is in'},\n",
       " {'command': 'gzip', 'description': 'Compress or decompress named file(s)'},\n",
       " {'command': 'hash',\n",
       "  'description': 'Remember the full pathname of a name argument'},\n",
       " {'command': 'head', 'description': 'Output the first part of file(s)'},\n",
       " {'command': 'help', 'description': 'Display help for a built-in command'},\n",
       " {'command': 'history', 'description': 'Command History'},\n",
       " {'command': 'hostname', 'description': 'Print or set system name'},\n",
       " {'command': 'htop', 'description': 'Interactive process viewer'},\n",
       " {'command': 'iconv', 'description': 'Convert the character set of a file'},\n",
       " {'command': 'id', 'description': 'Print user and group id’s'},\n",
       " {'command': 'if', 'description': 'Conditionally perform a command'},\n",
       " {'command': 'ifconfig', 'description': 'Configure a network interface'},\n",
       " {'command': 'ifdown', 'description': 'Stop a network interface'},\n",
       " {'command': 'ifup', 'description': 'Start a network interface up'},\n",
       " {'command': 'import',\n",
       "  'description': 'Capture an X server screen and save the image to file'},\n",
       " {'command': 'install', 'description': 'Copy files and set attributes'},\n",
       " {'command': 'iostat', 'description': 'Report CPU and i/o statistics'},\n",
       " {'command': 'ip', 'description': 'Routing, devices and tunnels'},\n",
       " {'command': 'jobs', 'description': 'List active jobs'},\n",
       " {'command': 'join', 'description': 'Join lines on a common field'},\n",
       " {'command': 'kill', 'description': 'Kill a process by specifying its PID'},\n",
       " {'command': 'killall', 'description': 'Kill processes by name'},\n",
       " {'command': 'klist', 'description': 'List cached Kerberos tickets'},\n",
       " {'command': 'less', 'description': 'Display output one screen at a time'},\n",
       " {'command': 'let', 'description': 'Perform arithmetic on shell variables'},\n",
       " {'command': 'link', 'description': 'Create a link to a file'},\n",
       " {'command': 'ln', 'description': 'Create a symbolic link to a file'},\n",
       " {'command': 'local', 'description': 'Create a function variable'},\n",
       " {'command': 'locate', 'description': 'Find files'},\n",
       " {'command': 'login', 'description': 'Login to the computer'},\n",
       " {'command': 'logname', 'description': 'Print current login name'},\n",
       " {'command': 'logout', 'description': 'Exit a login shell'},\n",
       " {'command': 'look',\n",
       "  'description': 'Display lines beginning with a given string'},\n",
       " {'command': 'lpc', 'description': 'Line printer control program'},\n",
       " {'command': 'lpr', 'description': 'Print files'},\n",
       " {'command': 'lprint', 'description': 'Print a file'},\n",
       " {'command': 'lprintd', 'description': 'Delete a print job'},\n",
       " {'command': 'lprintq', 'description': 'List the print queue'},\n",
       " {'command': 'lprm', 'description': 'Remove jobs from the print queue'},\n",
       " {'command': 'lsattr',\n",
       "  'description': 'List file attributes on a Linux second extended file system'},\n",
       " {'command': 'lsblk', 'description': 'List block devices'},\n",
       " {'command': 'ls', 'description': 'List information about file(s)'},\n",
       " {'command': 'lsof', 'description': 'List open files'},\n",
       " {'command': 'lspci', 'description': 'List all PCI devices'},\n",
       " {'command': 'make', 'description': 'Recompile a group of programs'},\n",
       " {'command': 'man', 'description': 'Help manual'},\n",
       " {'command': 'mapfile',\n",
       "  'description': 'Read lines from standard input into an indexed array variable'},\n",
       " {'command': 'md5sum', 'description': 'Compute and check MD5 message digest'},\n",
       " {'command': 'mkdir', 'description': 'Create new folder(s)'},\n",
       " {'command': 'mkfifo', 'description': 'Make FIFOs (named pipes)'},\n",
       " {'command': 'mkfile', 'description': 'Make a file'},\n",
       " {'command': 'mkisofs',\n",
       "  'description': 'Create a hybrid ISO9660/JOLIET/HFS filesystem'},\n",
       " {'command': 'mknod', 'description': 'Make block or character special files'},\n",
       " {'command': 'mktemp', 'description': 'Make a temporary file'},\n",
       " {'command': 'more', 'description': 'Display output one screen at a time'},\n",
       " {'command': 'most', 'description': 'Browse or page through a text file'},\n",
       " {'command': 'mount', 'description': 'Mount a file system'},\n",
       " {'command': 'mtools', 'description': 'Manipulate MS-DOS files'},\n",
       " {'command': 'mtr', 'description': 'Network diagnostics (traceroute/ping)'},\n",
       " {'command': 'mv', 'description': 'Move or rename files or directories'},\n",
       " {'command': 'mmv', 'description': 'Mass Move and rename (files)'},\n",
       " {'command': 'nc',\n",
       "  'description': 'Netcat, read and write data across networks'},\n",
       " {'command': 'netstat', 'description': 'Networking connections/stats'},\n",
       " {'command': 'nft',\n",
       "  'description': 'nftables for packet filtering and classification'},\n",
       " {'command': 'nice', 'description': 'Set the priority of a command or job'},\n",
       " {'command': 'nl', 'description': 'Number lines and write files'},\n",
       " {'command': 'nohup', 'description': 'Run a command immune to hangups'},\n",
       " {'command': 'notify-send', 'description': 'Send desktop notifications'},\n",
       " {'command': 'nslookup',\n",
       "  'description': 'Query Internet name servers interactively'},\n",
       " {'command': 'open', 'description': 'Open a file in its default application'},\n",
       " {'command': 'op', 'description': 'Operator access'},\n",
       " {'command': 'passwd', 'description': 'Modify a user password'},\n",
       " {'command': 'paste', 'description': 'Merge lines of files'},\n",
       " {'command': 'pathchk', 'description': 'Check file name portability'},\n",
       " {'command': 'Perf', 'description': 'Performance analysis tools for Linux'},\n",
       " {'command': 'ping', 'description': 'Test a network connection'},\n",
       " {'command': 'pgrep', 'description': 'List processes by name'},\n",
       " {'command': 'pkill', 'description': 'Kill processes by name'},\n",
       " {'command': 'popd',\n",
       "  'description': 'Restore the previous value of the current directory'},\n",
       " {'command': 'pr', 'description': 'Prepare files for printing'},\n",
       " {'command': 'printcap', 'description': 'Printer capability database'},\n",
       " {'command': 'printenv', 'description': 'Print environment variables'},\n",
       " {'command': 'printf', 'description': 'Format and print data'},\n",
       " {'command': 'ps', 'description': 'Process status'},\n",
       " {'command': 'pushd',\n",
       "  'description': 'Save and then change the current directory'},\n",
       " {'command': 'pv',\n",
       "  'description': 'Monitor the progress of data through a pipe'},\n",
       " {'command': 'pwd', 'description': 'Print Working Directory'},\n",
       " {'command': 'quota', 'description': 'Display disk usage and limits'},\n",
       " {'command': 'quotacheck', 'description': 'Scan a file system for disk usage'},\n",
       " {'command': 'ram', 'description': 'ram disk device'},\n",
       " {'command': 'rar', 'description': 'Archive files with compression'},\n",
       " {'command': 'rcp', 'description': 'Copy files between two machines'},\n",
       " {'command': 'read', 'description': 'Read a line from standard input'},\n",
       " {'command': 'readarray',\n",
       "  'description': 'Read from stdin into an array variable'},\n",
       " {'command': 'readonly',\n",
       "  'description': 'Mark variables/functions as readonly'},\n",
       " {'command': 'reboot', 'description': 'Reboot the system'},\n",
       " {'command': 'rename', 'description': 'Rename files'},\n",
       " {'command': 'renice', 'description': 'Alter priority of running processes'},\n",
       " {'command': 'remsync', 'description': 'Synchronize remote files via email'},\n",
       " {'command': 'return', 'description': 'Exit a shell function'},\n",
       " {'command': 'rev', 'description': 'Reverse lines of a file'},\n",
       " {'command': 'rm', 'description': 'Remove files'},\n",
       " {'command': 'rmdir', 'description': 'Remove folder(s)'},\n",
       " {'command': 'rsync',\n",
       "  'description': 'Remote file copy (Synchronize file trees)'},\n",
       " {'command': 'screen',\n",
       "  'description': 'Multiplex terminal, run remote shells via ssh'},\n",
       " {'command': 'scp', 'description': 'Secure copy (remote file copy)'},\n",
       " {'command': 'sdiff', 'description': 'Merge two files interactively'},\n",
       " {'command': 'sed', 'description': 'Stream Editor'},\n",
       " {'command': 'select',\n",
       "  'description': 'Accept user choices via keyboard input'},\n",
       " {'command': 'seq', 'description': 'Print numeric sequences'},\n",
       " {'command': 'set', 'description': 'Manipulate shell variables and functions'},\n",
       " {'command': 'setfacl', 'description': 'Set file access control lists.'},\n",
       " {'command': 'sftp', 'description': 'Secure File Transfer Program'},\n",
       " {'command': 'sha256sum',\n",
       "  'description': 'Compute and check SHA256 (256-bit) checksums'},\n",
       " {'command': 'shift', 'description': 'Shift positional parameters'},\n",
       " {'command': 'shopt', 'description': 'Shell Options'},\n",
       " {'command': 'shuf', 'description': 'Generate random permutations'},\n",
       " {'command': 'shutdown', 'description': 'Shutdown or restart Linux'},\n",
       " {'command': 'sleep', 'description': 'Delay for a specified time'},\n",
       " {'command': 'slocate', 'description': 'Find files'},\n",
       " {'command': 'sort', 'description': 'Sort text files'},\n",
       " {'command': 'source', 'description': \"Run commands from a file '.'\"},\n",
       " {'command': 'split', 'description': 'Split a file into fixed-size pieces'},\n",
       " {'command': 'ss', 'description': 'Socket Statistics'},\n",
       " {'command': 'ssh',\n",
       "  'description': 'Secure Shell client (remote login program)'},\n",
       " {'command': 'stat', 'description': 'Display file or file system status'},\n",
       " {'command': 'strace', 'description': 'Trace system calls and signals'},\n",
       " {'command': 'su', 'description': 'Substitute user identity'},\n",
       " {'command': 'sudo', 'description': 'Execute a command as another user'},\n",
       " {'command': 'sum', 'description': 'Print a checksum for a file'},\n",
       " {'command': 'suspend', 'description': 'Suspend execution of this shell'},\n",
       " {'command': 'sync', 'description': 'Synchronize data on disk with memory'},\n",
       " {'command': 'tabs', 'description': 'Set tabs on a terminal'},\n",
       " {'command': 'tail', 'description': 'Output the last part of a file'},\n",
       " {'command': 'tar',\n",
       "  'description': 'Store, list or extract files in an archive'},\n",
       " {'command': 'tee', 'description': 'Redirect output to multiple files'},\n",
       " {'command': 'test', 'description': 'Evaluate a conditional expression'},\n",
       " {'command': 'time', 'description': 'Measure Program running time'},\n",
       " {'command': 'timeout', 'description': 'Run a command with a time limit'},\n",
       " {'command': 'times', 'description': 'User and system times'},\n",
       " {'command': 'tmux', 'description': 'Terminal multiplexer'},\n",
       " {'command': 'touch', 'description': 'Change file timestamps'},\n",
       " {'command': 'top', 'description': 'List processes running on the system'},\n",
       " {'command': 'tput',\n",
       "  'description': 'Set terminal-dependent capabilities, colour, position'},\n",
       " {'command': 'traceroute', 'description': 'Trace Route to Host'},\n",
       " {'command': 'trap',\n",
       "  'description': 'Execute a command when the shell receives a signal'},\n",
       " {'command': 'tr',\n",
       "  'description': 'Translate, squeeze, and/or delete characters'},\n",
       " {'command': 'true', 'description': 'Do nothing, successfully'},\n",
       " {'command': 'tsort', 'description': 'Topological sort'},\n",
       " {'command': 'tty', 'description': 'Print filename of terminal on stdin'},\n",
       " {'command': 'type', 'description': 'Describe a command'},\n",
       " {'command': 'ulimit', 'description': 'Limit user resources'},\n",
       " {'command': 'umask', 'description': 'Users file creation mask'},\n",
       " {'command': 'umount', 'description': 'Unmount a device'},\n",
       " {'command': 'unalias', 'description': 'Remove an alias'},\n",
       " {'command': 'uname', 'description': 'Print system information'},\n",
       " {'command': 'unexpand', 'description': 'Convert spaces to tabs'},\n",
       " {'command': 'uniq', 'description': 'Uniquify files'},\n",
       " {'command': 'units',\n",
       "  'description': 'Convert units from one scale to another'},\n",
       " {'command': 'unix2dos',\n",
       "  'description': 'UNIX to Windows or MAC text file format converter'},\n",
       " {'command': 'unrar', 'description': 'Extract files from a rar archive'},\n",
       " {'command': 'unset', 'description': 'Remove variable or function names'},\n",
       " {'command': 'unshar', 'description': 'Unpack shell archive scripts'},\n",
       " {'command': 'until', 'description': 'Execute commands (until error)'},\n",
       " {'command': 'uptime', 'description': 'Show uptime'},\n",
       " {'command': 'useradd', 'description': 'Create new user account'},\n",
       " {'command': 'userdel', 'description': 'Delete a user account'},\n",
       " {'command': 'usermod', 'description': 'Modify user account'},\n",
       " {'command': 'users', 'description': 'List users currently logged in'},\n",
       " {'command': 'uuencode', 'description': 'Encode a binary file'},\n",
       " {'command': 'uudecode', 'description': 'Decode a file created by uuencode'},\n",
       " {'command': 'v',\n",
       "  'description': \"Verbosely list directory contents ('ls -l -b')\"},\n",
       " {'command': 'vdir',\n",
       "  'description': \"Verbosely list directory contents ('ls -l -b')\"},\n",
       " {'command': 'vi', 'description': 'Text Editor'},\n",
       " {'command': 'vmstat', 'description': 'Report virtual memory statistics'},\n",
       " {'command': 'w',\n",
       "  'description': 'Show who is logged on and what they are doing'},\n",
       " {'command': 'wait', 'description': 'Wait for a process to complete'},\n",
       " {'command': 'watch', 'description': 'Execute/display a program periodically'},\n",
       " {'command': 'wc', 'description': 'Print byte, word, and line counts'},\n",
       " {'command': 'whereis',\n",
       "  'description': 'Search the user’s $path, man pages and source files for a program'},\n",
       " {'command': 'which',\n",
       "  'description': 'Search the user’s $path for a program file'},\n",
       " {'command': 'while', 'description': 'Execute commands'},\n",
       " {'command': 'who', 'description': 'Print all usernames currently logged in'},\n",
       " {'command': 'whoami',\n",
       "  'description': \"Print the current user id and name ('id -un')\"},\n",
       " {'command': 'wget',\n",
       "  'description': 'Retrieve web pages or files via HTTP, HTTPS or FTP'},\n",
       " {'command': 'write', 'description': 'Send a message to another user'},\n",
       " {'command': 'xargs',\n",
       "  'description': 'Execute utility, passing constructed argument list(s)'},\n",
       " {'command': 'xdg-open',\n",
       "  'description': 'Open a file or URL in the user’s preferred application.'},\n",
       " {'command': 'xxd', 'description': 'Make a hexdump or do the reverse'},\n",
       " {'command': 'xz',\n",
       "  'description': 'Compress or decompress .xz and .lzma files'},\n",
       " {'command': 'yes', 'description': 'Print a string until interrupted'},\n",
       " {'command': 'zip', 'description': 'Package and compress (archive) files'},\n",
       " {'command': '.', 'description': 'Run a command script in the current shell'},\n",
       " {'command': '!!', 'description': 'Run the last command again'},\n",
       " {'command': '#', 'description': 'Comment / Remark'}]"
      ]
     },
     "execution_count": 18,
     "metadata": {},
     "output_type": "execute_result"
    }
   ],
   "execution_count": 18
  },
  {
   "metadata": {
    "ExecuteTime": {
     "end_time": "2025-04-13T10:52:06.104031Z",
     "start_time": "2025-04-13T10:52:06.075328Z"
    }
   },
   "cell_type": "code",
   "source": [
    "with open(str(ROOT_DIR / \"bash_commands.json\"), \"w\", encoding=\"utf-8\") as f:\n",
    "    for line in lines:\n",
    "        f.write(json.dumps(line) + \"\\n\")"
   ],
   "id": "3a72527f9f1d6434",
   "outputs": [],
   "execution_count": 19
  },
  {
   "metadata": {
    "ExecuteTime": {
     "end_time": "2025-04-13T10:52:06.676322Z",
     "start_time": "2025-04-13T10:52:06.652510Z"
    }
   },
   "cell_type": "code",
   "source": "BASH_COMMANDS = [f.get(\"command\") for f in lines]",
   "id": "fb70934b198d201",
   "outputs": [],
   "execution_count": 20
  },
  {
   "metadata": {
    "ExecuteTime": {
     "end_time": "2025-04-13T10:52:07.235812Z",
     "start_time": "2025-04-13T10:52:07.138911Z"
    }
   },
   "cell_type": "code",
   "source": [
    "def is_bash_command(command: str):\n",
    "    if not command:\n",
    "        return 0  # Treat None as high risk\n",
    "    \n",
    "    if \"/\" in command.split()[0]:\n",
    "        if any(f in BASH_COMMANDS + [\"sh\"] for f in command.split()[0].split(\"/\")):\n",
    "            return 1\n",
    "    else:\n",
    "        if command in BASH_COMMANDS + [\"sh\"]:\n",
    "            return 1\n",
    "    return 0\n",
    "\n",
    "def get_bash_commands(dataset):\n",
    "    for entry in dataset:\n",
    "        command = entry.get(\"command\")\n",
    "        score = is_bash_command(command)\n",
    "        entry[\"is_bash\"] = score\n",
    "    return dataset\n",
    "\n",
    "features = get_bash_commands(features)"
   ],
   "id": "99f0eaac9a3b2819",
   "outputs": [],
   "execution_count": 21
  },
  {
   "metadata": {
    "ExecuteTime": {
     "end_time": "2025-04-13T10:52:07.995376Z",
     "start_time": "2025-04-13T10:52:07.954225Z"
    }
   },
   "cell_type": "code",
   "source": [
    "def flag_count(command: str):\n",
    "    if not command:\n",
    "        return 0  # Treat None as high risk\n",
    "    \n",
    "    command = command.split()[1:]\n",
    "    return sum(1 for part in command if part.startswith('-'))\n",
    "    \n",
    "\n",
    "def get_flag_ammount(dataset):\n",
    "    for entry in dataset:\n",
    "        command = entry.get(\"command\")\n",
    "        score = flag_count(command)\n",
    "        entry[\"flag_count\"] = score\n",
    "    return dataset\n",
    "\n",
    "features = get_flag_ammount(features)"
   ],
   "id": "f59232d78397bd21",
   "outputs": [],
   "execution_count": 22
  },
  {
   "metadata": {
    "ExecuteTime": {
     "end_time": "2025-04-13T11:13:28.138242Z",
     "start_time": "2025-04-13T11:13:28.072969Z"
    }
   },
   "cell_type": "code",
   "source": [
    "def args_count(command: str):\n",
    "    if not command:\n",
    "        return 0  # Treat None as high risk\n",
    "    \n",
    "    command = command.split()[1:]\n",
    "    return len(command)\n",
    "    \n",
    "\n",
    "def get_args_ammount(dataset):\n",
    "    for entry in dataset:\n",
    "        command = entry.get(\"command\")\n",
    "        score = max([args_count(command) - entry.get(\"flag_count\"), 0])\n",
    "        entry[\"args_counts\"] = score\n",
    "    return dataset\n",
    "\n",
    "features = get_args_ammount(features)"
   ],
   "id": "9cba80bd956691a8",
   "outputs": [],
   "execution_count": 44
  },
  {
   "metadata": {
    "ExecuteTime": {
     "end_time": "2025-04-13T10:52:09.944941Z",
     "start_time": "2025-04-13T10:52:09.909250Z"
    }
   },
   "cell_type": "code",
   "source": "a[640]",
   "id": "c04c09fb7290ea57",
   "outputs": [
    {
     "data": {
      "text/plain": [
       "{'timestamp': '1704304159.380',\n",
       " 'success': 1,\n",
       " 'uid': '4294967295',\n",
       " 'euid': '0',\n",
       " 'syscall': '0',\n",
       " 'ppid': '4734',\n",
       " 'pid': '4734',\n",
       " 'command': 'findmnt --kernel /var/log/audit',\n",
       " 'arguments': ['findmnt', '--kernel', '/var/log/audit'],\n",
       " 'CWD': '/var/ossec',\n",
       " 'cwd_risk_score': 1,\n",
       " 'is_bash': 0,\n",
       " 'flag_count': 1,\n",
       " 'args_counts': 1}"
      ]
     },
     "execution_count": 24,
     "metadata": {},
     "output_type": "execute_result"
    }
   ],
   "execution_count": 24
  },
  {
   "metadata": {
    "ExecuteTime": {
     "end_time": "2025-04-13T11:10:14.125284Z",
     "start_time": "2025-04-13T11:10:11.192614Z"
    }
   },
   "cell_type": "code",
   "source": [
    "commands = [\n",
    "    \"ls -la /home/user\",\n",
    "    \"rm -rf /var/log\",\n",
    "    \"cd /etc/nginx\",\n",
    "    \"mkdir new_folder\",\n",
    "]\n",
    "\n",
    "from transformers import AutoTokenizer, AutoModel\n",
    "import torch\n",
    "\n",
    "tokenizer = AutoTokenizer.from_pretrained(\"microsoft/codebert-base\")\n",
    "model = AutoModel.from_pretrained(\"microsoft/codebert-base\")\n",
    "\n",
    "def embed_command(cmd):\n",
    "    inputs = tokenizer(cmd, return_tensors=\"pt\", truncation=True, padding=True)\n",
    "    outputs = model(**inputs)\n",
    "    return torch.mean(outputs.last_hidden_state, dim=1).detach().numpy()\n",
    "\n",
    "X = np.array([embed_command(c) for c in commands])\n"
   ],
   "id": "512b10e57c77dea5",
   "outputs": [],
   "execution_count": 34
  },
  {
   "metadata": {
    "ExecuteTime": {
     "end_time": "2025-04-13T11:10:31.026442Z",
     "start_time": "2025-04-13T11:10:30.980264Z"
    }
   },
   "cell_type": "code",
   "source": "X.shape",
   "id": "de63c3f5806342da",
   "outputs": [
    {
     "data": {
      "text/plain": [
       "(4, 1, 768)"
      ]
     },
     "execution_count": 35,
     "metadata": {},
     "output_type": "execute_result"
    }
   ],
   "execution_count": 35
  },
  {
   "metadata": {
    "ExecuteTime": {
     "end_time": "2025-04-13T11:11:14.395789Z",
     "start_time": "2025-04-13T11:11:14.353177Z"
    }
   },
   "cell_type": "code",
   "source": "X.reshape(4, -1).shape",
   "id": "8e47656ae0f34650",
   "outputs": [
    {
     "data": {
      "text/plain": [
       "(4, 768)"
      ]
     },
     "execution_count": 38,
     "metadata": {},
     "output_type": "execute_result"
    }
   ],
   "execution_count": 38
  },
  {
   "metadata": {
    "ExecuteTime": {
     "end_time": "2025-04-13T11:12:08.407332Z",
     "start_time": "2025-04-13T11:12:08.354116Z"
    }
   },
   "cell_type": "code",
   "source": "X = X.reshape(X.shape[0], -1)",
   "id": "e55b98b994eef5c1",
   "outputs": [],
   "execution_count": 40
  },
  {
   "metadata": {
    "ExecuteTime": {
     "end_time": "2025-04-13T11:12:30.448476Z",
     "start_time": "2025-04-13T11:12:30.401543Z"
    }
   },
   "cell_type": "code",
   "source": "X.shape",
   "id": "70c24a49e95e8859",
   "outputs": [
    {
     "data": {
      "text/plain": [
       "(4, 768)"
      ]
     },
     "execution_count": 42,
     "metadata": {},
     "output_type": "execute_result"
    }
   ],
   "execution_count": 42
  },
  {
   "metadata": {
    "ExecuteTime": {
     "end_time": "2025-04-13T11:12:48.784570Z",
     "start_time": "2025-04-13T11:12:45.873484Z"
    }
   },
   "cell_type": "code",
   "source": [
    "import matplotlib.pyplot as plt\n",
    "from sklearn.decomposition import PCA\n",
    "\n",
    "pca = PCA(n_components=2)\n",
    "X_pca = pca.fit_transform(X)\n",
    "\n",
    "# Step 3: Plot the results\n",
    "plt.figure(figsize=(10, 6))\n",
    "plt.scatter(X_pca[:, 0], X_pca[:, 1], color='royalblue')\n",
    "\n",
    "plt.title(\"Shell Command Embeddings (TF-IDF + PCA)\")\n",
    "plt.xlabel(\"PCA Component 1\")\n",
    "plt.ylabel(\"PCA Component 2\")\n",
    "plt.grid(True)\n",
    "plt.tight_layout()\n",
    "plt.show()"
   ],
   "id": "3669a310985832bf",
   "outputs": [
    {
     "data": {
      "text/plain": [
       "<Figure size 1000x600 with 1 Axes>"
      ],
      "image/png": "[encoded data removed]"
     },
     "metadata": {},
     "output_type": "display_data"
    }
   ],
   "execution_count": 43
  },
  {
   "metadata": {
    "ExecuteTime": {
     "end_time": "2025-04-13T11:39:56.948699Z",
     "start_time": "2025-04-13T11:39:56.912782Z"
    }
   },
   "cell_type": "code",
   "source": "test_commands = [f.get('command') for f in features[:1000]]",
   "id": "7fc88ff0fe4bee0b",
   "outputs": [],
   "execution_count": 58
  },
  {
   "metadata": {
    "ExecuteTime": {
     "end_time": "2025-04-13T11:40:50.639486Z",
     "start_time": "2025-04-13T11:39:57.631708Z"
    }
   },
   "cell_type": "code",
   "source": [
    "X = np.array([embed_command(c) for c in test_commands])\n",
    "X = X.reshape(X.shape[0], -1)"
   ],
   "id": "8415d2192af71d46",
   "outputs": [],
   "execution_count": 59
  },
  {
   "metadata": {
    "ExecuteTime": {
     "end_time": "2025-04-13T11:41:24.751467Z",
     "start_time": "2025-04-13T11:41:16.206560Z"
    }
   },
   "cell_type": "code",
   "source": [
    "import matplotlib.pyplot as plt\n",
    "from sklearn.decomposition import PCA\n",
    "from sklearn.preprocessing import LabelEncoder\n",
    "\n",
    "base_cmds = [cmd.split()[0] for cmd in test_commands]\n",
    "\n",
    "# Encode command names as color labels\n",
    "label_encoder = LabelEncoder()\n",
    "color_labels = label_encoder.fit_transform(base_cmds)\n",
    "colors = plt.cm.get_cmap(\"tab10\", len(set(color_labels)))  # Get colormap\n",
    "\n",
    "pca = PCA(n_components=2)\n",
    "X_pca = pca.fit_transform(X)\n",
    "\n",
    "# Plot with color based on command type\n",
    "plt.figure(figsize=(10, 6))\n",
    "for i, (x, y) in enumerate(X_pca):\n",
    "    plt.scatter(x, y, color=colors(color_labels[i]), label=base_cmds[i] if base_cmds[i] not in base_cmds[:i] else \"\")\n",
    "\n",
    "plt.title(\"Shell Command Embeddings (TF-IDF + PCA)\")\n",
    "plt.xlabel(\"PCA Component 1\")\n",
    "plt.ylabel(\"PCA Component 2\")\n",
    "plt.grid(True)\n",
    "\n",
    "# Show legend with base commands\n",
    "#plt.legend(title=\"Base Command\", loc=\"best\", fontsize=9)\n",
    "plt.tight_layout()\n",
    "plt.show()"
   ],
   "id": "97d366c0edb01d29",
   "outputs": [
    {
     "name": "stderr",
     "output_type": "stream",
     "text": [
      "/tmp/ipykernel_53055/4242969236.py:10: MatplotlibDeprecationWarning: The get_cmap function was deprecated in Matplotlib 3.7 and will be removed in 3.11. Use ``matplotlib.colormaps[name]`` or ``matplotlib.colormaps.get_cmap()`` or ``pyplot.get_cmap()`` instead.\n",
      "  colors = plt.cm.get_cmap(\"tab10\", len(set(color_labels)))  # Get colormap\n"
     ]
    },
    {
     "data": {
      "text/plain": [
       "<Figure size 1000x600 with 1 Axes>"
      ],
      "image/png": "[encoded data removed]"
     },
     "metadata": {},
     "output_type": "display_data"
    }
   ],
   "execution_count": 61
  },
  {
   "metadata": {},
   "cell_type": "code",
   "outputs": [],
   "execution_count": null,
   "source": "",
   "id": "77d58b083ceaa0cf"
  }
 ],
 "metadata": {
  "kernelspec": {
   "display_name": "Python 3",
   "language": "python",
   "name": "python3"
  },
  "language_info": {
   "codemirror_mode": {
    "name": "ipython",
    "version": 2
   },
   "file_extension": ".py",
   "mimetype": "text/x-python",
   "name": "python",
   "nbconvert_exporter": "python",
   "pygments_lexer": "ipython2",
   "version": "2.7.6"
  }
 },
 "nbformat": 4,
 "nbformat_minor": 5
}
