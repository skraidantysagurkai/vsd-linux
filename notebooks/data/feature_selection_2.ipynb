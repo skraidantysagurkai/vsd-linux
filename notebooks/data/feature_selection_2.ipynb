{
 "cells": [
  {
   "cell_type": "code",
   "id": "initial_id",
   "metadata": {
    "collapsed": true,
    "ExecuteTime": {
     "end_time": "2025-05-03T08:50:23.956603Z",
     "start_time": "2025-05-03T08:50:23.916126Z"
    }
   },
   "source": [
    "%load_ext autoreload\n",
    "%autoreload 2"
   ],
   "outputs": [],
   "execution_count": 1
  },
  {
   "metadata": {
    "ExecuteTime": {
     "end_time": "2025-05-03T08:54:43.761991Z",
     "start_time": "2025-05-03T08:54:40.747419Z"
    }
   },
   "cell_type": "code",
   "source": [
    "from src.data.aggregator_accelerated import get_labels\n",
    "from src.shared.json_tools import load_json_long\n",
    "from paths import DATA_DIR\n",
    "\n",
    "import numpy as np\n",
    "\n",
    "target_count = 0\n",
    "dt_count = 0\n",
    "\n",
    "for file in (DATA_DIR / \"windowed\").glob(\"*.json\"):\n",
    "    data = load_json_long(file)\n",
    "    target = sum([i[\"target\"] >= 0.5 for i in data])\n",
    "    dt = len(data)\n",
    "    \n",
    "    print(f\"{file.name}: {target} targets, {dt} data points\")\n",
    "    target_count += target\n",
    "    dt_count += dt\n",
    "    \n",
    "print(f\"Total: {target_count} targets, {dt_count} data points\")"
   ],
   "id": "f9495bce3fb995a1",
   "outputs": [
    {
     "name": "stdout",
     "output_type": "stream",
     "text": [
      "03-04-January_0.json: 8 targets, 60 data points\n",
      "03-04-January_1000.json: 110 targets, 448 data points\n",
      "03-04-January_128.json: 4 targets, 8 data points\n",
      "03-04-January_4294967295.json: 1770 targets, 16440 data points\n",
      "04-06-January_0.json: 5 targets, 64 data points\n",
      "04-06-January_1000.json: 144 targets, 488 data points\n",
      "04-06-January_128.json: 3 targets, 6 data points\n",
      "04-06-January_4294967295.json: 1398 targets, 8469 data points\n",
      "06-07-January_0.json: 3 targets, 45 data points\n",
      "06-07-January_1000.json: 110 targets, 265 data points\n",
      "06-07-January_128.json: 1 targets, 3 data points\n",
      "06-07-January_4294967295.json: 741 targets, 6196 data points\n",
      "21-25-December_0.json: 3 targets, 38 data points\n",
      "21-25-December_1000.json: 34 targets, 118 data points\n",
      "21-25-December_4294967295.json: 1004 targets, 7123 data points\n",
      "25-26-December_0.json: 0 targets, 1 data points\n",
      "25-26-December_4294967295.json: 2165 targets, 9365 data points\n",
      "26-27-December_0.json: 1 targets, 46 data points\n",
      "26-27-December_1000.json: 19 targets, 126 data points\n",
      "26-27-December_4294967295.json: 866 targets, 8384 data points\n",
      "26-December_0.json: 0 targets, 1 data points\n",
      "26-December_1000.json: 17 targets, 67 data points\n",
      "26-December_4294967295.json: 1862 targets, 9599 data points\n",
      "28-31-December_0.json: 0 targets, 8 data points\n",
      "28-31-December_1000.json: 23 targets, 217 data points\n",
      "28-31-December_128.json: 2 targets, 6 data points\n",
      "28-31-December_4294967295.json: 821 targets, 6989 data points\n",
      "31-December-3-January_0.json: 0 targets, 10 data points\n",
      "31-December-3-January_1000.json: 217 targets, 3141 data points\n",
      "31-December-3-January_128.json: 2 targets, 4 data points\n",
      "31-December-3-January_4294967295.json: 360 targets, 4552 data points\n",
      "31-December_0.json: 0 targets, 5 data points\n",
      "31-December_1000.json: 823 targets, 9207 data points\n",
      "31-December_4294967295.json: 61 targets, 383 data points\n",
      "Total: 12577 targets, 91882 data points\n"
     ]
    }
   ],
   "execution_count": 3
  },
  {
   "metadata": {
    "ExecuteTime": {
     "end_time": "2025-05-03T09:03:27.831781Z",
     "start_time": "2025-05-03T09:03:27.090254Z"
    }
   },
   "cell_type": "code",
   "source": [
    "np.random.seed(42)  # for reproducibility\n",
    "X = []\n",
    "y = []\n",
    "\n",
    "for file in (DATA_DIR / \"windowed\").glob(\"*.json\"):\n",
    "    if len(X) >= 1000:\n",
    "        break\n",
    "    data = load_json_long(file)\n",
    "    targets = [int(i[\"target\"] >= 0.5) for i in data]\n",
    "    features = [i[\"content\"] for i in data]\n",
    "    \n",
    "    features = np.array(features)\n",
    "    targets = np.array(targets)\n",
    "    \n",
    "    pos_indices = np.where(targets == 1)[0]\n",
    "    neg_indices = np.where(targets == 0)[0]\n",
    "    \n",
    "    min_class_count = min(len(pos_indices), len(neg_indices))\n",
    "    pos_sample = np.random.choice(pos_indices, min_class_count, replace=False)\n",
    "    neg_sample = np.random.choice(neg_indices, min_class_count, replace=False)\n",
    "    \n",
    "    balanced_indices = np.concatenate([pos_sample, neg_sample])\n",
    "    np.random.shuffle(balanced_indices)\n",
    "    \n",
    "    features_balanced = features[balanced_indices]\n",
    "    y_balanced = targets[balanced_indices]\n",
    "    \n",
    "    X = X + features_balanced.tolist()\n",
    "    y = y + y_balanced.tolist()"
   ],
   "id": "f194bb316df703b7",
   "outputs": [],
   "execution_count": 8
  },
  {
   "metadata": {
    "ExecuteTime": {
     "end_time": "2025-05-03T09:03:27.960367Z",
     "start_time": "2025-05-03T09:03:27.925348Z"
    }
   },
   "cell_type": "code",
   "source": "len(X), len(y)",
   "id": "35f650792e2308b1",
   "outputs": [
    {
     "data": {
      "text/plain": [
       "(3784, 3784)"
      ]
     },
     "execution_count": 9,
     "metadata": {},
     "output_type": "execute_result"
    }
   ],
   "execution_count": 9
  },
  {
   "metadata": {
    "ExecuteTime": {
     "end_time": "2025-05-03T09:03:28.574621Z",
     "start_time": "2025-05-03T09:03:28.540121Z"
    }
   },
   "cell_type": "code",
   "source": "X[:2]",
   "id": "e21d48c2d3b7ef3f",
   "outputs": [
    {
     "data": {
      "text/plain": [
       "[[-0.4900478422641754,\n",
       "  0.051543112844228745,\n",
       "  -0.8481251001358032,\n",
       "  0.08602021634578705,\n",
       "  -0.9295556545257568,\n",
       "  0.12274473905563354,\n",
       "  -0.2493138164281845,\n",
       "  1.0020637512207031,\n",
       "  -0.5552481412887573,\n",
       "  0.04898757487535477,\n",
       "  1.0,\n",
       "  1.6279513835906982,\n",
       "  -0.0059578754007816315,\n",
       "  -0.4738290011882782,\n",
       "  0.5203844308853149,\n",
       "  -0.39929723739624023,\n",
       "  0.06124579906463623,\n",
       "  -0.029299870133399963,\n",
       "  0.5431172251701355,\n",
       "  -0.281063973903656,\n",
       "  0.06522102653980255,\n",
       "  4.0,\n",
       "  3.0,\n",
       "  0.0,\n",
       "  0.0,\n",
       "  0.5,\n",
       "  1.0,\n",
       "  2.0,\n",
       "  1.6279513835906982,\n",
       "  -0.0059578754007816315,\n",
       "  -0.4738290011882782,\n",
       "  0.5203844308853149,\n",
       "  -0.39929723739624023,\n",
       "  0.06124579906463623,\n",
       "  -0.029299870133399963,\n",
       "  0.5431172251701355,\n",
       "  -0.281063973903656,\n",
       "  0.06522102653980255,\n",
       "  4.0,\n",
       "  3.0,\n",
       "  0.0,\n",
       "  0.0,\n",
       "  0.5,\n",
       "  1.0,\n",
       "  2.0],\n",
       " [3.741574287414551,\n",
       "  -0.06362123787403107,\n",
       "  -0.09852482378482819,\n",
       "  0.9539062976837158,\n",
       "  0.1293705403804779,\n",
       "  -0.0008886530995368958,\n",
       "  0.18877190351486206,\n",
       "  0.0841207280755043,\n",
       "  -0.0058890581130981445,\n",
       "  0.08008701354265213,\n",
       "  1.0,\n",
       "  3.825129985809326,\n",
       "  -0.02950441837310791,\n",
       "  -0.19546592235565186,\n",
       "  0.9671711921691895,\n",
       "  0.132615327835083,\n",
       "  -0.0002605020999908447,\n",
       "  0.20212322473526,\n",
       "  0.08596663177013397,\n",
       "  -0.007702246308326721,\n",
       "  0.08601170778274536,\n",
       "  3.0,\n",
       "  3.0,\n",
       "  0.0,\n",
       "  0.0,\n",
       "  1.0,\n",
       "  1.0,\n",
       "  1.0,\n",
       "  3.825129985809326,\n",
       "  -0.02950441837310791,\n",
       "  -0.19546592235565186,\n",
       "  0.9671711921691895,\n",
       "  0.132615327835083,\n",
       "  -0.0002605020999908447,\n",
       "  0.20212322473526,\n",
       "  0.08596663177013397,\n",
       "  -0.007702246308326721,\n",
       "  0.08601170778274536,\n",
       "  3.0,\n",
       "  3.0,\n",
       "  0.0,\n",
       "  0.0,\n",
       "  1.0,\n",
       "  1.0,\n",
       "  1.0]]"
      ]
     },
     "execution_count": 10,
     "metadata": {},
     "output_type": "execute_result"
    }
   ],
   "execution_count": 10
  },
  {
   "metadata": {
    "ExecuteTime": {
     "end_time": "2025-05-03T09:03:29.293097Z",
     "start_time": "2025-05-03T09:03:29.258907Z"
    }
   },
   "cell_type": "code",
   "source": "y[:2]",
   "id": "ea97c09597e17d0a",
   "outputs": [
    {
     "data": {
      "text/plain": [
       "[0, 0]"
      ]
     },
     "execution_count": 11,
     "metadata": {},
     "output_type": "execute_result"
    }
   ],
   "execution_count": 11
  },
  {
   "metadata": {
    "ExecuteTime": {
     "end_time": "2025-05-03T09:03:39.597642Z",
     "start_time": "2025-05-03T09:03:39.562360Z"
    }
   },
   "cell_type": "code",
   "source": "sum(y)",
   "id": "1eb719b8ae6b672d",
   "outputs": [
    {
     "data": {
      "text/plain": [
       "1892"
      ]
     },
     "execution_count": 12,
     "metadata": {},
     "output_type": "execute_result"
    }
   ],
   "execution_count": 12
  },
  {
   "metadata": {
    "ExecuteTime": {
     "end_time": "2025-05-03T09:04:06.509654Z",
     "start_time": "2025-05-03T09:04:06.363050Z"
    }
   },
   "cell_type": "code",
   "source": [
    "from sklearn.model_selection import train_test_split\n",
    "\n",
    "X_train, X_test, y_train, y_test = train_test_split(X, y, test_size=0.2, random_state=42)"
   ],
   "id": "f92995f74698fb",
   "outputs": [],
   "execution_count": 13
  },
  {
   "metadata": {
    "ExecuteTime": {
     "end_time": "2025-05-03T09:05:45.868255Z",
     "start_time": "2025-05-03T09:05:45.835544Z"
    }
   },
   "cell_type": "code",
   "source": [
    "from sklearn.metrics import accuracy_score, precision_score, recall_score, f1_score, confusion_matrix, classification_report\n",
    "\n",
    "def get_metrics(y_true, y_pred):\n",
    "    print(\"Accuracy:\", accuracy_score(y_true, y_pred))\n",
    "    print(\"Precision:\", precision_score(y_true, y_pred))\n",
    "    print(\"Recall:\", recall_score(y_true, y_pred))\n",
    "    print(\"F1 Score:\", f1_score(y_true, y_pred))\n",
    "    \n",
    "    # Confusion Matrix\n",
    "    print(\"Confusion Matrix:\\n\", confusion_matrix(y_true, y_pred))\n",
    "    \n",
    "    # Full Classification Report\n",
    "    print(\"Classification Report:\\n\", classification_report(y_true, y_pred))"
   ],
   "id": "a69aadc449dcd694",
   "outputs": [],
   "execution_count": 14
  },
  {
   "metadata": {
    "ExecuteTime": {
     "end_time": "2025-05-03T09:08:58.045733Z",
     "start_time": "2025-05-03T09:08:56.583757Z"
    }
   },
   "cell_type": "code",
   "source": [
    "from sklearn.ensemble import RandomForestClassifier\n",
    "\n",
    "clf = RandomForestClassifier(random_state=42)\n",
    "clf.fit(X_train, y_train)\n",
    "\n",
    "# Get feature importances\n",
    "importances = clf.feature_importances_\n",
    "\n",
    "top_indices = np.argsort(importances)[-15:][::-1]"
   ],
   "id": "81591d25952acb2f",
   "outputs": [],
   "execution_count": 21
  },
  {
   "metadata": {
    "ExecuteTime": {
     "end_time": "2025-05-03T09:08:58.135004Z",
     "start_time": "2025-05-03T09:08:58.047769Z"
    }
   },
   "cell_type": "code",
   "source": [
    "y_pred = clf.predict(X_train)\n",
    "get_metrics(y_train, y_pred)"
   ],
   "id": "153b011365d1c431",
   "outputs": [
    {
     "name": "stdout",
     "output_type": "stream",
     "text": [
      "Accuracy: 0.9983481995374959\n",
      "Precision: 0.9993293091884641\n",
      "Recall: 0.9973226238286479\n",
      "F1 Score: 0.998324958123953\n",
      "Confusion Matrix:\n",
      " [[1532    1]\n",
      " [   4 1490]]\n",
      "Classification Report:\n",
      "               precision    recall  f1-score   support\n",
      "\n",
      "           0       1.00      1.00      1.00      1533\n",
      "           1       1.00      1.00      1.00      1494\n",
      "\n",
      "    accuracy                           1.00      3027\n",
      "   macro avg       1.00      1.00      1.00      3027\n",
      "weighted avg       1.00      1.00      1.00      3027\n",
      "\n"
     ]
    }
   ],
   "execution_count": 22
  },
  {
   "metadata": {
    "ExecuteTime": {
     "end_time": "2025-05-03T09:08:58.678746Z",
     "start_time": "2025-05-03T09:08:58.613894Z"
    }
   },
   "cell_type": "code",
   "source": [
    "y_pred = clf.predict(X_test)\n",
    "get_metrics(y_test, y_pred)"
   ],
   "id": "10e57f28bba1d13",
   "outputs": [
    {
     "name": "stdout",
     "output_type": "stream",
     "text": [
      "Accuracy: 0.8401585204755614\n",
      "Precision: 0.816933638443936\n",
      "Recall: 0.8969849246231156\n",
      "F1 Score: 0.8550898203592814\n",
      "Confusion Matrix:\n",
      " [[279  80]\n",
      " [ 41 357]]\n",
      "Classification Report:\n",
      "               precision    recall  f1-score   support\n",
      "\n",
      "           0       0.87      0.78      0.82       359\n",
      "           1       0.82      0.90      0.86       398\n",
      "\n",
      "    accuracy                           0.84       757\n",
      "   macro avg       0.84      0.84      0.84       757\n",
      "weighted avg       0.84      0.84      0.84       757\n",
      "\n"
     ]
    }
   ],
   "execution_count": 23
  },
  {
   "metadata": {
    "ExecuteTime": {
     "end_time": "2025-05-03T09:08:59.670984Z",
     "start_time": "2025-05-03T09:08:59.633871Z"
    }
   },
   "cell_type": "code",
   "source": [
    "labels = np.array(get_labels())\n",
    "labels[top_indices]"
   ],
   "id": "72de797df416dca6",
   "outputs": [
    {
     "data": {
      "text/plain": [
       "array(['thirty_sec_bash_count_rate', 'thirty_sec_avg_embedded_command_4',\n",
       "       'thirty_sec_avg_embedded_command_0',\n",
       "       'thirty_sec_avg_embedded_command_7',\n",
       "       'thirty_sec_avg_embedded_command_8',\n",
       "       'thirty_sec_avg_embedded_command_9', 'thirty_sec_log_count',\n",
       "       'thirty_sec_avg_embedded_command_5',\n",
       "       'thirty_sec_avg_embedded_command_3',\n",
       "       'thirty_sec_avg_embedded_command_2',\n",
       "       'thirty_sec_avg_embedded_command_1', 'thirty_sec_success_rate',\n",
       "       'thirty_sec_avg_embedded_command_6',\n",
       "       'cur_event_avg_embedded_command_0',\n",
       "       'cur_event_avg_embedded_command_6'], dtype='<U33')"
      ]
     },
     "execution_count": 24,
     "metadata": {},
     "output_type": "execute_result"
    }
   ],
   "execution_count": 24
  },
  {
   "metadata": {
    "ExecuteTime": {
     "end_time": "2025-05-03T09:12:59.639634Z",
     "start_time": "2025-05-03T09:12:59.599305Z"
    }
   },
   "cell_type": "code",
   "source": [
    "X_train = np.array(X_train)\n",
    "X_test = np.array(X_test)\n",
    "\n",
    "y_train = np.array(y_train)\n",
    "y_test = np.array(y_test)"
   ],
   "id": "ef9906b7f87bc0fb",
   "outputs": [],
   "execution_count": 31
  },
  {
   "metadata": {
    "ExecuteTime": {
     "end_time": "2025-05-03T09:13:02.026180Z",
     "start_time": "2025-05-03T09:13:00.986154Z"
    }
   },
   "cell_type": "code",
   "source": [
    "X_train_smaller = X_train[:, top_indices]\n",
    "X_test_smaller = X_test[:, top_indices]\n",
    "\n",
    "clf = RandomForestClassifier(random_state=42)\n",
    "clf.fit(X_train_smaller, y_train)\n",
    "\n",
    "y_pred = clf.predict(X_train_smaller)\n",
    "get_metrics(y_train, y_pred)"
   ],
   "id": "eca2499b1daebd3c",
   "outputs": [
    {
     "name": "stdout",
     "output_type": "stream",
     "text": [
      "Accuracy: 0.998017839444995\n",
      "Precision: 0.9993288590604027\n",
      "Recall: 0.9966532797858099\n",
      "F1 Score: 0.9979892761394102\n",
      "Confusion Matrix:\n",
      " [[1532    1]\n",
      " [   5 1489]]\n",
      "Classification Report:\n",
      "               precision    recall  f1-score   support\n",
      "\n",
      "           0       1.00      1.00      1.00      1533\n",
      "           1       1.00      1.00      1.00      1494\n",
      "\n",
      "    accuracy                           1.00      3027\n",
      "   macro avg       1.00      1.00      1.00      3027\n",
      "weighted avg       1.00      1.00      1.00      3027\n",
      "\n"
     ]
    }
   ],
   "execution_count": 32
  },
  {
   "metadata": {
    "ExecuteTime": {
     "end_time": "2025-05-03T09:13:25.904217Z",
     "start_time": "2025-05-03T09:13:25.838537Z"
    }
   },
   "cell_type": "code",
   "source": [
    "y_pred = clf.predict(X_test_smaller)\n",
    "get_metrics(y_test, y_pred)"
   ],
   "id": "5c97fa9a5a76584d",
   "outputs": [
    {
     "name": "stdout",
     "output_type": "stream",
     "text": [
      "Accuracy: 0.809775429326288\n",
      "Precision: 0.7939814814814815\n",
      "Recall: 0.8618090452261307\n",
      "F1 Score: 0.8265060240963855\n",
      "Confusion Matrix:\n",
      " [[270  89]\n",
      " [ 55 343]]\n",
      "Classification Report:\n",
      "               precision    recall  f1-score   support\n",
      "\n",
      "           0       0.83      0.75      0.79       359\n",
      "           1       0.79      0.86      0.83       398\n",
      "\n",
      "    accuracy                           0.81       757\n",
      "   macro avg       0.81      0.81      0.81       757\n",
      "weighted avg       0.81      0.81      0.81       757\n",
      "\n"
     ]
    }
   ],
   "execution_count": 33
  },
  {
   "metadata": {
    "ExecuteTime": {
     "end_time": "2025-05-03T09:16:16.198285Z",
     "start_time": "2025-05-03T09:16:16.170395Z"
    }
   },
   "cell_type": "code",
   "source": "top_indices = np.argsort(importances)[::-1]",
   "id": "c349b9592cdd1681",
   "outputs": [],
   "execution_count": 34
  },
  {
   "metadata": {
    "ExecuteTime": {
     "end_time": "2025-05-03T09:16:21.675903Z",
     "start_time": "2025-05-03T09:16:21.643671Z"
    }
   },
   "cell_type": "code",
   "source": [
    "for i in top_indices:\n",
    "    print(f\"{labels[i]}: {importances[i]}\")"
   ],
   "id": "ae27dbe95e1a6539",
   "outputs": [
    {
     "name": "stdout",
     "output_type": "stream",
     "text": [
      "thirty_sec_bash_count_rate: 0.06521222196271538\n",
      "thirty_sec_avg_embedded_command_4: 0.06114340002265136\n",
      "thirty_sec_avg_embedded_command_0: 0.05747927482001856\n",
      "thirty_sec_avg_embedded_command_7: 0.05012050140190896\n",
      "thirty_sec_avg_embedded_command_8: 0.04028451254535801\n",
      "thirty_sec_avg_embedded_command_9: 0.039826145391094074\n",
      "thirty_sec_log_count: 0.039706027657303605\n",
      "thirty_sec_avg_embedded_command_5: 0.038619305396060316\n",
      "thirty_sec_avg_embedded_command_3: 0.03844376045182208\n",
      "thirty_sec_avg_embedded_command_2: 0.036866177128832334\n",
      "thirty_sec_avg_embedded_command_1: 0.03540100503014095\n",
      "thirty_sec_success_rate: 0.03519792574989458\n",
      "thirty_sec_avg_embedded_command_6: 0.03478235737465719\n",
      "cur_event_avg_embedded_command_0: 0.027714960265120107\n",
      "cur_event_avg_embedded_command_6: 0.024603657868686894\n",
      "thirty_sec_unique_pids: 0.02399970662509907\n",
      "five_min_avg_embedded_command_4: 0.023225468085221777\n",
      "five_min_bash_count_rate: 0.022718658870717636\n",
      "five_min_avg_embedded_command_5: 0.02225504943965241\n",
      "cur_event_avg_embedded_command_9: 0.021181690084462832\n",
      "cur_event_avg_embedded_command_7: 0.02077390768844093\n",
      "cur_event_avg_embedded_command_4: 0.020562677655421\n",
      "cur_event_avg_embedded_command_2: 0.019896510122211962\n",
      "five_min_success_rate: 0.01916775879264028\n",
      "cur_event_avg_embedded_command_5: 0.018778574228223394\n",
      "five_min_log_count: 0.01836288825372896\n",
      "cur_event_avg_embedded_command_3: 0.0164948570692062\n",
      "cur_event_avg_embedded_command_1: 0.01617014632985732\n",
      "cur_event_avg_embedded_command_8: 0.015782050615963033\n",
      "five_min_avg_embedded_command_8: 0.013750055210460627\n",
      "five_min_avg_embedded_command_6: 0.011416698723594219\n",
      "five_min_avg_embedded_command_3: 0.011082206299990623\n",
      "five_min_avg_embedded_command_1: 0.010734238969088324\n",
      "five_min_avg_embedded_command_9: 0.010278429237510362\n",
      "five_min_avg_embedded_command_2: 0.010135337291247333\n",
      "five_min_avg_embedded_command_0: 0.009817946004600982\n",
      "five_min_avg_embedded_command_7: 0.009089668573314573\n",
      "five_min_unique_pids: 0.00574623263977052\n",
      "success: 0.0031780101233113583\n",
      "five_min_avg_flag_count: 0.0\n",
      "five_min_avg_arg_count: 0.0\n",
      "five_min_cwd_avg_risk_score: 0.0\n",
      "thirty_sec_cwd_avg_risk_score: 0.0\n",
      "thirty_sec_avg_flag_count: 0.0\n",
      "thirty_sec_avg_arg_count: 0.0\n"
     ]
    }
   ],
   "execution_count": 35
  },
  {
   "metadata": {
    "ExecuteTime": {
     "end_time": "2025-05-03T09:19:12.491595Z",
     "start_time": "2025-05-03T09:19:12.462076Z"
    }
   },
   "cell_type": "code",
   "source": "top_indices = [i for i in top_indices if importances[i] >= 0.015]",
   "id": "3ffce3db9e01f53e",
   "outputs": [],
   "execution_count": 36
  },
  {
   "metadata": {
    "ExecuteTime": {
     "end_time": "2025-05-03T09:19:16.214485Z",
     "start_time": "2025-05-03T09:19:16.180655Z"
    }
   },
   "cell_type": "code",
   "source": "len(top_indices)",
   "id": "e917456afce1638b",
   "outputs": [
    {
     "data": {
      "text/plain": [
       "29"
      ]
     },
     "execution_count": 37,
     "metadata": {},
     "output_type": "execute_result"
    }
   ],
   "execution_count": 37
  },
  {
   "metadata": {
    "ExecuteTime": {
     "end_time": "2025-05-03T09:19:34.368071Z",
     "start_time": "2025-05-03T09:19:34.334673Z"
    }
   },
   "cell_type": "code",
   "source": "labels[top_indices]",
   "id": "ef47d8bfdb4c8c53",
   "outputs": [
    {
     "data": {
      "text/plain": [
       "array(['thirty_sec_bash_count_rate', 'thirty_sec_avg_embedded_command_4',\n",
       "       'thirty_sec_avg_embedded_command_0',\n",
       "       'thirty_sec_avg_embedded_command_7',\n",
       "       'thirty_sec_avg_embedded_command_8',\n",
       "       'thirty_sec_avg_embedded_command_9', 'thirty_sec_log_count',\n",
       "       'thirty_sec_avg_embedded_command_5',\n",
       "       'thirty_sec_avg_embedded_command_3',\n",
       "       'thirty_sec_avg_embedded_command_2',\n",
       "       'thirty_sec_avg_embedded_command_1', 'thirty_sec_success_rate',\n",
       "       'thirty_sec_avg_embedded_command_6',\n",
       "       'cur_event_avg_embedded_command_0',\n",
       "       'cur_event_avg_embedded_command_6', 'thirty_sec_unique_pids',\n",
       "       'five_min_avg_embedded_command_4', 'five_min_bash_count_rate',\n",
       "       'five_min_avg_embedded_command_5',\n",
       "       'cur_event_avg_embedded_command_9',\n",
       "       'cur_event_avg_embedded_command_7',\n",
       "       'cur_event_avg_embedded_command_4',\n",
       "       'cur_event_avg_embedded_command_2', 'five_min_success_rate',\n",
       "       'cur_event_avg_embedded_command_5', 'five_min_log_count',\n",
       "       'cur_event_avg_embedded_command_3',\n",
       "       'cur_event_avg_embedded_command_1',\n",
       "       'cur_event_avg_embedded_command_8'], dtype='<U33')"
      ]
     },
     "execution_count": 39,
     "metadata": {},
     "output_type": "execute_result"
    }
   ],
   "execution_count": 39
  },
  {
   "metadata": {
    "ExecuteTime": {
     "end_time": "2025-05-03T09:20:16.049709Z",
     "start_time": "2025-05-03T09:20:15.007732Z"
    }
   },
   "cell_type": "code",
   "source": [
    "X_train_smaller = X_train[:, top_indices]\n",
    "X_test_smaller = X_test[:, top_indices]\n",
    "\n",
    "clf = RandomForestClassifier(random_state=42)\n",
    "clf.fit(X_train_smaller, y_train)\n",
    "\n",
    "y_pred = clf.predict(X_train_smaller)\n",
    "get_metrics(y_train, y_pred)"
   ],
   "id": "fae20c8aae0489e6",
   "outputs": [
    {
     "name": "stdout",
     "output_type": "stream",
     "text": [
      "Accuracy: 0.998017839444995\n",
      "Precision: 0.9986595174262735\n",
      "Recall: 0.9973226238286479\n",
      "F1 Score: 0.9979906229068989\n",
      "Confusion Matrix:\n",
      " [[1531    2]\n",
      " [   4 1490]]\n",
      "Classification Report:\n",
      "               precision    recall  f1-score   support\n",
      "\n",
      "           0       1.00      1.00      1.00      1533\n",
      "           1       1.00      1.00      1.00      1494\n",
      "\n",
      "    accuracy                           1.00      3027\n",
      "   macro avg       1.00      1.00      1.00      3027\n",
      "weighted avg       1.00      1.00      1.00      3027\n",
      "\n"
     ]
    }
   ],
   "execution_count": 40
  },
  {
   "metadata": {
    "ExecuteTime": {
     "end_time": "2025-05-03T09:20:39.163830Z",
     "start_time": "2025-05-03T09:20:39.075580Z"
    }
   },
   "cell_type": "code",
   "source": [
    "y_pred = clf.predict(X_test_smaller)\n",
    "get_metrics(y_test, y_pred)"
   ],
   "id": "48a33ba2734ddd84",
   "outputs": [
    {
     "name": "stdout",
     "output_type": "stream",
     "text": [
      "Accuracy: 0.8401585204755614\n",
      "Precision: 0.8183908045977012\n",
      "Recall: 0.8944723618090452\n",
      "F1 Score: 0.8547418967587035\n",
      "Confusion Matrix:\n",
      " [[280  79]\n",
      " [ 42 356]]\n",
      "Classification Report:\n",
      "               precision    recall  f1-score   support\n",
      "\n",
      "           0       0.87      0.78      0.82       359\n",
      "           1       0.82      0.89      0.85       398\n",
      "\n",
      "    accuracy                           0.84       757\n",
      "   macro avg       0.84      0.84      0.84       757\n",
      "weighted avg       0.84      0.84      0.84       757\n",
      "\n"
     ]
    }
   ],
   "execution_count": 41
  },
  {
   "metadata": {
    "ExecuteTime": {
     "end_time": "2025-05-03T09:22:19.756271Z",
     "start_time": "2025-05-03T09:22:19.721537Z"
    }
   },
   "cell_type": "code",
   "source": "np.array(top_indices).tolist()",
   "id": "cf6ddcd5b6ba746f",
   "outputs": [
    {
     "data": {
      "text/plain": [
       "[25,\n",
       " 15,\n",
       " 11,\n",
       " 18,\n",
       " 19,\n",
       " 20,\n",
       " 21,\n",
       " 16,\n",
       " 14,\n",
       " 13,\n",
       " 12,\n",
       " 26,\n",
       " 17,\n",
       " 0,\n",
       " 6,\n",
       " 27,\n",
       " 32,\n",
       " 42,\n",
       " 33,\n",
       " 9,\n",
       " 7,\n",
       " 4,\n",
       " 2,\n",
       " 43,\n",
       " 5,\n",
       " 38,\n",
       " 3,\n",
       " 1,\n",
       " 8]"
      ]
     },
     "execution_count": 44,
     "metadata": {},
     "output_type": "execute_result"
    }
   ],
   "execution_count": 44
  },
  {
   "metadata": {
    "ExecuteTime": {
     "end_time": "2025-05-03T09:28:24.860228Z",
     "start_time": "2025-05-03T09:28:24.699776Z"
    }
   },
   "cell_type": "code",
   "source": "np.array([[1, 2], [3, 4]])[0].tolist()",
   "id": "c398708e03f68423",
   "outputs": [
    {
     "data": {
      "text/plain": [
       "[1, 2]"
      ]
     },
     "execution_count": 46,
     "metadata": {},
     "output_type": "execute_result"
    }
   ],
   "execution_count": 46
  },
  {
   "metadata": {},
   "cell_type": "code",
   "outputs": [],
   "execution_count": null,
   "source": "",
   "id": "be5610a7b72435c9"
  }
 ],
 "metadata": {
  "kernelspec": {
   "display_name": "Python 3",
   "language": "python",
   "name": "python3"
  },
  "language_info": {
   "codemirror_mode": {
    "name": "ipython",
    "version": 2
   },
   "file_extension": ".py",
   "mimetype": "text/x-python",
   "name": "python",
   "nbconvert_exporter": "python",
   "pygments_lexer": "ipython2",
   "version": "2.7.6"
  }
 },
 "nbformat": 4,
 "nbformat_minor": 5
}
