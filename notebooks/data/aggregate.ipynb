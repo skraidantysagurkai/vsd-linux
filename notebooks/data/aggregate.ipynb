{
 "cells": [
  {
   "metadata": {
    "ExecuteTime": {
     "end_time": "2025-04-13T22:11:59.573232Z",
     "start_time": "2025-04-13T22:11:59.375800Z"
    }
   },
   "cell_type": "code",
   "source": [
    "%load_ext autoreload\n",
    "%autoreload 2"
   ],
   "id": "3733eaf8558411be",
   "outputs": [],
   "execution_count": 2
  },
  {
   "metadata": {
    "ExecuteTime": {
     "end_time": "2025-04-13T22:12:06.706616Z",
     "start_time": "2025-04-13T22:12:00.794297Z"
    }
   },
   "cell_type": "code",
   "source": [
    "from src.shared.json_tools import load_json_long\n",
    "from paths import DATA_DIR\n",
    "\n",
    "data = load_json_long(DATA_DIR / 'test_out/03-04-January.json')\n",
    "\n",
    "logs = [i.get('content') for i in data]\n",
    "\n",
    "logs = sorted(logs, key=lambda x: float(x['timestamp']))"
   ],
   "id": "295c7428ca02fe08",
   "outputs": [],
   "execution_count": 3
  },
  {
   "metadata": {
    "ExecuteTime": {
     "end_time": "2025-04-13T22:12:10.283238Z",
     "start_time": "2025-04-13T22:12:10.236911Z"
    }
   },
   "cell_type": "code",
   "source": "logs[0]['timestamp'] < logs[1]['timestamp']",
   "id": "1a6c4a62bd36e718",
   "outputs": [
    {
     "data": {
      "text/plain": [
       "False"
      ]
     },
     "execution_count": 4,
     "metadata": {},
     "output_type": "execute_result"
    }
   ],
   "execution_count": 4
  },
  {
   "metadata": {
    "ExecuteTime": {
     "end_time": "2025-04-13T22:12:10.488951Z",
     "start_time": "2025-04-13T22:12:10.462823Z"
    }
   },
   "cell_type": "code",
   "source": "logs[0]['timestamp']",
   "id": "823cdc646096cdd5",
   "outputs": [
    {
     "data": {
      "text/plain": [
       "'1704303002.205'"
      ]
     },
     "execution_count": 5,
     "metadata": {},
     "output_type": "execute_result"
    }
   ],
   "execution_count": 5
  },
  {
   "metadata": {
    "ExecuteTime": {
     "end_time": "2025-04-13T22:12:10.971650Z",
     "start_time": "2025-04-13T22:12:10.941736Z"
    }
   },
   "cell_type": "code",
   "source": "logs[1]['timestamp']",
   "id": "56b945b2dda40c91",
   "outputs": [
    {
     "data": {
      "text/plain": [
       "'1704303002.205'"
      ]
     },
     "execution_count": 6,
     "metadata": {},
     "output_type": "execute_result"
    }
   ],
   "execution_count": 6
  },
  {
   "metadata": {
    "ExecuteTime": {
     "end_time": "2025-04-13T22:44:31.048237Z",
     "start_time": "2025-04-13T22:44:27.917103Z"
    }
   },
   "cell_type": "code",
   "source": [
    "def find_idx(logs):\n",
    "    log_indexes = []\n",
    "\n",
    "    for idx, log in enumerate(logs):\n",
    "\n",
    "        log_time = float(log['timestamp'])\n",
    "        inter_idx = idx\n",
    "        start_idx = idx\n",
    "        \n",
    "        for i in range(idx - 1, -1, -1):\n",
    "            check_time = float(logs[i]['timestamp'])\n",
    "            delta = log_time - check_time\n",
    "\n",
    "            if delta <= 30 and i <= inter_idx:\n",
    "                inter_idx = i\n",
    "            if delta <= 330 and i <= start_idx:\n",
    "                start_idx = i\n",
    "            else:\n",
    "                break\n",
    "        \n",
    "        log_indexes.append((start_idx, inter_idx, idx))\n",
    "\n",
    "    return log_indexes if log_indexes else None\n",
    "\n",
    "log_window_idx = find_idx(logs)"
   ],
   "id": "d3fa4d2537bcd0bd",
   "outputs": [],
   "execution_count": 17
  },
  {
   "metadata": {
    "ExecuteTime": {
     "end_time": "2025-04-13T22:44:36.528968Z",
     "start_time": "2025-04-13T22:44:36.508592Z"
    }
   },
   "cell_type": "code",
   "source": "log_window_idx[0]",
   "id": "93a81a0eaddff306",
   "outputs": [
    {
     "data": {
      "text/plain": [
       "(0, 0, 0)"
      ]
     },
     "execution_count": 18,
     "metadata": {},
     "output_type": "execute_result"
    }
   ],
   "execution_count": 18
  },
  {
   "metadata": {
    "ExecuteTime": {
     "end_time": "2025-04-13T22:12:29.410331Z",
     "start_time": "2025-04-13T22:12:27.953108Z"
    }
   },
   "cell_type": "code",
   "source": [
    "from sklearn.decomposition import PCA\n",
    "import joblib\n",
    "\n",
    "pca = PCA(n_components=10)\n",
    "pca.fit([i['embedded_command'] for i in logs])\n",
    "\n",
    "joblib.dump(pca, 'pca_model.pkl')"
   ],
   "id": "568d6e66bca764d7",
   "outputs": [
    {
     "data": {
      "text/plain": [
       "['pca_model.pkl']"
      ]
     },
     "execution_count": 9,
     "metadata": {},
     "output_type": "execute_result"
    }
   ],
   "execution_count": 9
  },
  {
   "metadata": {
    "ExecuteTime": {
     "end_time": "2025-04-13T22:52:08.772564Z",
     "start_time": "2025-04-13T22:52:08.226296Z"
    }
   },
   "cell_type": "code",
   "source": [
    "import numpy as np\n",
    "def get_features(logs, log_indexes):\n",
    "    all_metrics = []\n",
    "    \n",
    "    for start_idx, inter_idx, event_idx in log_indexes:\n",
    "        if start_idx == inter_idx == event_idx:\n",
    "            five_min_window = [logs[event_idx]]\n",
    "            thirty_sec_window = [logs[event_idx]]\n",
    "        elif start_idx == inter_idx:\n",
    "            five_min_window = logs[start_idx:event_idx+1]\n",
    "            thirty_sec_window = five_min_window\n",
    "        else:\n",
    "            five_min_window = logs[start_idx:inter_idx]\n",
    "            thirty_sec_window = logs[inter_idx:event_idx+1]\n",
    "        \n",
    "        if len(five_min_window) > 0: \n",
    "            # 5 min\n",
    "            five_log_count = len(five_min_window)\n",
    "            five_avg_cwd_risk_score = np.mean([i['cwd_risk'] for i in five_min_window])\n",
    "            five_avg_arg_count = np.mean([i['args_count'] for i in five_min_window])\n",
    "            five_avg_flag_count = np.sum([i['flag_count'] for i in five_min_window])\n",
    "            five_bash_rate = np.sum([i['is_bash_command'] for i in five_min_window]) / five_log_count\n",
    "            five_success_rate = np.sum([i['success'] for i in five_min_window]) / five_log_count\n",
    "            five_unique_pids = len(set([i['pid'] for i in five_min_window]))\n",
    "            five_avg_embedded_command = np.mean([i['embedded_command'] for i in five_min_window], axis=0).reshape(1, -1)\n",
    "            five_avg_embedded_command = pca.transform(five_avg_embedded_command)\n",
    "            \n",
    "            five_min_metrics = {\n",
    "                'log_count': five_log_count,\n",
    "                'cwd_avg_risk_score': five_avg_cwd_risk_score,\n",
    "                'avg_arg_count': five_avg_arg_count,\n",
    "                'avg_flag_count': five_avg_flag_count,\n",
    "                'bash_count_rate': five_bash_rate,\n",
    "                'success_rate': five_success_rate,\n",
    "                'unique_pids': five_unique_pids,\n",
    "                'avg_embedded_command': five_avg_embedded_command\n",
    "            }\n",
    "        else:\n",
    "            five_min_metrics = {\n",
    "                'log_count': 0,\n",
    "                'cwd_avg_risk_score': 0,\n",
    "                'avg_arg_count': 0,\n",
    "                'avg_flag_count': 0,\n",
    "                'bash_count_rate': 0,\n",
    "                'success_rate': 0,\n",
    "                'unique_pids': 0,\n",
    "                'avg_embedded_command': [0] * 10\n",
    "            }\n",
    "        \n",
    "        # 30 sec\n",
    "        if len(thirty_sec_window) > 0:\n",
    "            thirty_log_count = len(five_min_window)\n",
    "            thirty_avg_cwd_risk_score = np.mean([i['cwd_risk'] for i in thirty_sec_window])\n",
    "            thirty_avg_arg_count = np.mean([i['args_count'] for i in thirty_sec_window])\n",
    "            thirty_avg_flag_count = np.sum([i['flag_count'] for i in thirty_sec_window])\n",
    "            thirty_bash_rate = np.sum([i['is_bash_command'] for i in thirty_sec_window]) / thirty_log_count\n",
    "            thirty_success_rate = np.sum([i['success'] for i in thirty_sec_window]) / thirty_log_count\n",
    "            thirty_unique_pids = len(set([i['pid'] for i in thirty_sec_window]))\n",
    "            thirty_avg_embedded_command = np.mean([i['embedded_command'] for i in thirty_sec_window], axis=0).reshape(1, -1)\n",
    "            thirty_avg_embedded_command = pca.transform(thirty_avg_embedded_command)\n",
    "        \n",
    "            thirty_sec_metrics = {\n",
    "                'log_count': thirty_log_count,\n",
    "                'cwd_avg_risk_score': thirty_avg_cwd_risk_score,\n",
    "                'avg_arg_count': thirty_avg_arg_count,\n",
    "                'avg_flag_count': thirty_avg_flag_count,\n",
    "                'bash_count_rate': thirty_bash_rate,\n",
    "                'success_rate': thirty_success_rate,\n",
    "                'unique_pids': thirty_unique_pids,\n",
    "                'avg_embedded_command': thirty_avg_embedded_command\n",
    "            }\n",
    "        else:\n",
    "            thirty_sec_metrics = {\n",
    "                'log_count': 0,\n",
    "                'cwd_avg_risk_score': 0,\n",
    "                'avg_arg_count': 0,\n",
    "                'avg_flag_count': 0,\n",
    "                'bash_count': 0,\n",
    "                'success_rate': 0,\n",
    "                'unique_pids': 0,\n",
    "                'avg_embedded_command': [0] * 10\n",
    "            }\n",
    "            \n",
    "        event_metrics = {\n",
    "            \"success\": logs[event_idx]['success'],\n",
    "            \"pid\": logs[event_idx]['pid'] if type(logs[event_idx]['pid']) == int else eval(logs[event_idx]['pid']),\n",
    "            \"embedded_command\": pca.transform(np.array(logs[event_idx]['embedded_command']).reshape(1, -1)),\n",
    "        }\n",
    "        \n",
    "        all_metrics.append({\"event\": event_metrics,\n",
    "                              \"five_min\": five_min_metrics,\n",
    "                              \"thirty_sec\": thirty_sec_metrics})\n",
    "        \n",
    "    return all_metrics\n",
    "\n",
    "event_metrics = get_features(logs[:100], log_window_idx[:100])"
   ],
   "id": "initial_id",
   "outputs": [],
   "execution_count": 34
  },
  {
   "metadata": {
    "ExecuteTime": {
     "end_time": "2025-04-13T22:56:33.097566Z",
     "start_time": "2025-04-13T22:56:32.395661Z"
    }
   },
   "cell_type": "code",
   "source": [
    "import numpy as np\n",
    "def compute_window_metrics(window, pca, default_dim=10):\n",
    "    if not window:\n",
    "        return {\n",
    "            'log_count': 0,\n",
    "            'cwd_avg_risk_score': 0,\n",
    "            'avg_arg_count': 0,\n",
    "            'avg_flag_count': 0,\n",
    "            'bash_count_rate': 0,\n",
    "            'success_rate': 0,\n",
    "            'unique_pids': 0,\n",
    "            'avg_embedded_command': [0] * default_dim\n",
    "        }\n",
    "\n",
    "    log_count = len(window)\n",
    "    avg_embedded_command = np.mean([i['embedded_command'] for i in window], axis=0).reshape(1, -1)\n",
    "    transformed_command = pca.transform(avg_embedded_command)\n",
    "\n",
    "    return {\n",
    "        'log_count': log_count,\n",
    "        'cwd_avg_risk_score': np.mean([i['cwd_risk'] for i in window]),\n",
    "        'avg_arg_count': np.mean([i['args_count'] for i in window]),\n",
    "        'avg_flag_count': np.sum([i['flag_count'] for i in window]),\n",
    "        'bash_count_rate': np.sum([i['is_bash_command'] for i in window]) / log_count,\n",
    "        'success_rate': np.sum([i['success'] for i in window]) / log_count,\n",
    "        'unique_pids': len(set(i['pid'] for i in window)),\n",
    "        'avg_embedded_command': transformed_command\n",
    "    }\n",
    "\n",
    "def get_features(logs, log_indexes):\n",
    "    all_metrics = []\n",
    "\n",
    "    for start_idx, inter_idx, event_idx in log_indexes:\n",
    "        # Define windows\n",
    "        if start_idx == inter_idx == event_idx:\n",
    "            five_min_window = [logs[event_idx]]\n",
    "            thirty_sec_window = [logs[event_idx]]\n",
    "        elif start_idx == inter_idx:\n",
    "            five_min_window = logs[start_idx:event_idx + 1]\n",
    "            thirty_sec_window = five_min_window\n",
    "        else:\n",
    "            five_min_window = logs[start_idx:inter_idx]\n",
    "            thirty_sec_window = logs[inter_idx:event_idx + 1]\n",
    "\n",
    "        # Compute metrics\n",
    "        five_min_metrics = compute_window_metrics(five_min_window, pca)\n",
    "        thirty_sec_metrics = compute_window_metrics(thirty_sec_window, pca)\n",
    "\n",
    "        # Event-level metrics\n",
    "        event = logs[event_idx]\n",
    "        event_metrics = {\n",
    "            \"success\": event['success'],\n",
    "            \"pid\": event['pid'] if isinstance(event['pid'], int) else eval(event['pid']),\n",
    "            \"embedded_command\": pca.transform(np.array(event['embedded_command']).reshape(1, -1)),\n",
    "        }\n",
    "\n",
    "        all_metrics.append({\n",
    "            \"event\": event_metrics,\n",
    "            \"five_min\": five_min_metrics,\n",
    "            \"thirty_sec\": thirty_sec_metrics\n",
    "        })\n",
    "\n",
    "    return all_metrics\n",
    "\n",
    "event_metrics = get_features(logs[:100], log_window_idx[:100])"
   ],
   "id": "bc092d5882ebabad",
   "outputs": [],
   "execution_count": 56
  },
  {
   "metadata": {
    "ExecuteTime": {
     "end_time": "2025-04-13T22:45:04.401613Z",
     "start_time": "2025-04-13T22:45:04.366616Z"
    }
   },
   "cell_type": "code",
   "source": "event_metrics",
   "id": "315d9c2afd7cfb94",
   "outputs": [
    {
     "data": {
      "text/plain": [
       "[{'event': {'success': 1,\n",
       "   'pid': 4067,\n",
       "   'embedded_command': array([[ 3.74321558e+00, -6.37168495e-02,  9.91418078e-02,\n",
       "           -9.54369792e-01,  1.30090456e-01,  6.78650916e-04,\n",
       "            1.89697108e-01, -8.41446001e-02, -6.19677296e-03,\n",
       "            8.08371228e-02]])},\n",
       "  'five_min': {'log_count': 1,\n",
       "   'cwd_avg_risk_score': np.float64(3.0),\n",
       "   'avg_arg_count': np.float64(0.0),\n",
       "   'avg_flag_count': np.int64(0),\n",
       "   'bash_count_rate': np.float64(1.0),\n",
       "   'success_rate': np.float64(1.0),\n",
       "   'unique_pids': 1,\n",
       "   'avg_embedded_command': array([[ 3.74321558e+00, -6.37168495e-02,  9.91418078e-02,\n",
       "           -9.54369792e-01,  1.30090456e-01,  6.78650916e-04,\n",
       "            1.89697108e-01, -8.41446001e-02, -6.19677296e-03,\n",
       "            8.08371228e-02]])},\n",
       "  'thirty_sec': {'log_count': 1,\n",
       "   'cwd_avg_risk_score': np.float64(3.0),\n",
       "   'avg_arg_count': np.float64(0.0),\n",
       "   'avg_flag_count': np.int64(0),\n",
       "   'bash_count_rate': np.float64(1.0),\n",
       "   'success_rate': np.float64(1.0),\n",
       "   'unique_pids': 1,\n",
       "   'avg_embedded_command': array([[ 3.74321558e+00, -6.37168495e-02,  9.91418078e-02,\n",
       "           -9.54369792e-01,  1.30090456e-01,  6.78650916e-04,\n",
       "            1.89697108e-01, -8.41446001e-02, -6.19677296e-03,\n",
       "            8.08371228e-02]])}},\n",
       " {'event': {'success': 1,\n",
       "   'pid': 4067,\n",
       "   'embedded_command': array([[ 3.61814782e+00, -1.14973342e-01, -4.61977613e-02,\n",
       "           -9.34602560e-01,  1.25511721e-01,  1.70846198e-03,\n",
       "            1.69595994e-01, -8.11293523e-02, -3.32760717e-03,\n",
       "            7.21790748e-02]])},\n",
       "  'five_min': {'log_count': 2,\n",
       "   'cwd_avg_risk_score': np.float64(3.0),\n",
       "   'avg_arg_count': np.float64(0.0),\n",
       "   'avg_flag_count': np.int64(0),\n",
       "   'bash_count_rate': np.float64(1.0),\n",
       "   'success_rate': np.float64(1.0),\n",
       "   'unique_pids': 1,\n",
       "   'avg_embedded_command': array([[ 3.68068170e+00, -8.93450955e-02,  2.64720233e-02,\n",
       "           -9.44486176e-01,  1.27801088e-01,  1.19355645e-03,\n",
       "            1.79646551e-01, -8.26369762e-02, -4.76219006e-03,\n",
       "            7.65080988e-02]])},\n",
       "  'thirty_sec': {'log_count': 2,\n",
       "   'cwd_avg_risk_score': np.float64(3.0),\n",
       "   'avg_arg_count': np.float64(0.0),\n",
       "   'avg_flag_count': np.int64(0),\n",
       "   'bash_count_rate': np.float64(1.0),\n",
       "   'success_rate': np.float64(1.0),\n",
       "   'unique_pids': 1,\n",
       "   'avg_embedded_command': array([[ 3.68068170e+00, -8.93450955e-02,  2.64720233e-02,\n",
       "           -9.44486176e-01,  1.27801088e-01,  1.19355645e-03,\n",
       "            1.79646551e-01, -8.26369762e-02, -4.76219006e-03,\n",
       "            7.65080988e-02]])}},\n",
       " {'event': {'success': 1,\n",
       "   'pid': 1,\n",
       "   'embedded_command': array([[-1.75978976, -0.06274136,  0.01034434,  0.04958311, -1.40921809,\n",
       "           -0.33190941, -0.0090535 , -0.59011744, -0.3860673 ,  1.48374396]])},\n",
       "  'five_min': {'log_count': 3,\n",
       "   'cwd_avg_risk_score': np.float64(3.0),\n",
       "   'avg_arg_count': np.float64(0.0),\n",
       "   'avg_flag_count': np.int64(0),\n",
       "   'bash_count_rate': np.float64(0.6666666666666666),\n",
       "   'success_rate': np.float64(1.0),\n",
       "   'unique_pids': 2,\n",
       "   'avg_embedded_command': array([[ 1.86719121, -0.08047719,  0.02109613, -0.61312975, -0.38453864,\n",
       "           -0.10984077,  0.11674654, -0.25179713, -0.13186389,  0.54558672]])},\n",
       "  'thirty_sec': {'log_count': 3,\n",
       "   'cwd_avg_risk_score': np.float64(3.0),\n",
       "   'avg_arg_count': np.float64(0.0),\n",
       "   'avg_flag_count': np.int64(0),\n",
       "   'bash_count_rate': np.float64(0.6666666666666666),\n",
       "   'success_rate': np.float64(1.0),\n",
       "   'unique_pids': 2,\n",
       "   'avg_embedded_command': array([[ 1.86719121, -0.08047719,  0.02109613, -0.61312975, -0.38453864,\n",
       "           -0.10984077,  0.11674654, -0.25179713, -0.13186389,  0.54558672]])}},\n",
       " {'event': {'success': 1,\n",
       "   'pid': 1,\n",
       "   'embedded_command': array([[-2.55126729, -0.1512428 , -0.16565198,  0.16877273, -1.63178014,\n",
       "           -0.33948919, -0.1144215 , -0.61847267, -0.37277771,  1.59804638]])},\n",
       "  'five_min': {'log_count': 4,\n",
       "   'cwd_avg_risk_score': np.float64(3.0),\n",
       "   'avg_arg_count': np.float64(0.0),\n",
       "   'avg_flag_count': np.int64(0),\n",
       "   'bash_count_rate': np.float64(0.5),\n",
       "   'success_rate': np.float64(1.0),\n",
       "   'unique_pids': 2,\n",
       "   'avg_embedded_command': array([[ 0.76257659, -0.09816859, -0.0255909 , -0.41765413, -0.69634901,\n",
       "           -0.16725287,  0.05895453, -0.34346602, -0.19209235,  0.80870163]])},\n",
       "  'thirty_sec': {'log_count': 4,\n",
       "   'cwd_avg_risk_score': np.float64(3.0),\n",
       "   'avg_arg_count': np.float64(0.0),\n",
       "   'avg_flag_count': np.int64(0),\n",
       "   'bash_count_rate': np.float64(0.5),\n",
       "   'success_rate': np.float64(1.0),\n",
       "   'unique_pids': 2,\n",
       "   'avg_embedded_command': array([[ 0.76257659, -0.09816859, -0.0255909 , -0.41765413, -0.69634901,\n",
       "           -0.16725287,  0.05895453, -0.34346602, -0.19209235,  0.80870163]])}},\n",
       " {'event': {'success': 0,\n",
       "   'pid': 4069,\n",
       "   'embedded_command': array([[-2.55126729, -0.1512428 , -0.16565198,  0.16877273, -1.63178014,\n",
       "           -0.33948919, -0.1144215 , -0.61847267, -0.37277771,  1.59804638]])},\n",
       "  'five_min': {'log_count': 5,\n",
       "   'cwd_avg_risk_score': np.float64(3.0),\n",
       "   'avg_arg_count': np.float64(0.0),\n",
       "   'avg_flag_count': np.int64(0),\n",
       "   'bash_count_rate': np.float64(0.4),\n",
       "   'success_rate': np.float64(0.8),\n",
       "   'unique_pids': 3,\n",
       "   'avg_embedded_command': array([[ 0.09980781, -0.10878343, -0.05360311, -0.30036875, -0.88343524,\n",
       "           -0.20170014,  0.02427932, -0.39846735, -0.22822942,  0.96657058]])},\n",
       "  'thirty_sec': {'log_count': 5,\n",
       "   'cwd_avg_risk_score': np.float64(3.0),\n",
       "   'avg_arg_count': np.float64(0.0),\n",
       "   'avg_flag_count': np.int64(0),\n",
       "   'bash_count_rate': np.float64(0.4),\n",
       "   'success_rate': np.float64(0.8),\n",
       "   'unique_pids': 3,\n",
       "   'avg_embedded_command': array([[ 0.09980781, -0.10878343, -0.05360311, -0.30036875, -0.88343524,\n",
       "           -0.20170014,  0.02427932, -0.39846735, -0.22822942,  0.96657058]])}},\n",
       " {'event': {'success': 0,\n",
       "   'pid': 4069,\n",
       "   'embedded_command': array([[-2.55126729, -0.1512428 , -0.16565198,  0.16877273, -1.63178014,\n",
       "           -0.33948919, -0.1144215 , -0.61847267, -0.37277771,  1.59804638]])},\n",
       "  'five_min': {'log_count': 6,\n",
       "   'cwd_avg_risk_score': np.float64(3.0),\n",
       "   'avg_arg_count': np.float64(0.0),\n",
       "   'avg_flag_count': np.int64(0),\n",
       "   'bash_count_rate': np.float64(0.3333333333333333),\n",
       "   'success_rate': np.float64(0.6666666666666666),\n",
       "   'unique_pids': 3,\n",
       "   'avg_embedded_command': array([[-0.34203804, -0.11585999, -0.07227792, -0.22217851, -1.00815939,\n",
       "           -0.22466498,  0.00116252, -0.4351349 , -0.2523208 ,  1.07181655]])},\n",
       "  'thirty_sec': {'log_count': 6,\n",
       "   'cwd_avg_risk_score': np.float64(3.0),\n",
       "   'avg_arg_count': np.float64(0.0),\n",
       "   'avg_flag_count': np.int64(0),\n",
       "   'bash_count_rate': np.float64(0.3333333333333333),\n",
       "   'success_rate': np.float64(0.6666666666666666),\n",
       "   'unique_pids': 3,\n",
       "   'avg_embedded_command': array([[-0.34203804, -0.11585999, -0.07227792, -0.22217851, -1.00815939,\n",
       "           -0.22466498,  0.00116252, -0.4351349 , -0.2523208 ,  1.07181655]])}},\n",
       " {'event': {'success': 0,\n",
       "   'pid': 4069,\n",
       "   'embedded_command': array([[-1.75978976, -0.06274136,  0.01034434,  0.04958311, -1.40921809,\n",
       "           -0.33190941, -0.0090535 , -0.59011744, -0.3860673 ,  1.48374396]])},\n",
       "  'five_min': {'log_count': 7,\n",
       "   'cwd_avg_risk_score': np.float64(3.0),\n",
       "   'avg_arg_count': np.float64(0.0),\n",
       "   'avg_flag_count': np.int64(0),\n",
       "   'bash_count_rate': np.float64(0.2857142857142857),\n",
       "   'success_rate': np.float64(0.5714285714285714),\n",
       "   'unique_pids': 3,\n",
       "   'avg_embedded_command': array([[-5.44573999e-01, -1.08271618e-01, -6.04747439e-02,\n",
       "           -1.83355418e-01, -1.06545349e+00, -2.39985613e-01,\n",
       "           -2.96914806e-04, -4.57275264e-01, -2.71427447e-01,\n",
       "            1.13066332e+00]])},\n",
       "  'thirty_sec': {'log_count': 7,\n",
       "   'cwd_avg_risk_score': np.float64(3.0),\n",
       "   'avg_arg_count': np.float64(0.0),\n",
       "   'avg_flag_count': np.int64(0),\n",
       "   'bash_count_rate': np.float64(0.2857142857142857),\n",
       "   'success_rate': np.float64(0.5714285714285714),\n",
       "   'unique_pids': 3,\n",
       "   'avg_embedded_command': array([[-5.44573999e-01, -1.08271618e-01, -6.04747439e-02,\n",
       "           -1.83355418e-01, -1.06545349e+00, -2.39985613e-01,\n",
       "           -2.96914806e-04, -4.57275264e-01, -2.71427447e-01,\n",
       "            1.13066332e+00]])}},\n",
       " {'event': {'success': 0,\n",
       "   'pid': 4069,\n",
       "   'embedded_command': array([[-2.55126729, -0.1512428 , -0.16565198,  0.16877273, -1.63178014,\n",
       "           -0.33948919, -0.1144215 , -0.61847267, -0.37277771,  1.59804638]])},\n",
       "  'five_min': {'log_count': 8,\n",
       "   'cwd_avg_risk_score': np.float64(3.0),\n",
       "   'avg_arg_count': np.float64(0.0),\n",
       "   'avg_flag_count': np.int64(0),\n",
       "   'bash_count_rate': np.float64(0.25),\n",
       "   'success_rate': np.float64(0.5),\n",
       "   'unique_pids': 3,\n",
       "   'avg_embedded_command': array([[-0.79541066, -0.11364302, -0.0736219 , -0.1393394 , -1.13624432,\n",
       "           -0.25242356, -0.01456249, -0.47742494, -0.28409623,  1.1890862 ]])},\n",
       "  'thirty_sec': {'log_count': 8,\n",
       "   'cwd_avg_risk_score': np.float64(3.0),\n",
       "   'avg_arg_count': np.float64(0.0),\n",
       "   'avg_flag_count': np.int64(0),\n",
       "   'bash_count_rate': np.float64(0.25),\n",
       "   'success_rate': np.float64(0.5),\n",
       "   'unique_pids': 3,\n",
       "   'avg_embedded_command': array([[-0.79541066, -0.11364302, -0.0736219 , -0.1393394 , -1.13624432,\n",
       "           -0.25242356, -0.01456249, -0.47742494, -0.28409623,  1.1890862 ]])}},\n",
       " {'event': {'success': 1,\n",
       "   'pid': 4069,\n",
       "   'embedded_command': array([[ 1.6405206 ,  0.06003313,  0.61452772, -0.23438894, -0.64152998,\n",
       "           -0.17992207, -0.64067768, -0.06146685,  0.13448901,  0.41638113]])},\n",
       "  'five_min': {'log_count': 9,\n",
       "   'cwd_avg_risk_score': np.float64(3.0),\n",
       "   'avg_arg_count': np.float64(0.0),\n",
       "   'avg_flag_count': np.int64(0),\n",
       "   'bash_count_rate': np.float64(0.2222222222222222),\n",
       "   'success_rate': np.float64(0.5555555555555556),\n",
       "   'unique_pids': 3,\n",
       "   'avg_embedded_command': array([[-0.52475163, -0.09434567,  0.00283917, -0.14990046, -1.08127606,\n",
       "           -0.24436784, -0.08413084, -0.43120737, -0.23758676,  1.10323008]])},\n",
       "  'thirty_sec': {'log_count': 9,\n",
       "   'cwd_avg_risk_score': np.float64(3.0),\n",
       "   'avg_arg_count': np.float64(0.0),\n",
       "   'avg_flag_count': np.int64(0),\n",
       "   'bash_count_rate': np.float64(0.2222222222222222),\n",
       "   'success_rate': np.float64(0.5555555555555556),\n",
       "   'unique_pids': 3,\n",
       "   'avg_embedded_command': array([[-0.52475163, -0.09434567,  0.00283917, -0.14990046, -1.08127606,\n",
       "           -0.24436784, -0.08413084, -0.43120737, -0.23758676,  1.10323008]])}},\n",
       " {'event': {'success': 0,\n",
       "   'pid': 4069,\n",
       "   'embedded_command': array([[-1.75978976, -0.06274136,  0.01034434,  0.04958311, -1.40921809,\n",
       "           -0.33190941, -0.0090535 , -0.59011744, -0.3860673 ,  1.48374396]])},\n",
       "  'five_min': {'log_count': 10,\n",
       "   'cwd_avg_risk_score': np.float64(3.0),\n",
       "   'avg_arg_count': np.float64(0.0),\n",
       "   'avg_flag_count': np.int64(0),\n",
       "   'bash_count_rate': np.float64(0.2),\n",
       "   'success_rate': np.float64(0.5),\n",
       "   'unique_pids': 3,\n",
       "   'avg_embedded_command': array([[-0.64825544, -0.09118524,  0.00358969, -0.1299521 , -1.11407026,\n",
       "           -0.253122  , -0.07662311, -0.44709838, -0.25243481,  1.14128147]])},\n",
       "  'thirty_sec': {'log_count': 10,\n",
       "   'cwd_avg_risk_score': np.float64(3.0),\n",
       "   'avg_arg_count': np.float64(0.0),\n",
       "   'avg_flag_count': np.int64(0),\n",
       "   'bash_count_rate': np.float64(0.2),\n",
       "   'success_rate': np.float64(0.5),\n",
       "   'unique_pids': 3,\n",
       "   'avg_embedded_command': array([[-0.64825544, -0.09118524,  0.00358969, -0.1299521 , -1.11407026,\n",
       "           -0.253122  , -0.07662311, -0.44709838, -0.25243481,  1.14128147]])}}]"
      ]
     },
     "execution_count": 21,
     "metadata": {},
     "output_type": "execute_result"
    }
   ],
   "execution_count": 21
  },
  {
   "metadata": {
    "ExecuteTime": {
     "end_time": "2025-04-13T22:56:41.554537Z",
     "start_time": "2025-04-13T22:56:40.896195Z"
    }
   },
   "cell_type": "code",
   "source": [
    "def compute_window_metrics(window, pca, default_dim=10):\n",
    "    if not window:\n",
    "        return (\n",
    "            0,  # log_count\n",
    "            0,  # cwd_avg_risk_score\n",
    "            0,  # avg_arg_count\n",
    "            0,  # avg_flag_count\n",
    "            0,  # bash_count_rate\n",
    "            0,  # success_rate\n",
    "            0,  # unique_pids\n",
    "            [0] * default_dim  # avg_embedded_command\n",
    "        )\n",
    "\n",
    "    log_count = len(window)\n",
    "    avg_embedded_command = np.mean([i['embedded_command'] for i in window], axis=0).reshape(1, -1)\n",
    "    transformed_command = pca.transform(avg_embedded_command)\n",
    "\n",
    "    return (\n",
    "        log_count,\n",
    "        np.mean([i['cwd_risk'] for i in window]),\n",
    "        np.mean([i['args_count'] for i in window]),\n",
    "        np.sum([i['flag_count'] for i in window]),\n",
    "        np.sum([i['is_bash_command'] for i in window]) / log_count,\n",
    "        np.sum([i['success'] for i in window]) / log_count,\n",
    "        len(set(i['pid'] for i in window)),\n",
    "        transformed_command\n",
    "    )\n",
    "\n",
    "def get_features(logs, log_indexes):\n",
    "    all_metrics = []\n",
    "\n",
    "    for start_idx, inter_idx, event_idx in log_indexes:\n",
    "        # Define windows\n",
    "        if start_idx == inter_idx == event_idx:\n",
    "            five_min_window = [logs[event_idx]]\n",
    "            thirty_sec_window = [logs[event_idx]]\n",
    "        elif start_idx == inter_idx:\n",
    "            five_min_window = logs[start_idx:event_idx + 1]\n",
    "            thirty_sec_window = five_min_window\n",
    "        else:\n",
    "            five_min_window = logs[start_idx:inter_idx]\n",
    "            thirty_sec_window = logs[inter_idx:event_idx + 1]\n",
    "\n",
    "        # Compute metrics\n",
    "        five_min_metrics = compute_window_metrics(five_min_window, pca)\n",
    "        thirty_sec_metrics = compute_window_metrics(thirty_sec_window, pca)\n",
    "\n",
    "        # Event-level metrics\n",
    "        event = logs[event_idx]\n",
    "        pid = event['pid'] if isinstance(event['pid'], int) else eval(event['pid'])\n",
    "        embedded_command = pca.transform(np.array(event['embedded_command']).reshape(1, -1))\n",
    "\n",
    "        event_metrics = (\n",
    "            event['success'],\n",
    "            pid,\n",
    "            embedded_command\n",
    "        )\n",
    "\n",
    "        all_metrics.append((\n",
    "            event_metrics,\n",
    "            five_min_metrics,\n",
    "            thirty_sec_metrics\n",
    "        ))\n",
    "\n",
    "    return all_metrics\n",
    "\n",
    "event_metrics = get_features(logs[:100], log_window_idx[:100])"
   ],
   "id": "301e22bae5a4d466",
   "outputs": [],
   "execution_count": 61
  },
  {
   "metadata": {
    "ExecuteTime": {
     "end_time": "2025-04-13T22:56:01.747001Z",
     "start_time": "2025-04-13T22:56:01.717338Z"
    }
   },
   "cell_type": "code",
   "source": "logs[0]['pid']",
   "id": "f6361723f3485404",
   "outputs": [
    {
     "data": {
      "text/plain": [
       "'4067'"
      ]
     },
     "execution_count": 44,
     "metadata": {},
     "output_type": "execute_result"
    }
   ],
   "execution_count": 44
  },
  {
   "metadata": {
    "ExecuteTime": {
     "end_time": "2025-04-13T22:56:03.662327Z",
     "start_time": "2025-04-13T22:56:03.637291Z"
    }
   },
   "cell_type": "code",
   "source": "logs[0].get('pid')",
   "id": "7d446624c5f8df88",
   "outputs": [
    {
     "data": {
      "text/plain": [
       "'4067'"
      ]
     },
     "execution_count": 45,
     "metadata": {},
     "output_type": "execute_result"
    }
   ],
   "execution_count": 45
  },
  {
   "metadata": {
    "ExecuteTime": {
     "end_time": "2025-04-13T23:11:52.651324Z",
     "start_time": "2025-04-13T23:11:52.611854Z"
    }
   },
   "cell_type": "code",
   "source": "event_metrics[0]",
   "id": "5af2b962dfed1f4d",
   "outputs": [
    {
     "data": {
      "text/plain": [
       "((1,\n",
       "  4067,\n",
       "  array([[ 3.74321558e+00, -6.37168495e-02,  9.91418078e-02,\n",
       "          -9.54369792e-01,  1.30090456e-01,  6.78650916e-04,\n",
       "           1.89697108e-01, -8.41446001e-02, -6.19677296e-03,\n",
       "           8.08371228e-02]])),\n",
       " (1,\n",
       "  np.float64(3.0),\n",
       "  np.float64(0.0),\n",
       "  np.int64(0),\n",
       "  np.float64(1.0),\n",
       "  np.float64(1.0),\n",
       "  1,\n",
       "  array([[ 3.74321558e+00, -6.37168495e-02,  9.91418078e-02,\n",
       "          -9.54369792e-01,  1.30090456e-01,  6.78650916e-04,\n",
       "           1.89697108e-01, -8.41446001e-02, -6.19677296e-03,\n",
       "           8.08371228e-02]])),\n",
       " (1,\n",
       "  np.float64(3.0),\n",
       "  np.float64(0.0),\n",
       "  np.int64(0),\n",
       "  np.float64(1.0),\n",
       "  np.float64(1.0),\n",
       "  1,\n",
       "  array([[ 3.74321558e+00, -6.37168495e-02,  9.91418078e-02,\n",
       "          -9.54369792e-01,  1.30090456e-01,  6.78650916e-04,\n",
       "           1.89697108e-01, -8.41446001e-02, -6.19677296e-03,\n",
       "           8.08371228e-02]])))"
      ]
     },
     "execution_count": 62,
     "metadata": {},
     "output_type": "execute_result"
    }
   ],
   "execution_count": 62
  },
  {
   "metadata": {},
   "cell_type": "code",
   "outputs": [],
   "execution_count": null,
   "source": "",
   "id": "a18f277600309eeb"
  }
 ],
 "metadata": {
  "kernelspec": {
   "display_name": "Python 3",
   "language": "python",
   "name": "python3"
  },
  "language_info": {
   "codemirror_mode": {
    "name": "ipython",
    "version": 2
   },
   "file_extension": ".py",
   "mimetype": "text/x-python",
   "name": "python",
   "nbconvert_exporter": "python",
   "pygments_lexer": "ipython2",
   "version": "2.7.6"
  }
 },
 "nbformat": 4,
 "nbformat_minor": 5
}
