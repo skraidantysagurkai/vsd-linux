{
 "cells": [
  {
   "metadata": {
    "ExecuteTime": {
     "end_time": "2025-04-29T21:00:32.219974Z",
     "start_time": "2025-04-29T21:00:32.180590Z"
    }
   },
   "cell_type": "code",
   "source": [
    "%load_ext autoreload\n",
    "%autoreload 2"
   ],
   "id": "183e4e06bf03cf9e",
   "outputs": [],
   "execution_count": 1
  },
  {
   "metadata": {
    "ExecuteTime": {
     "end_time": "2025-04-29T21:00:42.981227Z",
     "start_time": "2025-04-29T21:00:32.790053Z"
    }
   },
   "cell_type": "code",
   "source": [
    "from src.shared.json_tools import load_json_long\n",
    "from paths import DATA_DIR\n",
    "\n",
    "dt = load_json_long(DATA_DIR / \"test_out/03-04-January.json\")"
   ],
   "id": "initial_id",
   "outputs": [],
   "execution_count": 2
  },
  {
   "metadata": {
    "ExecuteTime": {
     "end_time": "2025-04-29T21:00:43.043619Z",
     "start_time": "2025-04-29T21:00:42.983802Z"
    }
   },
   "cell_type": "code",
   "source": "dt = [i[\"content\"][\"embedded_command\"] for i in dt]",
   "id": "1711abb7aa048d8f",
   "outputs": [],
   "execution_count": 3
  },
  {
   "metadata": {
    "ExecuteTime": {
     "end_time": "2025-04-29T21:00:43.835549Z",
     "start_time": "2025-04-29T21:00:43.047511Z"
    }
   },
   "cell_type": "code",
   "source": [
    "import numpy as np\n",
    "dt = np.array(dt)"
   ],
   "id": "5c2fb40b9b8ba32d",
   "outputs": [],
   "execution_count": 4
  },
  {
   "metadata": {
    "ExecuteTime": {
     "end_time": "2025-04-29T21:01:18.097651Z",
     "start_time": "2025-04-29T21:01:06.548395Z"
    }
   },
   "cell_type": "code",
   "source": [
    "import cupy as cp\n",
    "import numpy as np\n",
    "from cuml.decomposition import PCA as cuPCA\n",
    "import pickle\n",
    "\n",
    "# Example data (1000 samples, 50 features)\n",
    "X = dt.astype(np.float32)\n",
    "X_gpu = cp.asarray(X)  # move to GPU\n",
    "\n",
    "# Train PCA on GPU\n",
    "pca_gpu = cuPCA(n_components=10)\n",
    "pca_gpu.fit(X_gpu)\n",
    "\n",
    "# Optional: transform data\n",
    "X_reduced = pca_gpu.transform(X_gpu)\n",
    "\n",
    "# Save the trained PCA model\n",
    "with open(\"pca_gpu.pkl\", \"wb\") as f:\n",
    "    pickle.dump(pca_gpu, f)\n"
   ],
   "id": "aaacb3bbf3a48bc0",
   "outputs": [],
   "execution_count": 5
  },
  {
   "metadata": {},
   "cell_type": "code",
   "outputs": [],
   "execution_count": null,
   "source": "",
   "id": "6a3ebd3aa215de20"
  }
 ],
 "metadata": {
  "kernelspec": {
   "display_name": "Python 3",
   "language": "python",
   "name": "python3"
  },
  "language_info": {
   "codemirror_mode": {
    "name": "ipython",
    "version": 2
   },
   "file_extension": ".py",
   "mimetype": "text/x-python",
   "name": "python",
   "nbconvert_exporter": "python",
   "pygments_lexer": "ipython2",
   "version": "2.7.6"
  }
 },
 "nbformat": 4,
 "nbformat_minor": 5
}
