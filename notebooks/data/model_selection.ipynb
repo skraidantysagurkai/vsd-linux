{
 "cells": [
  {
   "metadata": {
    "ExecuteTime": {
     "end_time": "2025-04-24T10:01:05.069054Z",
     "start_time": "2025-04-24T10:01:05.030190Z"
    }
   },
   "cell_type": "code",
   "source": [
    "%load_ext autoreload\n",
    "%autoreload 2"
   ],
   "id": "c93149c9b46a9874",
   "outputs": [],
   "execution_count": 1
  },
  {
   "metadata": {
    "ExecuteTime": {
     "end_time": "2025-04-24T10:02:52.753294Z",
     "start_time": "2025-04-24T10:02:52.671815Z"
    }
   },
   "cell_type": "code",
   "source": [
    "from src.shared.json_tools import load_json_long\n",
    "from paths import DATA_DIR\n",
    "\n",
    "data = load_json_long(DATA_DIR / \"test/03-04-January_1000.json\")"
   ],
   "id": "initial_id",
   "outputs": [],
   "execution_count": 2
  },
  {
   "metadata": {
    "ExecuteTime": {
     "end_time": "2025-04-24T10:21:41.200692Z",
     "start_time": "2025-04-24T10:21:41.169006Z"
    }
   },
   "cell_type": "code",
   "source": [
    "import numpy as np\n",
    "\n",
    "X = [i[\"content\"] for i in data]\n",
    "y = [i[\"target\"] for i in data]\n",
    "\n",
    "# Convert to NumPy arrays if not already\n",
    "X = np.array(X)\n",
    "targets = np.array(y)\n",
    "\n",
    "# Get indices of each class\n",
    "pos_indices = np.where(targets == 1)[0]\n",
    "neg_indices = np.where(targets == 0)[0]\n",
    "\n",
    "# Balance: choose the smaller class count\n",
    "min_class_count = min(len(pos_indices), len(neg_indices))\n",
    "\n",
    "# Randomly sample from both classes\n",
    "np.random.seed(42)  # for reproducibility\n",
    "pos_sample = np.random.choice(pos_indices, min_class_count, replace=False)\n",
    "neg_sample = np.random.choice(neg_indices, min_class_count, replace=False)\n",
    "\n",
    "# Combine samples and shuffle\n",
    "balanced_indices = np.concatenate([pos_sample, neg_sample])\n",
    "np.random.shuffle(balanced_indices)\n",
    "\n",
    "# Apply to data\n",
    "X = X[balanced_indices]\n",
    "y = targets[balanced_indices]"
   ],
   "id": "d72ef6a5c9592df",
   "outputs": [],
   "execution_count": 21
  },
  {
   "metadata": {
    "ExecuteTime": {
     "end_time": "2025-04-24T10:21:43.999600Z",
     "start_time": "2025-04-24T10:21:43.973055Z"
    }
   },
   "cell_type": "code",
   "source": [
    "from sklearn.model_selection import train_test_split\n",
    "X_train, X_test, y_train, y_test = train_test_split(X, y, test_size=0.2, random_state=42)"
   ],
   "id": "d9183f600c4b968c",
   "outputs": [],
   "execution_count": 22
  },
  {
   "metadata": {
    "ExecuteTime": {
     "end_time": "2025-04-24T10:21:45.012895Z",
     "start_time": "2025-04-24T10:21:44.984582Z"
    }
   },
   "cell_type": "code",
   "source": "len(y)",
   "id": "cd0010672ef878d7",
   "outputs": [
    {
     "data": {
      "text/plain": [
       "110"
      ]
     },
     "execution_count": 23,
     "metadata": {},
     "output_type": "execute_result"
    }
   ],
   "execution_count": 23
  },
  {
   "metadata": {
    "ExecuteTime": {
     "end_time": "2025-04-24T10:21:56.154656Z",
     "start_time": "2025-04-24T10:21:56.124284Z"
    }
   },
   "cell_type": "code",
   "source": "sum(y)",
   "id": "e64045c42ef763a3",
   "outputs": [
    {
     "data": {
      "text/plain": [
       "np.int64(55)"
      ]
     },
     "execution_count": 24,
     "metadata": {},
     "output_type": "execute_result"
    }
   ],
   "execution_count": 24
  },
  {
   "metadata": {
    "ExecuteTime": {
     "end_time": "2025-04-24T10:21:59.423063Z",
     "start_time": "2025-04-24T10:21:59.399951Z"
    }
   },
   "cell_type": "code",
   "source": [
    "from sklearn.metrics import accuracy_score, precision_score, recall_score, f1_score, classification_report, confusion_matrix\n",
    "from sklearn.linear_model import LogisticRegression\n",
    "from sklearn.svm import SVC\n",
    "from sklearn.ensemble import RandomForestClassifier\n",
    "from sklearn.naive_bayes import BernoulliNB\n",
    "from xgboost import XGBClassifier"
   ],
   "id": "e75b3e4bf5c55adc",
   "outputs": [],
   "execution_count": 25
  },
  {
   "metadata": {
    "ExecuteTime": {
     "end_time": "2025-04-24T10:22:00.128209Z",
     "start_time": "2025-04-24T10:22:00.098030Z"
    }
   },
   "cell_type": "code",
   "source": [
    "def evaluate_model(model, X_test, y_test):\n",
    "    y_pred = model.predict(X_test)\n",
    "    print(\"Accuracy:\", accuracy_score(y_test, y_pred))\n",
    "    print(\"Precision:\", precision_score(y_test, y_pred))\n",
    "    print(\"Recall:\", recall_score(y_test, y_pred))\n",
    "    print(\"F1 Score:\", f1_score(y_test, y_pred))\n",
    "    print(\"\\nClassification Report:\\n\", classification_report(y_test, y_pred))\n",
    "    \n",
    "    print(confusion_matrix(y_test, y_pred))"
   ],
   "id": "c1f779c844f30c10",
   "outputs": [],
   "execution_count": 26
  },
  {
   "metadata": {
    "ExecuteTime": {
     "end_time": "2025-04-24T10:22:00.796769Z",
     "start_time": "2025-04-24T10:22:00.754268Z"
    }
   },
   "cell_type": "code",
   "source": [
    "model = LogisticRegression(solver='liblinear')\n",
    "model.fit(X_train, y_train)\n",
    "evaluate_model(model, X_test, y_test)"
   ],
   "id": "9089dbb4f40dd112",
   "outputs": [
    {
     "name": "stdout",
     "output_type": "stream",
     "text": [
      "Accuracy: 0.6363636363636364\n",
      "Precision: 0.6153846153846154\n",
      "Recall: 0.7272727272727273\n",
      "F1 Score: 0.6666666666666666\n",
      "\n",
      "Classification Report:\n",
      "               precision    recall  f1-score   support\n",
      "\n",
      "           0       0.67      0.55      0.60        11\n",
      "           1       0.62      0.73      0.67        11\n",
      "\n",
      "    accuracy                           0.64        22\n",
      "   macro avg       0.64      0.64      0.63        22\n",
      "weighted avg       0.64      0.64      0.63        22\n",
      "\n",
      "[[6 5]\n",
      " [3 8]]\n"
     ]
    }
   ],
   "execution_count": 27
  },
  {
   "metadata": {
    "ExecuteTime": {
     "end_time": "2025-04-24T10:22:01.837359Z",
     "start_time": "2025-04-24T10:22:01.727045Z"
    }
   },
   "cell_type": "code",
   "source": [
    "model = SVC(kernel='linear', probability=True)\n",
    "model.fit(X_train, y_train)\n",
    "evaluate_model(model, X_test, y_test)"
   ],
   "id": "e6144f4b8a0c9f19",
   "outputs": [
    {
     "name": "stdout",
     "output_type": "stream",
     "text": [
      "Accuracy: 0.6818181818181818\n",
      "Precision: 0.6666666666666666\n",
      "Recall: 0.7272727272727273\n",
      "F1 Score: 0.6956521739130435\n",
      "\n",
      "Classification Report:\n",
      "               precision    recall  f1-score   support\n",
      "\n",
      "           0       0.70      0.64      0.67        11\n",
      "           1       0.67      0.73      0.70        11\n",
      "\n",
      "    accuracy                           0.68        22\n",
      "   macro avg       0.68      0.68      0.68        22\n",
      "weighted avg       0.68      0.68      0.68        22\n",
      "\n",
      "[[7 4]\n",
      " [3 8]]\n"
     ]
    }
   ],
   "execution_count": 28
  },
  {
   "metadata": {
    "ExecuteTime": {
     "end_time": "2025-04-24T10:22:02.575Z",
     "start_time": "2025-04-24T10:22:02.426629Z"
    }
   },
   "cell_type": "code",
   "source": [
    "model = RandomForestClassifier(n_estimators=100)\n",
    "model.fit(X_train, y_train)\n",
    "evaluate_model(model, X_test, y_test)"
   ],
   "id": "e89e26cdb456702e",
   "outputs": [
    {
     "name": "stdout",
     "output_type": "stream",
     "text": [
      "Accuracy: 0.7727272727272727\n",
      "Precision: 0.8\n",
      "Recall: 0.7272727272727273\n",
      "F1 Score: 0.7619047619047619\n",
      "\n",
      "Classification Report:\n",
      "               precision    recall  f1-score   support\n",
      "\n",
      "           0       0.75      0.82      0.78        11\n",
      "           1       0.80      0.73      0.76        11\n",
      "\n",
      "    accuracy                           0.77        22\n",
      "   macro avg       0.78      0.77      0.77        22\n",
      "weighted avg       0.78      0.77      0.77        22\n",
      "\n",
      "[[9 2]\n",
      " [3 8]]\n"
     ]
    }
   ],
   "execution_count": 29
  },
  {
   "metadata": {
    "ExecuteTime": {
     "end_time": "2025-04-24T10:22:02.658275Z",
     "start_time": "2025-04-24T10:22:02.615437Z"
    }
   },
   "cell_type": "code",
   "source": [
    "model = BernoulliNB()\n",
    "model.fit(X_train, y_train)\n",
    "evaluate_model(model, X_test, y_test)"
   ],
   "id": "cc894e9654161c95",
   "outputs": [
    {
     "name": "stdout",
     "output_type": "stream",
     "text": [
      "Accuracy: 0.7272727272727273\n",
      "Precision: 0.7272727272727273\n",
      "Recall: 0.7272727272727273\n",
      "F1 Score: 0.7272727272727273\n",
      "\n",
      "Classification Report:\n",
      "               precision    recall  f1-score   support\n",
      "\n",
      "           0       0.73      0.73      0.73        11\n",
      "           1       0.73      0.73      0.73        11\n",
      "\n",
      "    accuracy                           0.73        22\n",
      "   macro avg       0.73      0.73      0.73        22\n",
      "weighted avg       0.73      0.73      0.73        22\n",
      "\n",
      "[[8 3]\n",
      " [3 8]]\n"
     ]
    }
   ],
   "execution_count": 30
  },
  {
   "metadata": {
    "ExecuteTime": {
     "end_time": "2025-04-24T10:22:03.021364Z",
     "start_time": "2025-04-24T10:22:02.769079Z"
    }
   },
   "cell_type": "code",
   "source": [
    "model = XGBClassifier(use_label_encoder=False, eval_metric='logloss')\n",
    "model.fit(X_train, y_train)\n",
    "evaluate_model(model, X_test, y_test)"
   ],
   "id": "7476db0c6b1fff66",
   "outputs": [
    {
     "name": "stderr",
     "output_type": "stream",
     "text": [
      "/home/ezka/anaconda3/envs/vsd-linux/lib/python3.12/site-packages/xgboost/training.py:183: UserWarning: [13:22:02] WARNING: /workspace/src/learner.cc:738: \n",
      "Parameters: { \"use_label_encoder\" } are not used.\n",
      "\n",
      "  bst.update(dtrain, iteration=i, fobj=obj)\n"
     ]
    },
    {
     "name": "stdout",
     "output_type": "stream",
     "text": [
      "Accuracy: 0.8181818181818182\n",
      "Precision: 0.8181818181818182\n",
      "Recall: 0.8181818181818182\n",
      "F1 Score: 0.8181818181818182\n",
      "\n",
      "Classification Report:\n",
      "               precision    recall  f1-score   support\n",
      "\n",
      "           0       0.82      0.82      0.82        11\n",
      "           1       0.82      0.82      0.82        11\n",
      "\n",
      "    accuracy                           0.82        22\n",
      "   macro avg       0.82      0.82      0.82        22\n",
      "weighted avg       0.82      0.82      0.82        22\n",
      "\n",
      "[[9 2]\n",
      " [2 9]]\n"
     ]
    }
   ],
   "execution_count": 31
  },
  {
   "metadata": {
    "ExecuteTime": {
     "end_time": "2025-04-24T10:22:03.027816Z",
     "start_time": "2025-04-24T10:22:03.023657Z"
    }
   },
   "cell_type": "code",
   "source": "",
   "id": "5a130988f857a423",
   "outputs": [],
   "execution_count": 31
  },
  {
   "metadata": {},
   "cell_type": "code",
   "outputs": [],
   "execution_count": null,
   "source": "",
   "id": "24f24fc57472082d"
  }
 ],
 "metadata": {
  "kernelspec": {
   "display_name": "Python 3",
   "language": "python",
   "name": "python3"
  },
  "language_info": {
   "codemirror_mode": {
    "name": "ipython",
    "version": 2
   },
   "file_extension": ".py",
   "mimetype": "text/x-python",
   "name": "python",
   "nbconvert_exporter": "python",
   "pygments_lexer": "ipython2",
   "version": "2.7.6"
  }
 },
 "nbformat": 4,
 "nbformat_minor": 5
}
