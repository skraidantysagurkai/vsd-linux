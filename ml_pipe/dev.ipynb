{
 "cells": [
  {
   "cell_type": "code",
   "execution_count": null,
   "id": "48ddb617",
   "metadata": {},
   "outputs": [],
   "source": [
    "import joblib"
   ]
  },
  {
   "cell_type": "code",
   "execution_count": 8,
   "id": "71b77ee6",
   "metadata": {},
   "outputs": [],
   "source": [
    "import pickle"
   ]
  },
  {
   "cell_type": "code",
   "execution_count": 5,
   "id": "66253dee",
   "metadata": {},
   "outputs": [],
   "source": [
    "with open('../models/pca_model.pkl', 'rb') as f:\n",
    "            pca_model = joblib.load(f)"
   ]
  },
  {
   "cell_type": "code",
   "execution_count": 6,
   "id": "f9a44a96",
   "metadata": {},
   "outputs": [
    {
     "data": {
      "text/plain": [
       "10"
      ]
     },
     "execution_count": 6,
     "metadata": {},
     "output_type": "execute_result"
    }
   ],
   "source": [
    "pca_model.n_components_"
   ]
  },
  {
   "cell_type": "code",
   "execution_count": 13,
   "id": "5fea65e4",
   "metadata": {},
   "outputs": [
    {
     "name": "stderr",
     "output_type": "stream",
     "text": [
      "/tmp/ipykernel_21926/2183707375.py:2: UserWarning: [18:21:11] WARNING: /workspace/src/gbm/gbtree.cc:384: Changing updater from `grow_gpu_hist` to `grow_quantile_histmaker`.\n",
      "  xgboost_model = pickle.load(f)\n",
      "/tmp/ipykernel_21926/2183707375.py:2: UserWarning: [18:21:11] WARNING: /workspace/src/context.cc:49: No visible GPU is found, setting device to CPU.\n",
      "  xgboost_model = pickle.load(f)\n",
      "/tmp/ipykernel_21926/2183707375.py:2: UserWarning: [18:21:11] WARNING: /workspace/src/context.cc:203: XGBoost is not compiled with CUDA support.\n",
      "  xgboost_model = pickle.load(f)\n"
     ]
    }
   ],
   "source": [
    "with open('../models/xgboost_model.pkl', 'rb') as f:\n",
    "    xgboost_model = pickle.load(f)"
   ]
  },
  {
   "cell_type": "code",
   "execution_count": 15,
   "id": "5f795202",
   "metadata": {},
   "outputs": [
    {
     "data": {
      "text/plain": [
       "29"
      ]
     },
     "execution_count": 15,
     "metadata": {},
     "output_type": "execute_result"
    }
   ],
   "source": [
    "xgboost_model.n_features_in_"
   ]
  },
  {
   "cell_type": "code",
   "execution_count": null,
   "id": "e7ea810e",
   "metadata": {},
   "outputs": [],
   "source": []
  }
 ],
 "metadata": {
  "kernelspec": {
   "display_name": "env",
   "language": "python",
   "name": "python3"
  },
  "language_info": {
   "codemirror_mode": {
    "name": "ipython",
    "version": 3
   },
   "file_extension": ".py",
   "mimetype": "text/x-python",
   "name": "python",
   "nbconvert_exporter": "python",
   "pygments_lexer": "ipython3",
   "version": "3.11.2"
  }
 },
 "nbformat": 4,
 "nbformat_minor": 5
}
